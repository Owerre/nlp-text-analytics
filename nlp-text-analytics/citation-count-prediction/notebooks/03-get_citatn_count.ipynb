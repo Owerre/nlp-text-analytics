{
 "cells": [
  {
   "cell_type": "markdown",
   "metadata": {},
   "source": [
    "# Extraction of Citation Count\n",
    "The citations of each arXiv paper is extracted from [ADS](http://adsabs.harvard.edu) using its API"
   ]
  },
  {
   "cell_type": "code",
   "execution_count": 1,
   "metadata": {},
   "outputs": [],
   "source": [
    "# filter warnings\n",
    "import warnings\n",
    "warnings.filterwarnings(\"ignore\")\n",
    "\n",
    "import pandas as pd\n",
    "import ads"
   ]
  },
  {
   "cell_type": "code",
   "execution_count": 2,
   "metadata": {},
   "outputs": [],
   "source": [
    "# import custom class\n",
    "%run -i '../src/scraper.py'\n",
    "%run -i '../_ads/dev_key.py'"
   ]
  },
  {
   "cell_type": "code",
   "execution_count": 3,
   "metadata": {},
   "outputs": [],
   "source": [
    "# instantiate the class\n",
    "scraper = Scraper()"
   ]
  },
  {
   "cell_type": "code",
   "execution_count": 4,
   "metadata": {},
   "outputs": [],
   "source": [
    "# ADS token\n",
    "ads.config.token = token()"
   ]
  },
  {
   "cell_type": "markdown",
   "metadata": {},
   "source": [
    "# Load data"
   ]
  },
  {
   "cell_type": "code",
   "execution_count": 5,
   "metadata": {},
   "outputs": [
    {
     "name": "stdout",
     "output_type": "stream",
     "text": [
      "Data size: (295174, 20)\n"
     ]
    },
    {
     "data": {
      "text/html": [
       "<div>\n",
       "<style scoped>\n",
       "    .dataframe tbody tr th:only-of-type {\n",
       "        vertical-align: middle;\n",
       "    }\n",
       "\n",
       "    .dataframe tbody tr th {\n",
       "        vertical-align: top;\n",
       "    }\n",
       "\n",
       "    .dataframe thead th {\n",
       "        text-align: right;\n",
       "    }\n",
       "</style>\n",
       "<table border=\"1\" class=\"dataframe\">\n",
       "  <thead>\n",
       "    <tr style=\"text-align: right;\">\n",
       "      <th></th>\n",
       "      <th>abstract</th>\n",
       "      <th>arXiv_id</th>\n",
       "      <th>authors</th>\n",
       "      <th>categories</th>\n",
       "      <th>comments</th>\n",
       "      <th>date_created</th>\n",
       "      <th>doi</th>\n",
       "      <th>title</th>\n",
       "      <th>num_of_authors</th>\n",
       "      <th>year</th>\n",
       "      <th>month</th>\n",
       "      <th>day_of_week</th>\n",
       "      <th>num_of_pages</th>\n",
       "      <th>num_of_figures</th>\n",
       "      <th>length_of_abstr</th>\n",
       "      <th>citation_count</th>\n",
       "      <th>p_age</th>\n",
       "      <th>wday_ct</th>\n",
       "      <th>month_ct</th>\n",
       "      <th>year_ct</th>\n",
       "    </tr>\n",
       "  </thead>\n",
       "  <tbody>\n",
       "    <tr>\n",
       "      <th>0</th>\n",
       "      <td>We study the two-particle wave function of p...</td>\n",
       "      <td>704.0006</td>\n",
       "      <td>['PongY. H.', 'LawC. K.']</td>\n",
       "      <td>['cond-mat.mes-hall']</td>\n",
       "      <td>6 pages, 4 figures, accepted by PRA</td>\n",
       "      <td>2007-03-31</td>\n",
       "      <td>10.1103/PhysRevA.75.043613</td>\n",
       "      <td>Bosonic characters of atomic Cooper pairs acro...</td>\n",
       "      <td>2</td>\n",
       "      <td>2007</td>\n",
       "      <td>March</td>\n",
       "      <td>Saturday</td>\n",
       "      <td>6.0</td>\n",
       "      <td>4.0</td>\n",
       "      <td>918</td>\n",
       "      <td>13</td>\n",
       "      <td>13</td>\n",
       "      <td>14925</td>\n",
       "      <td>25778</td>\n",
       "      <td>10406</td>\n",
       "    </tr>\n",
       "    <tr>\n",
       "      <th>1</th>\n",
       "      <td>A general formulation was developed to repre...</td>\n",
       "      <td>704.0008</td>\n",
       "      <td>['SwiftDamian C.']</td>\n",
       "      <td>['cond-mat.mtrl-sci']</td>\n",
       "      <td>Minor corrections</td>\n",
       "      <td>2007-03-31</td>\n",
       "      <td>10.1063/1.2975338</td>\n",
       "      <td>Numerical solution of shock and ramp compressi...</td>\n",
       "      <td>1</td>\n",
       "      <td>2007</td>\n",
       "      <td>March</td>\n",
       "      <td>Saturday</td>\n",
       "      <td>NaN</td>\n",
       "      <td>NaN</td>\n",
       "      <td>949</td>\n",
       "      <td>12</td>\n",
       "      <td>13</td>\n",
       "      <td>14925</td>\n",
       "      <td>25778</td>\n",
       "      <td>10406</td>\n",
       "    </tr>\n",
       "    <tr>\n",
       "      <th>2</th>\n",
       "      <td>We present recent advances in understanding ...</td>\n",
       "      <td>704.0025</td>\n",
       "      <td>[\"MishchenkoA. S.CREST, Japan Science and Tech...</td>\n",
       "      <td>['cond-mat.str-el', 'cond-mat.stat-mech']</td>\n",
       "      <td>41 pages, 13 figures, in \"Polarons in Advanced...</td>\n",
       "      <td>2007-04-02</td>\n",
       "      <td>10.1007/978-1-4020-6348-0_12</td>\n",
       "      <td>Spectroscopic Properties of Polarons in Strong...</td>\n",
       "      <td>2</td>\n",
       "      <td>2007</td>\n",
       "      <td>April</td>\n",
       "      <td>Monday</td>\n",
       "      <td>41.0</td>\n",
       "      <td>13.0</td>\n",
       "      <td>655</td>\n",
       "      <td>5</td>\n",
       "      <td>13</td>\n",
       "      <td>54239</td>\n",
       "      <td>23902</td>\n",
       "      <td>10406</td>\n",
       "    </tr>\n",
       "    <tr>\n",
       "      <th>3</th>\n",
       "      <td>We describe a peculiar fine structure acquir...</td>\n",
       "      <td>704.0027</td>\n",
       "      <td>['GoerbigM. O.', 'FuchsJ. -N.', 'KechedzhiK.',...</td>\n",
       "      <td>['cond-mat.mes-hall']</td>\n",
       "      <td>4 pages, 2 figures; mistakes due to an erroneo...</td>\n",
       "      <td>2007-04-02</td>\n",
       "      <td>10.1103/PhysRevLett.99.087402</td>\n",
       "      <td>Filling-Factor-Dependent Magnetophonon Resonan...</td>\n",
       "      <td>4</td>\n",
       "      <td>2007</td>\n",
       "      <td>April</td>\n",
       "      <td>Monday</td>\n",
       "      <td>4.0</td>\n",
       "      <td>2.0</td>\n",
       "      <td>618</td>\n",
       "      <td>70</td>\n",
       "      <td>13</td>\n",
       "      <td>54239</td>\n",
       "      <td>23902</td>\n",
       "      <td>10406</td>\n",
       "    </tr>\n",
       "    <tr>\n",
       "      <th>4</th>\n",
       "      <td>We investigate the effect of tuning the phon...</td>\n",
       "      <td>704.003</td>\n",
       "      <td>['HagueJ. P.', \"d'AmbrumenilN.\"]</td>\n",
       "      <td>['cond-mat.str-el']</td>\n",
       "      <td>Reprint to improve access. 13 pages, 6 figures.</td>\n",
       "      <td>2007-03-31</td>\n",
       "      <td>10.1007/s10909-005-6013-6</td>\n",
       "      <td>Tuning correlation effects with electron-phono...</td>\n",
       "      <td>2</td>\n",
       "      <td>2007</td>\n",
       "      <td>March</td>\n",
       "      <td>Saturday</td>\n",
       "      <td>13.0</td>\n",
       "      <td>6.0</td>\n",
       "      <td>779</td>\n",
       "      <td>2</td>\n",
       "      <td>13</td>\n",
       "      <td>14925</td>\n",
       "      <td>25778</td>\n",
       "      <td>10406</td>\n",
       "    </tr>\n",
       "  </tbody>\n",
       "</table>\n",
       "</div>"
      ],
      "text/plain": [
       "                                            abstract  arXiv_id  \\\n",
       "0    We study the two-particle wave function of p...  704.0006   \n",
       "1    A general formulation was developed to repre...  704.0008   \n",
       "2    We present recent advances in understanding ...  704.0025   \n",
       "3    We describe a peculiar fine structure acquir...  704.0027   \n",
       "4    We investigate the effect of tuning the phon...   704.003   \n",
       "\n",
       "                                             authors  \\\n",
       "0                          ['PongY. H.', 'LawC. K.']   \n",
       "1                                 ['SwiftDamian C.']   \n",
       "2  [\"MishchenkoA. S.CREST, Japan Science and Tech...   \n",
       "3  ['GoerbigM. O.', 'FuchsJ. -N.', 'KechedzhiK.',...   \n",
       "4                   ['HagueJ. P.', \"d'AmbrumenilN.\"]   \n",
       "\n",
       "                                  categories  \\\n",
       "0                      ['cond-mat.mes-hall']   \n",
       "1                      ['cond-mat.mtrl-sci']   \n",
       "2  ['cond-mat.str-el', 'cond-mat.stat-mech']   \n",
       "3                      ['cond-mat.mes-hall']   \n",
       "4                        ['cond-mat.str-el']   \n",
       "\n",
       "                                            comments date_created  \\\n",
       "0                6 pages, 4 figures, accepted by PRA   2007-03-31   \n",
       "1                                  Minor corrections   2007-03-31   \n",
       "2  41 pages, 13 figures, in \"Polarons in Advanced...   2007-04-02   \n",
       "3  4 pages, 2 figures; mistakes due to an erroneo...   2007-04-02   \n",
       "4    Reprint to improve access. 13 pages, 6 figures.   2007-03-31   \n",
       "\n",
       "                             doi  \\\n",
       "0     10.1103/PhysRevA.75.043613   \n",
       "1              10.1063/1.2975338   \n",
       "2   10.1007/978-1-4020-6348-0_12   \n",
       "3  10.1103/PhysRevLett.99.087402   \n",
       "4      10.1007/s10909-005-6013-6   \n",
       "\n",
       "                                               title  num_of_authors  year  \\\n",
       "0  Bosonic characters of atomic Cooper pairs acro...               2  2007   \n",
       "1  Numerical solution of shock and ramp compressi...               1  2007   \n",
       "2  Spectroscopic Properties of Polarons in Strong...               2  2007   \n",
       "3  Filling-Factor-Dependent Magnetophonon Resonan...               4  2007   \n",
       "4  Tuning correlation effects with electron-phono...               2  2007   \n",
       "\n",
       "   month day_of_week  num_of_pages  num_of_figures  length_of_abstr  \\\n",
       "0  March    Saturday           6.0             4.0              918   \n",
       "1  March    Saturday           NaN             NaN              949   \n",
       "2  April      Monday          41.0            13.0              655   \n",
       "3  April      Monday           4.0             2.0              618   \n",
       "4  March    Saturday          13.0             6.0              779   \n",
       "\n",
       "   citation_count  p_age  wday_ct  month_ct  year_ct  \n",
       "0              13     13    14925     25778    10406  \n",
       "1              12     13    14925     25778    10406  \n",
       "2               5     13    54239     23902    10406  \n",
       "3              70     13    54239     23902    10406  \n",
       "4               2     13    14925     25778    10406  "
      ]
     },
     "execution_count": 5,
     "metadata": {},
     "output_type": "execute_result"
    }
   ],
   "source": [
    "df = pd.read_csv(\"../data/data_processed.csv\", sep = '\\t')\n",
    "print(\"Data size:\", df.shape)\n",
    "df.head()"
   ]
  },
  {
   "cell_type": "markdown",
   "metadata": {},
   "source": [
    "# Extract citation count from ads"
   ]
  },
  {
   "cell_type": "code",
   "execution_count": 6,
   "metadata": {},
   "outputs": [],
   "source": [
    "df['citation_count'].iloc[0:4500] = df['arXiv_id'].iloc[0:4500].apply(scraper.get_cite_ct)"
   ]
  },
  {
   "cell_type": "code",
   "execution_count": 7,
   "metadata": {
    "tags": []
   },
   "outputs": [],
   "source": [
    "df.to_csv('../data/data_processed.csv', sep = '\\t', index=False)"
   ]
  },
  {
   "cell_type": "code",
   "execution_count": 8,
   "metadata": {},
   "outputs": [],
   "source": [
    "# def get_cite_ct_ratelimit(arXiv_id):\n",
    "#     r = ads.RateLimits('SearchQuery')\n",
    "#     \"\"\"This function outputs the citation citation count of each arXiv paper from the ADS API\"\"\"\n",
    "#     q = list(ads.SearchQuery(arXiv=arXiv_id, fl=['id', 'bibcode', 'title', 'citation_count']))\n",
    "#     for paper in q:\n",
    "#         cite_count = paper.citation_count\n",
    "#     return [r.limits, cite_count]\n",
    "\n",
    "# get_cite_ct_ratelimit('0704.0006')"
   ]
  },
  {
   "cell_type": "code",
   "execution_count": null,
   "metadata": {},
   "outputs": [],
   "source": []
  }
 ],
 "metadata": {
  "kernelspec": {
   "display_name": "Python 3",
   "language": "python",
   "name": "python3"
  },
  "language_info": {
   "codemirror_mode": {
    "name": "ipython",
    "version": 3
   },
   "file_extension": ".py",
   "mimetype": "text/x-python",
   "name": "python",
   "nbconvert_exporter": "python",
   "pygments_lexer": "ipython3",
   "version": "3.9.4"
  },
  "metadata": {
   "interpreter": {
    "hash": "aee8b7b246df8f9039afb4144a1f6fd8d2ca17a180786b69acc140d282b71a49"
   }
  }
 },
 "nbformat": 4,
 "nbformat_minor": 4
}
