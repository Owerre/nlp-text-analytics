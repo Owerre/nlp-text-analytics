{
 "cells": [
  {
   "cell_type": "markdown",
   "metadata": {},
   "source": [
    "# Data Pre-Processing"
   ]
  },
  {
   "cell_type": "code",
   "execution_count": 1,
   "metadata": {},
   "outputs": [],
   "source": [
    "%matplotlib inline\n",
    "\n",
    "# filter warnings\n",
    "import warnings\n",
    "warnings.filterwarnings(\"ignore\")\n",
    "\n",
    "import pandas as pd"
   ]
  },
  {
   "cell_type": "code",
   "execution_count": 2,
   "metadata": {},
   "outputs": [],
   "source": [
    "# Import custom class\n",
    "%run -i '../src/helper/scraper.py'"
   ]
  },
  {
   "cell_type": "code",
   "execution_count": 3,
   "metadata": {},
   "outputs": [],
   "source": [
    "# Instantiate the class\n",
    "scraper = Scraper()"
   ]
  },
  {
   "cell_type": "code",
   "execution_count": 7,
   "metadata": {},
   "outputs": [
    {
     "name": "stdout",
     "output_type": "stream",
     "text": [
      "Data size: (295174, 8)\n"
     ]
    },
    {
     "data": {
      "text/html": [
       "<div>\n",
       "<style scoped>\n",
       "    .dataframe tbody tr th:only-of-type {\n",
       "        vertical-align: middle;\n",
       "    }\n",
       "\n",
       "    .dataframe tbody tr th {\n",
       "        vertical-align: top;\n",
       "    }\n",
       "\n",
       "    .dataframe thead th {\n",
       "        text-align: right;\n",
       "    }\n",
       "</style>\n",
       "<table border=\"1\" class=\"dataframe\">\n",
       "  <thead>\n",
       "    <tr style=\"text-align: right;\">\n",
       "      <th></th>\n",
       "      <th>abstract</th>\n",
       "      <th>arXiv_id</th>\n",
       "      <th>authors</th>\n",
       "      <th>categories</th>\n",
       "      <th>comments</th>\n",
       "      <th>date_created</th>\n",
       "      <th>doi</th>\n",
       "      <th>title</th>\n",
       "    </tr>\n",
       "  </thead>\n",
       "  <tbody>\n",
       "    <tr>\n",
       "      <th>0</th>\n",
       "      <td>We study the two-particle wave function of p...</td>\n",
       "      <td>0704.0006</td>\n",
       "      <td>[PongY. H., LawC. K.]</td>\n",
       "      <td>[cond-mat.mes-hall]</td>\n",
       "      <td>6 pages, 4 figures, accepted by PRA</td>\n",
       "      <td>2007-03-31</td>\n",
       "      <td>10.1103/PhysRevA.75.043613</td>\n",
       "      <td>Bosonic characters of atomic Cooper pairs acro...</td>\n",
       "    </tr>\n",
       "    <tr>\n",
       "      <th>1</th>\n",
       "      <td>A general formulation was developed to repre...</td>\n",
       "      <td>0704.0008</td>\n",
       "      <td>[SwiftDamian C.]</td>\n",
       "      <td>[cond-mat.mtrl-sci]</td>\n",
       "      <td>Minor corrections</td>\n",
       "      <td>2007-03-31</td>\n",
       "      <td>10.1063/1.2975338</td>\n",
       "      <td>Numerical solution of shock and ramp compressi...</td>\n",
       "    </tr>\n",
       "    <tr>\n",
       "      <th>2</th>\n",
       "      <td>We present recent advances in understanding ...</td>\n",
       "      <td>0704.0025</td>\n",
       "      <td>[MishchenkoA. S.CREST, Japan Science and Techn...</td>\n",
       "      <td>[cond-mat.str-el, cond-mat.stat-mech]</td>\n",
       "      <td>41 pages, 13 figures, in \"Polarons in Advanced...</td>\n",
       "      <td>2007-04-02</td>\n",
       "      <td>10.1007/978-1-4020-6348-0_12</td>\n",
       "      <td>Spectroscopic Properties of Polarons in Strong...</td>\n",
       "    </tr>\n",
       "    <tr>\n",
       "      <th>3</th>\n",
       "      <td>We describe a peculiar fine structure acquir...</td>\n",
       "      <td>0704.0027</td>\n",
       "      <td>[GoerbigM. O., FuchsJ. -N., KechedzhiK., Fal'k...</td>\n",
       "      <td>[cond-mat.mes-hall]</td>\n",
       "      <td>4 pages, 2 figures; mistakes due to an erroneo...</td>\n",
       "      <td>2007-04-02</td>\n",
       "      <td>10.1103/PhysRevLett.99.087402</td>\n",
       "      <td>Filling-Factor-Dependent Magnetophonon Resonan...</td>\n",
       "    </tr>\n",
       "    <tr>\n",
       "      <th>4</th>\n",
       "      <td>We investigate the effect of tuning the phon...</td>\n",
       "      <td>0704.0030</td>\n",
       "      <td>[HagueJ. P., d'AmbrumenilN.]</td>\n",
       "      <td>[cond-mat.str-el]</td>\n",
       "      <td>Reprint to improve access. 13 pages, 6 figures.</td>\n",
       "      <td>2007-03-31</td>\n",
       "      <td>10.1007/s10909-005-6013-6</td>\n",
       "      <td>Tuning correlation effects with electron-phono...</td>\n",
       "    </tr>\n",
       "  </tbody>\n",
       "</table>\n",
       "</div>"
      ],
      "text/plain": [
       "                                            abstract   arXiv_id  \\\n",
       "0    We study the two-particle wave function of p...  0704.0006   \n",
       "1    A general formulation was developed to repre...  0704.0008   \n",
       "2    We present recent advances in understanding ...  0704.0025   \n",
       "3    We describe a peculiar fine structure acquir...  0704.0027   \n",
       "4    We investigate the effect of tuning the phon...  0704.0030   \n",
       "\n",
       "                                             authors  \\\n",
       "0                              [PongY. H., LawC. K.]   \n",
       "1                                   [SwiftDamian C.]   \n",
       "2  [MishchenkoA. S.CREST, Japan Science and Techn...   \n",
       "3  [GoerbigM. O., FuchsJ. -N., KechedzhiK., Fal'k...   \n",
       "4                       [HagueJ. P., d'AmbrumenilN.]   \n",
       "\n",
       "                              categories  \\\n",
       "0                    [cond-mat.mes-hall]   \n",
       "1                    [cond-mat.mtrl-sci]   \n",
       "2  [cond-mat.str-el, cond-mat.stat-mech]   \n",
       "3                    [cond-mat.mes-hall]   \n",
       "4                      [cond-mat.str-el]   \n",
       "\n",
       "                                            comments date_created  \\\n",
       "0                6 pages, 4 figures, accepted by PRA   2007-03-31   \n",
       "1                                  Minor corrections   2007-03-31   \n",
       "2  41 pages, 13 figures, in \"Polarons in Advanced...   2007-04-02   \n",
       "3  4 pages, 2 figures; mistakes due to an erroneo...   2007-04-02   \n",
       "4    Reprint to improve access. 13 pages, 6 figures.   2007-03-31   \n",
       "\n",
       "                             doi  \\\n",
       "0     10.1103/PhysRevA.75.043613   \n",
       "1              10.1063/1.2975338   \n",
       "2   10.1007/978-1-4020-6348-0_12   \n",
       "3  10.1103/PhysRevLett.99.087402   \n",
       "4      10.1007/s10909-005-6013-6   \n",
       "\n",
       "                                               title  \n",
       "0  Bosonic characters of atomic Cooper pairs acro...  \n",
       "1  Numerical solution of shock and ramp compressi...  \n",
       "2  Spectroscopic Properties of Polarons in Strong...  \n",
       "3  Filling-Factor-Dependent Magnetophonon Resonan...  \n",
       "4  Tuning correlation effects with electron-phono...  "
      ]
     },
     "execution_count": 7,
     "metadata": {},
     "output_type": "execute_result"
    }
   ],
   "source": [
    "df = pd.read_csv('../data/raw_data.csv', sep = '\\t', low_memory= False)\n",
    "print('Data size:', df.shape)\n",
    "df.head()"
   ]
  },
  {
   "cell_type": "code",
   "execution_count": 8,
   "metadata": {},
   "outputs": [
    {
     "name": "stdout",
     "output_type": "stream",
     "text": [
      "<class 'pandas.core.frame.DataFrame'>\n",
      "RangeIndex: 295174 entries, 0 to 295173\n",
      "Data columns (total 8 columns):\n",
      " #   Column        Non-Null Count   Dtype \n",
      "---  ------        --------------   ----- \n",
      " 0   abstract      295174 non-null  object\n",
      " 1   arXiv_id      295174 non-null  object\n",
      " 2   authors       295174 non-null  object\n",
      " 3   categories    295174 non-null  object\n",
      " 4   comments      240949 non-null  object\n",
      " 5   date_created  295174 non-null  object\n",
      " 6   doi           234381 non-null  object\n",
      " 7   title         295174 non-null  object\n",
      "dtypes: object(8)\n",
      "memory usage: 18.0+ MB\n"
     ]
    }
   ],
   "source": [
    "df.info()"
   ]
  },
  {
   "cell_type": "code",
   "execution_count": 10,
   "metadata": {},
   "outputs": [],
   "source": [
    "# extract number of authors\n",
    "df['num_of_authors'] = df['authors'].apply(lambda x: len(x))"
   ]
  },
  {
   "cell_type": "code",
   "execution_count": null,
   "metadata": {},
   "outputs": [],
   "source": [
    "# add length of abtract\n",
    "df['length_of_abstr'] = df.abstract.apply(len)"
   ]
  },
  {
   "cell_type": "code",
   "execution_count": 12,
   "metadata": {},
   "outputs": [],
   "source": [
    "# convert date created to datetime format\n",
    "df.date_created = pd.to_datetime(df.date_created) \n",
    "\n",
    "df['year'] = df.date_created.dt.year # add year as a column\n",
    "df['month'] = df.date_created.dt.month_name()  # add month as a column\n",
    "df['day_of_week'] = df.date_created.dt.day_name() # add day of week as a column"
   ]
  },
  {
   "cell_type": "code",
   "execution_count": null,
   "metadata": {},
   "outputs": [],
   "source": [
    "df['p_age'] = 2020 - df['year'] # paper's age"
   ]
  },
  {
   "cell_type": "code",
   "execution_count": 13,
   "metadata": {},
   "outputs": [
    {
     "name": "stdout",
     "output_type": "stream",
     "text": [
      "<class 'pandas.core.frame.DataFrame'>\n",
      "RangeIndex: 295174 entries, 0 to 295173\n",
      "Data columns (total 12 columns):\n",
      " #   Column          Non-Null Count   Dtype         \n",
      "---  ------          --------------   -----         \n",
      " 0   abstract        295174 non-null  object        \n",
      " 1   arXiv_id        295174 non-null  object        \n",
      " 2   authors         295174 non-null  object        \n",
      " 3   categories      295174 non-null  object        \n",
      " 4   comments        240949 non-null  object        \n",
      " 5   date_created    295174 non-null  datetime64[ns]\n",
      " 6   doi             234381 non-null  object        \n",
      " 7   title           295174 non-null  object        \n",
      " 8   num_of_authors  295174 non-null  int64         \n",
      " 9   year            295174 non-null  int64         \n",
      " 10  month           295174 non-null  object        \n",
      " 11  day_of_week     295174 non-null  object        \n",
      "dtypes: datetime64[ns](1), int64(2), object(9)\n",
      "memory usage: 27.0+ MB\n"
     ]
    }
   ],
   "source": [
    "df.info()"
   ]
  },
  {
   "cell_type": "code",
   "execution_count": null,
   "metadata": {},
   "outputs": [],
   "source": [
    "# replace None values with np.nan\n",
    "df[['comments', 'doi']] = df[['comments', 'doi']].replace({None: np.nan}) "
   ]
  },
  {
   "cell_type": "code",
   "execution_count": 14,
   "metadata": {},
   "outputs": [],
   "source": [
    "df = df.fillna(\" \")"
   ]
  },
  {
   "cell_type": "code",
   "execution_count": 15,
   "metadata": {},
   "outputs": [],
   "source": [
    "# extract number of pages and figures\n",
    "df['num_of_pages'] = [scraper.search_comments(df.comments[s])[0] for s in range(len(df.comments))]\n",
    "df['num_of_figures'] = [scraper.search_comments(df.comments[s])[1] for s in range(len(df.comments))]"
   ]
  },
  {
   "cell_type": "code",
   "execution_count": null,
   "metadata": {},
   "outputs": [],
   "source": [
    "df['citation_count'] = 0 # intialize citation counts to 0"
   ]
  },
  {
   "cell_type": "code",
   "execution_count": 17,
   "metadata": {},
   "outputs": [],
   "source": [
    "# save as csv\n",
    "df.to_csv('../data/raw_data2.csv', sep = '\\t', index=False)"
   ]
  },
  {
   "cell_type": "code",
   "execution_count": null,
   "metadata": {},
   "outputs": [],
   "source": []
  }
 ],
 "metadata": {
  "kernelspec": {
   "display_name": "Python 3",
   "language": "python",
   "name": "python3"
  },
  "language_info": {
   "codemirror_mode": {
    "name": "ipython",
    "version": 3
   },
   "file_extension": ".py",
   "mimetype": "text/x-python",
   "name": "python",
   "nbconvert_exporter": "python",
   "pygments_lexer": "ipython3",
   "version": "3.9.4"
  },
  "metadata": {
   "interpreter": {
    "hash": "aee8b7b246df8f9039afb4144a1f6fd8d2ca17a180786b69acc140d282b71a49"
   }
  }
 },
 "nbformat": 4,
 "nbformat_minor": 4
}
