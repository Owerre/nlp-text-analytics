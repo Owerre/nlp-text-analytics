{
 "cells": [
  {
   "cell_type": "markdown",
   "metadata": {},
   "source": [
    "# Topic Modeling"
   ]
  },
  {
   "cell_type": "code",
   "execution_count": 1,
   "metadata": {},
   "outputs": [],
   "source": [
    "%matplotlib inline\n",
    "\n",
    "# filter warnings\n",
    "import warnings\n",
    "warnings.filterwarnings(\"ignore\")\n",
    "\n",
    "import pandas as pd\n",
    "import numpy as np\n",
    "import matplotlib.pyplot as plt\n",
    "import seaborn as sns\n",
    "import joblib\n",
    "import gensim\n",
    "import pyLDAvis.gensim_models\n",
    "from gensim import corpora, models\n",
    "from gensim.models import CoherenceModel, LdaModel, LdaMulticore\n",
    "from sklearn.decomposition import LatentDirichletAllocation as LDA\n",
    "\n",
    "plt.rcParams.update({'font.size': 18})"
   ]
  },
  {
   "cell_type": "code",
   "execution_count": 4,
   "metadata": {},
   "outputs": [],
   "source": [
    "# import custom class\n",
    "%run -i '../src/helper/text_preprocessing.py'"
   ]
  },
  {
   "cell_type": "code",
   "execution_count": 5,
   "metadata": {},
   "outputs": [],
   "source": [
    "# instantiate the class\n",
    "text_tf = TextPreprocessing()"
   ]
  },
  {
   "cell_type": "markdown",
   "metadata": {},
   "source": [
    "# Load data"
   ]
  },
  {
   "cell_type": "code",
   "execution_count": 6,
   "metadata": {},
   "outputs": [
    {
     "name": "stdout",
     "output_type": "stream",
     "text": [
      "Data size (295174, 20)\n"
     ]
    },
    {
     "data": {
      "text/html": [
       "<div>\n",
       "<style scoped>\n",
       "    .dataframe tbody tr th:only-of-type {\n",
       "        vertical-align: middle;\n",
       "    }\n",
       "\n",
       "    .dataframe tbody tr th {\n",
       "        vertical-align: top;\n",
       "    }\n",
       "\n",
       "    .dataframe thead th {\n",
       "        text-align: right;\n",
       "    }\n",
       "</style>\n",
       "<table border=\"1\" class=\"dataframe\">\n",
       "  <thead>\n",
       "    <tr style=\"text-align: right;\">\n",
       "      <th></th>\n",
       "      <th>title</th>\n",
       "      <th>abstract</th>\n",
       "      <th>authors</th>\n",
       "      <th>arXiv_id</th>\n",
       "      <th>year</th>\n",
       "    </tr>\n",
       "  </thead>\n",
       "  <tbody>\n",
       "    <tr>\n",
       "      <th>0</th>\n",
       "      <td>Bosonic characters of atomic Cooper pairs acro...</td>\n",
       "      <td>We study the two-particle wave function of p...</td>\n",
       "      <td>['PongY. H.', 'LawC. K.']</td>\n",
       "      <td>704.0006</td>\n",
       "      <td>2007</td>\n",
       "    </tr>\n",
       "    <tr>\n",
       "      <th>1</th>\n",
       "      <td>Numerical solution of shock and ramp compressi...</td>\n",
       "      <td>A general formulation was developed to repre...</td>\n",
       "      <td>['SwiftDamian C.']</td>\n",
       "      <td>704.0008</td>\n",
       "      <td>2007</td>\n",
       "    </tr>\n",
       "    <tr>\n",
       "      <th>2</th>\n",
       "      <td>Spectroscopic Properties of Polarons in Strong...</td>\n",
       "      <td>We present recent advances in understanding ...</td>\n",
       "      <td>[\"MishchenkoA. S.CREST, Japan Science and Tech...</td>\n",
       "      <td>704.0025</td>\n",
       "      <td>2007</td>\n",
       "    </tr>\n",
       "    <tr>\n",
       "      <th>3</th>\n",
       "      <td>Filling-Factor-Dependent Magnetophonon Resonan...</td>\n",
       "      <td>We describe a peculiar fine structure acquir...</td>\n",
       "      <td>['GoerbigM. O.', 'FuchsJ. -N.', 'KechedzhiK.',...</td>\n",
       "      <td>704.0027</td>\n",
       "      <td>2007</td>\n",
       "    </tr>\n",
       "    <tr>\n",
       "      <th>4</th>\n",
       "      <td>Tuning correlation effects with electron-phono...</td>\n",
       "      <td>We investigate the effect of tuning the phon...</td>\n",
       "      <td>['HagueJ. P.', \"d'AmbrumenilN.\"]</td>\n",
       "      <td>704.003</td>\n",
       "      <td>2007</td>\n",
       "    </tr>\n",
       "  </tbody>\n",
       "</table>\n",
       "</div>"
      ],
      "text/plain": [
       "                                               title  \\\n",
       "0  Bosonic characters of atomic Cooper pairs acro...   \n",
       "1  Numerical solution of shock and ramp compressi...   \n",
       "2  Spectroscopic Properties of Polarons in Strong...   \n",
       "3  Filling-Factor-Dependent Magnetophonon Resonan...   \n",
       "4  Tuning correlation effects with electron-phono...   \n",
       "\n",
       "                                            abstract  \\\n",
       "0    We study the two-particle wave function of p...   \n",
       "1    A general formulation was developed to repre...   \n",
       "2    We present recent advances in understanding ...   \n",
       "3    We describe a peculiar fine structure acquir...   \n",
       "4    We investigate the effect of tuning the phon...   \n",
       "\n",
       "                                             authors  arXiv_id  year  \n",
       "0                          ['PongY. H.', 'LawC. K.']  704.0006  2007  \n",
       "1                                 ['SwiftDamian C.']  704.0008  2007  \n",
       "2  [\"MishchenkoA. S.CREST, Japan Science and Tech...  704.0025  2007  \n",
       "3  ['GoerbigM. O.', 'FuchsJ. -N.', 'KechedzhiK.',...  704.0027  2007  \n",
       "4                   ['HagueJ. P.', \"d'AmbrumenilN.\"]   704.003  2007  "
      ]
     },
     "execution_count": 6,
     "metadata": {},
     "output_type": "execute_result"
    }
   ],
   "source": [
    "df = pd.read_csv('../data/data_processed.csv', sep = '\\t')\n",
    "print('Data size', df.shape)\n",
    "cols = ['title', 'abstract', 'authors', 'arXiv_id',  'year']\n",
    "df[cols].head()"
   ]
  },
  {
   "cell_type": "code",
   "execution_count": 5,
   "metadata": {},
   "outputs": [
    {
     "name": "stdout",
     "output_type": "stream",
     "text": [
      "Data size (13078, 17)\n"
     ]
    }
   ],
   "source": [
    "# extract papers posted on a specific year\n",
    "year = 2010\n",
    "df_model = df.copy()[df.year == year].reset_index(drop=True)\n",
    "print('Data size', df_model.shape)"
   ]
  },
  {
   "cell_type": "code",
   "execution_count": 6,
   "metadata": {},
   "outputs": [],
   "source": [
    "# join the title & abstract\n",
    "df_model['docs'] = df_model['abstract'] + df_model['title']"
   ]
  },
  {
   "cell_type": "markdown",
   "metadata": {},
   "source": [
    "# 1. LDA with scikit-learn"
   ]
  },
  {
   "cell_type": "code",
   "execution_count": 9,
   "metadata": {},
   "outputs": [
    {
     "name": "stdout",
     "output_type": "stream",
     "text": [
      "Data size of document-term matrix: (13078, 119857)\n"
     ]
    }
   ],
   "source": [
    "# bow vector\n",
    "X, vocab  = text_tf.bow_vector(df_model, text_col='docs')\n",
    "print('Data size of bow vector:', X.shape)"
   ]
  },
  {
   "cell_type": "code",
   "execution_count": 10,
   "metadata": {},
   "outputs": [
    {
     "name": "stdout",
     "output_type": "stream",
     "text": [
      "LDA model size: (20, 119857)\n"
     ]
    }
   ],
   "source": [
    "# LDA with n-topics\n",
    "lda = LDA(n_components = 20, learning_method = 'batch', random_state = 42) \n",
    "lda.fit(X) # fit model\n",
    "joblib.dump(lda, '../data/lda.pkl') # save trained model\n",
    "print(\"LDA model size:\", lda.components_.shape)"
   ]
  },
  {
   "cell_type": "code",
   "execution_count": 11,
   "metadata": {},
   "outputs": [
    {
     "name": "stdout",
     "output_type": "stream",
     "text": [
      "Topic 0: phase vortex majorana entropy liquid nonabelian quantum value spectrum scatter\n",
      "Topic 1: phase transition structure model energy surface band density property polymer\n",
      "Topic 2: particle system model dynamic transition theory time density phase state\n",
      "Topic 3: graphene electron transport effect layer energy device electronic tunnel surface\n",
      "Topic 4: spin model soliton interaction quantum temperature dynamic glass measurement system\n",
      "Topic 5: quantum system state model spin interaction theory equation dynamic lattice\n",
      "Topic 6: grain boundary system measure index force order parameter material present\n",
      "Topic 7: model critical percolation scale system equation exponent distribution method also\n",
      "Topic 8: field surface scatter electron effect electric state interaction spin increase\n",
      "Topic 9: state field magnetic model spin quantum effect couple system hall\n",
      "Topic 10: random polymer walk distribution dynamic method matrix simulation scale analysis\n",
      "Topic 11: function wave energy equation system distribution scatter approach potential method\n",
      "Topic 12: theory spin model charge film surface topological state structure mode\n",
      "Topic 13: field surface model pulse effect method spin quantum well defect\n",
      "Topic 14: method energy model function particle obtain lattice state random fractal\n",
      "Topic 15: model surface transition glass point scale topological state interface dirac\n",
      "Topic 16: network node model structure dynamic complex degree graph number topology\n",
      "Topic 17: quantum couple photon model frequency cavity atom field force single\n",
      "Topic 18: phase temperature magnetic transition order state field spin model effect\n",
      "Topic 19: time diffusion particle motion equation brownian dynamic structure fluid state\n"
     ]
    }
   ],
   "source": [
    "topics = ['topic{}'.format(i) for i in range(lda.components_.shape[0])]\n",
    "components = pd.DataFrame(lda.components_.T, index=vocab, columns = topics)/len(X)\n",
    "n_top_words = 10\n",
    "for i, topic_dist in enumerate(topics):\n",
    "    topic_words = components[topics[i]].sort_values(ascending = False)[:n_top_words].index\n",
    "    print('Topic {}: {}'.format(i, ' '.join(topic_words)))"
   ]
  },
  {
   "cell_type": "code",
   "execution_count": 12,
   "metadata": {},
   "outputs": [],
   "source": [
    "lda_model = joblib.load('../data/lda.pkl') # load trained LDA model\n",
    "topic_vector = lda_model.transform(X) # extract the topic vector"
   ]
  },
  {
   "cell_type": "code",
   "execution_count": 13,
   "metadata": {},
   "outputs": [
    {
     "data": {
      "text/html": [
       "<div>\n",
       "<style scoped>\n",
       "    .dataframe tbody tr th:only-of-type {\n",
       "        vertical-align: middle;\n",
       "    }\n",
       "\n",
       "    .dataframe tbody tr th {\n",
       "        vertical-align: top;\n",
       "    }\n",
       "\n",
       "    .dataframe thead th {\n",
       "        text-align: right;\n",
       "    }\n",
       "</style>\n",
       "<table border=\"1\" class=\"dataframe\">\n",
       "  <thead>\n",
       "    <tr style=\"text-align: right;\">\n",
       "      <th></th>\n",
       "      <th>arXiv_id</th>\n",
       "      <th>topic0</th>\n",
       "      <th>topic1</th>\n",
       "      <th>topic2</th>\n",
       "      <th>topic3</th>\n",
       "      <th>topic4</th>\n",
       "      <th>topic5</th>\n",
       "      <th>topic6</th>\n",
       "      <th>topic7</th>\n",
       "      <th>topic8</th>\n",
       "      <th>...</th>\n",
       "      <th>topic10</th>\n",
       "      <th>topic11</th>\n",
       "      <th>topic12</th>\n",
       "      <th>topic13</th>\n",
       "      <th>topic14</th>\n",
       "      <th>topic15</th>\n",
       "      <th>topic16</th>\n",
       "      <th>topic17</th>\n",
       "      <th>topic18</th>\n",
       "      <th>topic19</th>\n",
       "    </tr>\n",
       "  </thead>\n",
       "  <tbody>\n",
       "    <tr>\n",
       "      <th>0</th>\n",
       "      <td>1001.0057</td>\n",
       "      <td>0.00</td>\n",
       "      <td>0.0</td>\n",
       "      <td>0.00</td>\n",
       "      <td>0.00</td>\n",
       "      <td>0.0</td>\n",
       "      <td>0.00</td>\n",
       "      <td>0.0</td>\n",
       "      <td>0.00</td>\n",
       "      <td>0.00</td>\n",
       "      <td>...</td>\n",
       "      <td>0.0</td>\n",
       "      <td>0.0</td>\n",
       "      <td>0.00</td>\n",
       "      <td>0.0</td>\n",
       "      <td>0.00</td>\n",
       "      <td>0.00</td>\n",
       "      <td>0.00</td>\n",
       "      <td>0.00</td>\n",
       "      <td>0.14</td>\n",
       "      <td>0.85</td>\n",
       "    </tr>\n",
       "    <tr>\n",
       "      <th>1</th>\n",
       "      <td>1001.0122</td>\n",
       "      <td>0.00</td>\n",
       "      <td>0.0</td>\n",
       "      <td>0.00</td>\n",
       "      <td>0.37</td>\n",
       "      <td>0.0</td>\n",
       "      <td>0.00</td>\n",
       "      <td>0.0</td>\n",
       "      <td>0.00</td>\n",
       "      <td>0.62</td>\n",
       "      <td>...</td>\n",
       "      <td>0.0</td>\n",
       "      <td>0.0</td>\n",
       "      <td>0.00</td>\n",
       "      <td>0.0</td>\n",
       "      <td>0.00</td>\n",
       "      <td>0.00</td>\n",
       "      <td>0.00</td>\n",
       "      <td>0.00</td>\n",
       "      <td>0.00</td>\n",
       "      <td>0.00</td>\n",
       "    </tr>\n",
       "    <tr>\n",
       "      <th>2</th>\n",
       "      <td>1001.0214</td>\n",
       "      <td>0.77</td>\n",
       "      <td>0.0</td>\n",
       "      <td>0.00</td>\n",
       "      <td>0.00</td>\n",
       "      <td>0.0</td>\n",
       "      <td>0.15</td>\n",
       "      <td>0.0</td>\n",
       "      <td>0.00</td>\n",
       "      <td>0.00</td>\n",
       "      <td>...</td>\n",
       "      <td>0.0</td>\n",
       "      <td>0.0</td>\n",
       "      <td>0.07</td>\n",
       "      <td>0.0</td>\n",
       "      <td>0.00</td>\n",
       "      <td>0.00</td>\n",
       "      <td>0.00</td>\n",
       "      <td>0.00</td>\n",
       "      <td>0.00</td>\n",
       "      <td>0.00</td>\n",
       "    </tr>\n",
       "    <tr>\n",
       "      <th>3</th>\n",
       "      <td>1001.0243</td>\n",
       "      <td>0.00</td>\n",
       "      <td>0.0</td>\n",
       "      <td>0.00</td>\n",
       "      <td>0.00</td>\n",
       "      <td>0.0</td>\n",
       "      <td>0.30</td>\n",
       "      <td>0.0</td>\n",
       "      <td>0.00</td>\n",
       "      <td>0.00</td>\n",
       "      <td>...</td>\n",
       "      <td>0.0</td>\n",
       "      <td>0.0</td>\n",
       "      <td>0.00</td>\n",
       "      <td>0.0</td>\n",
       "      <td>0.00</td>\n",
       "      <td>0.00</td>\n",
       "      <td>0.00</td>\n",
       "      <td>0.00</td>\n",
       "      <td>0.00</td>\n",
       "      <td>0.32</td>\n",
       "    </tr>\n",
       "    <tr>\n",
       "      <th>4</th>\n",
       "      <td>1001.0246</td>\n",
       "      <td>0.00</td>\n",
       "      <td>0.0</td>\n",
       "      <td>0.00</td>\n",
       "      <td>0.00</td>\n",
       "      <td>0.0</td>\n",
       "      <td>0.00</td>\n",
       "      <td>0.0</td>\n",
       "      <td>0.00</td>\n",
       "      <td>0.00</td>\n",
       "      <td>...</td>\n",
       "      <td>0.0</td>\n",
       "      <td>0.3</td>\n",
       "      <td>0.00</td>\n",
       "      <td>0.0</td>\n",
       "      <td>0.06</td>\n",
       "      <td>0.00</td>\n",
       "      <td>0.48</td>\n",
       "      <td>0.15</td>\n",
       "      <td>0.00</td>\n",
       "      <td>0.00</td>\n",
       "    </tr>\n",
       "    <tr>\n",
       "      <th>5</th>\n",
       "      <td>1001.0254</td>\n",
       "      <td>0.00</td>\n",
       "      <td>0.0</td>\n",
       "      <td>0.00</td>\n",
       "      <td>0.00</td>\n",
       "      <td>0.0</td>\n",
       "      <td>0.00</td>\n",
       "      <td>0.0</td>\n",
       "      <td>0.00</td>\n",
       "      <td>0.00</td>\n",
       "      <td>...</td>\n",
       "      <td>0.0</td>\n",
       "      <td>0.0</td>\n",
       "      <td>0.00</td>\n",
       "      <td>0.0</td>\n",
       "      <td>0.00</td>\n",
       "      <td>0.00</td>\n",
       "      <td>0.00</td>\n",
       "      <td>0.00</td>\n",
       "      <td>0.00</td>\n",
       "      <td>0.00</td>\n",
       "    </tr>\n",
       "    <tr>\n",
       "      <th>6</th>\n",
       "      <td>1001.0264</td>\n",
       "      <td>0.00</td>\n",
       "      <td>0.0</td>\n",
       "      <td>0.84</td>\n",
       "      <td>0.00</td>\n",
       "      <td>0.0</td>\n",
       "      <td>0.00</td>\n",
       "      <td>0.0</td>\n",
       "      <td>0.00</td>\n",
       "      <td>0.00</td>\n",
       "      <td>...</td>\n",
       "      <td>0.0</td>\n",
       "      <td>0.0</td>\n",
       "      <td>0.00</td>\n",
       "      <td>0.0</td>\n",
       "      <td>0.00</td>\n",
       "      <td>0.04</td>\n",
       "      <td>0.00</td>\n",
       "      <td>0.00</td>\n",
       "      <td>0.00</td>\n",
       "      <td>0.11</td>\n",
       "    </tr>\n",
       "    <tr>\n",
       "      <th>7</th>\n",
       "      <td>1001.0266</td>\n",
       "      <td>0.00</td>\n",
       "      <td>0.0</td>\n",
       "      <td>0.00</td>\n",
       "      <td>0.00</td>\n",
       "      <td>0.0</td>\n",
       "      <td>0.46</td>\n",
       "      <td>0.0</td>\n",
       "      <td>0.00</td>\n",
       "      <td>0.00</td>\n",
       "      <td>...</td>\n",
       "      <td>0.0</td>\n",
       "      <td>0.0</td>\n",
       "      <td>0.00</td>\n",
       "      <td>0.0</td>\n",
       "      <td>0.00</td>\n",
       "      <td>0.00</td>\n",
       "      <td>0.00</td>\n",
       "      <td>0.00</td>\n",
       "      <td>0.00</td>\n",
       "      <td>0.00</td>\n",
       "    </tr>\n",
       "    <tr>\n",
       "      <th>8</th>\n",
       "      <td>1001.0270</td>\n",
       "      <td>0.00</td>\n",
       "      <td>0.0</td>\n",
       "      <td>0.00</td>\n",
       "      <td>0.00</td>\n",
       "      <td>0.0</td>\n",
       "      <td>0.00</td>\n",
       "      <td>0.0</td>\n",
       "      <td>0.00</td>\n",
       "      <td>0.00</td>\n",
       "      <td>...</td>\n",
       "      <td>0.0</td>\n",
       "      <td>0.0</td>\n",
       "      <td>0.00</td>\n",
       "      <td>0.0</td>\n",
       "      <td>0.00</td>\n",
       "      <td>0.00</td>\n",
       "      <td>0.27</td>\n",
       "      <td>0.00</td>\n",
       "      <td>0.37</td>\n",
       "      <td>0.00</td>\n",
       "    </tr>\n",
       "    <tr>\n",
       "      <th>9</th>\n",
       "      <td>1001.0271</td>\n",
       "      <td>0.00</td>\n",
       "      <td>0.0</td>\n",
       "      <td>0.13</td>\n",
       "      <td>0.00</td>\n",
       "      <td>0.0</td>\n",
       "      <td>0.23</td>\n",
       "      <td>0.0</td>\n",
       "      <td>0.33</td>\n",
       "      <td>0.00</td>\n",
       "      <td>...</td>\n",
       "      <td>0.0</td>\n",
       "      <td>0.0</td>\n",
       "      <td>0.00</td>\n",
       "      <td>0.0</td>\n",
       "      <td>0.00</td>\n",
       "      <td>0.00</td>\n",
       "      <td>0.00</td>\n",
       "      <td>0.00</td>\n",
       "      <td>0.00</td>\n",
       "      <td>0.30</td>\n",
       "    </tr>\n",
       "  </tbody>\n",
       "</table>\n",
       "<p>10 rows × 21 columns</p>\n",
       "</div>"
      ],
      "text/plain": [
       "    arXiv_id  topic0  topic1  topic2  topic3  topic4  topic5  topic6  topic7  \\\n",
       "0  1001.0057    0.00     0.0    0.00    0.00     0.0    0.00     0.0    0.00   \n",
       "1  1001.0122    0.00     0.0    0.00    0.37     0.0    0.00     0.0    0.00   \n",
       "2  1001.0214    0.77     0.0    0.00    0.00     0.0    0.15     0.0    0.00   \n",
       "3  1001.0243    0.00     0.0    0.00    0.00     0.0    0.30     0.0    0.00   \n",
       "4  1001.0246    0.00     0.0    0.00    0.00     0.0    0.00     0.0    0.00   \n",
       "5  1001.0254    0.00     0.0    0.00    0.00     0.0    0.00     0.0    0.00   \n",
       "6  1001.0264    0.00     0.0    0.84    0.00     0.0    0.00     0.0    0.00   \n",
       "7  1001.0266    0.00     0.0    0.00    0.00     0.0    0.46     0.0    0.00   \n",
       "8  1001.0270    0.00     0.0    0.00    0.00     0.0    0.00     0.0    0.00   \n",
       "9  1001.0271    0.00     0.0    0.13    0.00     0.0    0.23     0.0    0.33   \n",
       "\n",
       "   topic8  ...  topic10  topic11  topic12  topic13  topic14  topic15  topic16  \\\n",
       "0    0.00  ...      0.0      0.0     0.00      0.0     0.00     0.00     0.00   \n",
       "1    0.62  ...      0.0      0.0     0.00      0.0     0.00     0.00     0.00   \n",
       "2    0.00  ...      0.0      0.0     0.07      0.0     0.00     0.00     0.00   \n",
       "3    0.00  ...      0.0      0.0     0.00      0.0     0.00     0.00     0.00   \n",
       "4    0.00  ...      0.0      0.3     0.00      0.0     0.06     0.00     0.48   \n",
       "5    0.00  ...      0.0      0.0     0.00      0.0     0.00     0.00     0.00   \n",
       "6    0.00  ...      0.0      0.0     0.00      0.0     0.00     0.04     0.00   \n",
       "7    0.00  ...      0.0      0.0     0.00      0.0     0.00     0.00     0.00   \n",
       "8    0.00  ...      0.0      0.0     0.00      0.0     0.00     0.00     0.27   \n",
       "9    0.00  ...      0.0      0.0     0.00      0.0     0.00     0.00     0.00   \n",
       "\n",
       "   topic17  topic18  topic19  \n",
       "0     0.00     0.14     0.85  \n",
       "1     0.00     0.00     0.00  \n",
       "2     0.00     0.00     0.00  \n",
       "3     0.00     0.00     0.32  \n",
       "4     0.15     0.00     0.00  \n",
       "5     0.00     0.00     0.00  \n",
       "6     0.00     0.00     0.11  \n",
       "7     0.00     0.00     0.00  \n",
       "8     0.00     0.37     0.00  \n",
       "9     0.00     0.00     0.30  \n",
       "\n",
       "[10 rows x 21 columns]"
      ]
     },
     "execution_count": 13,
     "metadata": {},
     "output_type": "execute_result"
    }
   ],
   "source": [
    "# create a dataframe with documents and the corresponding topics\n",
    "cols = ['topic{}'.format(i) for i in range(lda_model.components_.shape[0])]\n",
    "df_topic_vec = pd.DataFrame(topic_vector, columns = cols)\n",
    "df_topic_vec.insert(loc =0, column= 'arXiv_id', value = df_model.arXiv_id)\n",
    "df_topic_vec.round(2).head(10)"
   ]
  },
  {
   "cell_type": "markdown",
   "metadata": {},
   "source": [
    "# 2. LDA with gensim"
   ]
  },
  {
   "cell_type": "code",
   "execution_count": 14,
   "metadata": {},
   "outputs": [],
   "source": [
    "# tokenization\n",
    "df_model['tokens'] =  df_model['docs'].apply(text_tf.sen_tokenizer)"
   ]
  },
  {
   "cell_type": "code",
   "execution_count": 15,
   "metadata": {},
   "outputs": [
    {
     "data": {
      "text/html": [
       "<div>\n",
       "<style scoped>\n",
       "    .dataframe tbody tr th:only-of-type {\n",
       "        vertical-align: middle;\n",
       "    }\n",
       "\n",
       "    .dataframe tbody tr th {\n",
       "        vertical-align: top;\n",
       "    }\n",
       "\n",
       "    .dataframe thead th {\n",
       "        text-align: right;\n",
       "    }\n",
       "</style>\n",
       "<table border=\"1\" class=\"dataframe\">\n",
       "  <thead>\n",
       "    <tr style=\"text-align: right;\">\n",
       "      <th></th>\n",
       "      <th>docs</th>\n",
       "      <th>tokens</th>\n",
       "      <th>bigram_tokens</th>\n",
       "    </tr>\n",
       "  </thead>\n",
       "  <tbody>\n",
       "    <tr>\n",
       "      <th>0</th>\n",
       "      <td>We present a generic mechanism by which repr...</td>\n",
       "      <td>[present, generic, mechanism, reproduce, micro...</td>\n",
       "      <td>[present, generic, mechanism, reproduce, micro...</td>\n",
       "    </tr>\n",
       "    <tr>\n",
       "      <th>1</th>\n",
       "      <td>Demonstrating the quantum-confined Stark eff...</td>\n",
       "      <td>[demonstrate, quantumconfined, stark, effect, ...</td>\n",
       "      <td>[demonstrate, quantumconfined, stark_effect, q...</td>\n",
       "    </tr>\n",
       "    <tr>\n",
       "      <th>2</th>\n",
       "      <td>We have discussed the Tsallis entropy in fin...</td>\n",
       "      <td>[discuss, tsallis, entropy, finite, nunit, non...</td>\n",
       "      <td>[discuss, tsallis_entropy, finite, nunit, none...</td>\n",
       "    </tr>\n",
       "    <tr>\n",
       "      <th>3</th>\n",
       "      <td>We investigate magnetic response in mesoscop...</td>\n",
       "      <td>[investigate, magnetic, response, mesoscopic, ...</td>\n",
       "      <td>[investigate, magnetic, response, mesoscopic_r...</td>\n",
       "    </tr>\n",
       "    <tr>\n",
       "      <th>4</th>\n",
       "      <td>A two dimensional flat phononic crystal (PC)...</td>\n",
       "      <td>[dimensional, flat, phononic, crystal, lens, f...</td>\n",
       "      <td>[dimensional, flat, phononic, crystal, lens, f...</td>\n",
       "    </tr>\n",
       "  </tbody>\n",
       "</table>\n",
       "</div>"
      ],
      "text/plain": [
       "                                                docs  \\\n",
       "0    We present a generic mechanism by which repr...   \n",
       "1    Demonstrating the quantum-confined Stark eff...   \n",
       "2    We have discussed the Tsallis entropy in fin...   \n",
       "3    We investigate magnetic response in mesoscop...   \n",
       "4    A two dimensional flat phononic crystal (PC)...   \n",
       "\n",
       "                                              tokens  \\\n",
       "0  [present, generic, mechanism, reproduce, micro...   \n",
       "1  [demonstrate, quantumconfined, stark, effect, ...   \n",
       "2  [discuss, tsallis, entropy, finite, nunit, non...   \n",
       "3  [investigate, magnetic, response, mesoscopic, ...   \n",
       "4  [dimensional, flat, phononic, crystal, lens, f...   \n",
       "\n",
       "                                       bigram_tokens  \n",
       "0  [present, generic, mechanism, reproduce, micro...  \n",
       "1  [demonstrate, quantumconfined, stark_effect, q...  \n",
       "2  [discuss, tsallis_entropy, finite, nunit, none...  \n",
       "3  [investigate, magnetic, response, mesoscopic_r...  \n",
       "4  [dimensional, flat, phononic, crystal, lens, f...  "
      ]
     },
     "execution_count": 15,
     "metadata": {},
     "output_type": "execute_result"
    }
   ],
   "source": [
    "# add bigrams\n",
    "df_model['bigram_tokens'] = text_tf.add_bigram(df_model.tokens)\n",
    "df_model[['docs', 'tokens', 'bigram_tokens']].head()"
   ]
  },
  {
   "cell_type": "code",
   "execution_count": 16,
   "metadata": {},
   "outputs": [
    {
     "name": "stdout",
     "output_type": "stream",
     "text": [
      "Number of documents: 13078\n",
      "Dictionary(123999 unique tokens: ['adiffusivity', 'allows', 'arrestednonequilibrium', 'assume', 'bacteria']...)\n"
     ]
    }
   ],
   "source": [
    "# create a dictornary, i.e. associate each unique token with unique integer ID\n",
    "dictionary = corpora.Dictionary(df_model.bigram_tokens)\n",
    "corpus = [dictionary.doc2bow(text) for text in df_model.bigram_tokens] # bag of words\n",
    "print('Number of documents: %s'%len(corpus))\n",
    "print(dictionary)"
   ]
  },
  {
   "cell_type": "code",
   "execution_count": 17,
   "metadata": {},
   "outputs": [],
   "source": [
    "tokens_list = df_model.bigram_tokens.values.tolist()\n",
    "model_list, topic_coherence = text_tf.compute_coherence_lda(\n",
    "    corpus, dictionary, tokens_list, start=2, limit=40, step=6\n",
    "    )"
   ]
  },
  {
   "cell_type": "code",
   "execution_count": 18,
   "metadata": {},
   "outputs": [
    {
     "data": {
      "image/png": "[encoded data removed]",
      "text/plain": [
       "<Figure size 720x432 with 1 Axes>"
      ]
     },
     "metadata": {
      "needs_background": "light"
     },
     "output_type": "display_data"
    }
   ],
   "source": [
    "# plot coherence score\n",
    "num_topics = range(2, 40, 6)\n",
    "plt.figure(figsize = (10,6))\n",
    "plt.plot(num_topics, topic_coherence)\n",
    "plt.xlabel(\"Number of topics\")\n",
    "plt.ylabel(\"Coherence score\")\n",
    "plt.savefig('../images/topic_coherence.png')"
   ]
  },
  {
   "cell_type": "code",
   "execution_count": 22,
   "metadata": {},
   "outputs": [
    {
     "name": "stdout",
     "output_type": "stream",
     "text": [
      "Num Topics = 2  has Coherence Value of 0.39\n",
      "Num Topics = 8  has Coherence Value of 0.5182\n",
      "Num Topics = 14  has Coherence Value of 0.4916\n",
      "Num Topics = 20  has Coherence Value of 0.4816\n",
      "Num Topics = 26  has Coherence Value of 0.5037\n",
      "Num Topics = 32  has Coherence Value of 0.5043\n",
      "Num Topics = 38  has Coherence Value of 0.5217\n"
     ]
    }
   ],
   "source": [
    "for m, cv in zip(num_topics, topic_coherence):\n",
    "    print(\"Num Topics =\", m, \" has Coherence Value of\", round(cv, 4))"
   ]
  },
  {
   "cell_type": "code",
   "execution_count": 25,
   "metadata": {
    "tags": []
   },
   "outputs": [
    {
     "data": {
      "text/plain": [
       "[(13,\n",
       "  '0.001*\"mutant\" + 0.001*\"quantizer\" + 0.001*\"stiff\" + 0.001*\"fixation\" + 0.001*\"allele\" + 0.001*\"writhe\" + 0.001*\"lammps\" + 0.001*\"parafermionic\" + 0.000*\"duality\" + 0.000*\"biomolecular\"'),\n",
       " (12,\n",
       "  '0.001*\"thpn\" + 0.001*\"bitio\" + 0.001*\"research\" + 0.001*\"bead\" + 0.001*\"income\" + 0.001*\"interedge\" + 0.000*\"excavate\" + 0.000*\"archaeological\" + 0.000*\"hill\" + 0.000*\"interwall\"'),\n",
       " (11,\n",
       "  '0.000*\"hmms\" + 0.000*\"bhnh\" + 0.000*\"binding_site\" + 0.000*\"conformer\" + 0.000*\"conformers\" + 0.000*\"brown\" + 0.000*\"stirrup\" + 0.000*\"hallcrc\" + 0.000*\"handbook\" + 0.000*\"chapman\"'),\n",
       " (10,\n",
       "  '0.001*\"thermostat\" + 0.001*\"economic\" + 0.001*\"spread\" + 0.001*\"message\" + 0.001*\"acid\" + 0.001*\"unzip\" + 0.001*\"begoecs\" + 0.001*\"crisis\" + 0.001*\"toluene\" + 0.001*\"step\"'),\n",
       " (9,\n",
       "  '0.001*\"nanotubed\" + 0.001*\"neutron_matter\" + 0.001*\"htiooh\" + 0.000*\"fibril\" + 0.000*\"telegraphlike\" + 0.000*\"protrusion\" + 0.000*\"amyloid\" + 0.000*\"theliquid\" + 0.000*\"basrtio\" + 0.000*\"hgte_quantum\"'),\n",
       " (4,\n",
       "  '0.001*\"znsb\" + 0.001*\"microbubbles\" + 0.000*\"textmu\" + 0.000*\"multiplexer\" + 0.000*\"polyhedron\" + 0.000*\"flux_pin\" + 0.000*\"walker\" + 0.000*\"mvdecade\" + 0.000*\"mhls\" + 0.000*\"pointer\"'),\n",
       " (3,\n",
       "  '0.001*\"file\" + 0.001*\"timeconvolutionless\" + 0.001*\"disentangler\" + 0.001*\"user\" + 0.001*\"rank\" + 0.001*\"pulse_error\" + 0.001*\"fractal\" + 0.001*\"race\" + 0.001*\"score\" + 0.001*\"master_equation\"'),\n",
       " (2,\n",
       "  '0.010*\"state\" + 0.001*\"electron\" + 0.001*\"quantum_hall\" + 0.001*\"composition\" + 0.001*\"twoqubit\" + 0.001*\"antidot\" + 0.001*\"mnps\" + 0.001*\"nonabelian\" + 0.001*\"strategy\" + 0.001*\"hole\"'),\n",
       " (1,\n",
       "  '0.017*\"network\" + 0.012*\"model\" + 0.004*\"node\" + 0.003*\"process\" + 0.002*\"fiber\" + 0.002*\"threshold\" + 0.001*\"link\" + 0.001*\"learn\" + 0.001*\"system\" + 0.001*\"approach\"'),\n",
       " (0,\n",
       "  '0.007*\"model\" + 0.007*\"system\" + 0.006*\"state\" + 0.004*\"effect\" + 0.004*\"quantum\" + 0.004*\"phase\" + 0.004*\"spin\" + 0.003*\"temperature\" + 0.003*\"field\" + 0.003*\"transition\"')]"
      ]
     },
     "execution_count": 25,
     "metadata": {},
     "output_type": "execute_result"
    }
   ],
   "source": [
    "optimal_lda = model_list[2]\n",
    "optimal_lda.show_topics(num_topics=10, num_words=10)"
   ]
  },
  {
   "cell_type": "code",
   "execution_count": 26,
   "metadata": {},
   "outputs": [
    {
     "data": {
      "text/html": [
       "\n",
       "<link rel=\"stylesheet\" type=\"text/css\" href=\"https://cdn.jsdelivr.net/gh/bmabey/pyLDAvis@3.3.1/pyLDAvis/js/ldavis.v1.0.0.css\">\n",
       "\n",
       "\n",
       "<div id=\"ldavis_el992956300742081781597144\"></div>\n",
       "<script type=\"text/javascript\">\n",
       "\n",
       "var ldavis_el992956300742081781597144_data = {\"mdsDat\": {\"x\": [-0.3299146296537043, -0.06194281841290698, 0.0052497803589743675, 0.03904858879745598, 0.037516984429555644, 0.012005240013786023, 0.037053444408008056, 0.037772523887553304, 0.03716560422620613, 0.03759135088807207, 0.032412037950114304, 0.038933593735480804, 0.03918618300619217, 0.03792211636521225], \"y\": [-0.03626917866638434, 0.16235808632642945, -0.05411212948229458, -0.0021255011696471376, -0.0014482007788591002, -0.039182954902158104, -0.005636825775653714, -0.002037799706057898, -0.005932943589036848, -0.001054097686145695, -0.01468529129695225, 0.0010329118554099573, -0.0007270945008437546, -0.0001789806278060878], \"topics\": [1, 2, 3, 4, 5, 6, 7, 8, 9, 10, 11, 12, 13, 14], \"cluster\": [1, 1, 1, 1, 1, 1, 1, 1, 1, 1, 1, 1, 1, 1], \"Freq\": [95.0932213020196, 1.7588045264523493, 0.7813532143708581, 0.2185705786538914, 0.15920399897323526, 0.7136581330996057, 0.2979506481564675, 0.14083248141262217, 0.19125156047896807, 0.10437191371743158, 0.2808028485066302, 0.0706084135024449, 0.08481900208339242, 0.10455137857248975]}, \"tinfo\": {\"Term\": [\"state\", \"model\", \"network\", \"structure\", \"process\", \"system\", \"electron\", \"phase\", \"approach\", \"method\", \"base\", \"function\", \"present\", \"dynamic\", \"distribution\", \"equation\", \"growth\", \"propose\", \"interface\", \"fluctuation\", \"time\", \"magnetic_field\", \"also\", \"high\", \"give\", \"size\", \"graphene\", \"nonequilibrium\", \"nanoparticles\", \"obtain\", \"atom\", \"surface\", \"potential\", \"response\", \"superconductors\", \"velocity\", \"lattice\", \"trap\", \"probe\", \"spin\", \"layer\", \"effective\", \"cavity\", \"condensate\", \"polarization\", \"metal\", \"experimental\", \"width\", \"entanglement\", \"boundary\", \"correlate\", \"current\", \"topological_insulator\", \"voltage\", \"correction\", \"optical\", \"quantum\", \"impurity\", \"experiment\", \"light\", \"system\", \"effect\", \"phase\", \"field\", \"temperature\", \"energy\", \"find\", \"order\", \"also\", \"magnetic\", \"interaction\", \"couple\", \"theory\", \"transition\", \"property\", \"present\", \"observe\", \"electron\", \"investigate\", \"graphene\", \"case\", \"dynamic\", \"particle\", \"structure\", \"behavior\", \"state\", \"large\", \"obtain\", \"model\", \"method\", \"function\", \"pinchoff\", \"epidemic_spread\", \"stringnet_condensate\", \"yanglee\", \"mnbi\", \"metabolic\", \"pearlite\", \"epidemic\", \"ctrw\", \"autocatalytic\", \"node_degree\", \"kcms\", \"regulatory_network\", \"axon\", \"colony\", \"community_assembly\", \"perm\", \"forest\", \"resilience\", \"superintegrable\", \"refuge\", \"superslow\", \"oqstddft\", \"macrotwinned\", \"bvariants\", \"smossb\", \"cscubr\", \"aitdg\", \"pmfs\", \"sznajd\", \"aqueous_mixture\", \"noncommutative\", \"genotype\", \"adaptive_network\", \"cytoskeleton\", \"plume\", \"actin\", \"city\", \"cancer\", \"opinion\", \"white_dwarf\", \"genetic\", \"disease\", \"brain\", \"network\", \"learn\", \"mutation\", \"social\", \"fiber\", \"society\", \"node\", \"gene\", \"multifractal\", \"traffic\", \"human\", \"rewire\", \"rho\", \"heterogeneous\", \"game\", \"model\", \"complex_network\", \"gel\", \"process\", \"motor\", \"threshold\", \"link\", \"failure\", \"population\", \"cell\", \"reaction\", \"specie\", \"nonequilibrium\", \"approach\", \"system\", \"individual\", \"equation\", \"propose\", \"function\", \"fluctuation\", \"interlayer_shear\", \"ash\", \"halftoning\", \"hgbacuodelta\", \"sspd\", \"mnploaded\", \"phosphorous\", \"fluxoid\", \"aspiration\", \"qshe\", \"titanium_sheet\", \"snspd\", \"boseeinstein_condense\", \"qmodified\", \"rubo\", \"latency\", \"montmolin\", \"znimpurity\", \"halftoned\", \"enamel\", \"endor\", \"hbot\", \"france\", \"vegetable\", \"nanoroads\", \"phigq\", \"modifier\", \"maga\", \"qvbs\", \"nanostrips\", \"aklt_state\", \"pep\", \"side_jump\", \"mnps\", \"tiobr\", \"antidot\", \"inherent_structure\", \"grayscale\", \"pbvo\", \"internet\", \"player\", \"ferrofluid\", \"ejection\", \"twoqubit\", \"capsid\", \"state\", \"direct_network\", \"pixel\", \"composition\", \"quantum_hall\", \"nonabelian\", \"strategy\", \"electron\", \"hole\", \"hall_state\", \"root\", \"tensor_network\", \"network\", \"magnetic_field\", \"system\", \"resource\", \"topological\", \"race\", \"pulse_error\", \"disentangler\", \"blockmodels\", \"predoped\", \"resin\", \"emotional\", \"reduce_fidelity\", \"zgqsvw\", \"emfpt\", \"tammdancoff\", \"wznw\", \"kifa\", \"photopolymerization\", \"diacrylate\", \"abrasion\", \"pmfpt\", \"uniformpenalty\", \"coloring\", \"monohydroxy\", \"parametrised\", \"disfavor\", \"weightedset\", \"thenakajimazwanzig\", \"mfpts\", \"sscg\", \"crossspecific\", \"decorationiteration\", \"slowcooled\", \"alcohol\", \"emotion\", \"nakajimazwanzig\", \"participant\", \"timeconvolutionless\", \"cefepo\", \"user\", \"inverse_laplace\", \"file\", \"score\", \"retrapping\", \"cefeaso\", \"rank\", \"dwell_time\", \"mean_firstpassage\", \"portfolio\", \"silica_bead\", \"fractal\", \"master_equation\", \"surfactant\", \"treelike\", \"znsb\", \"microbubbles\", \"textmu\", \"multiplexer\", \"pointer\", \"beverage\", \"monofluoride\", \"mbrane\", \"retrograde\", \"murm\", \"bast\", \"petersburg\", \"hydrosols\", \"scirsi\", \"brokengap\", \"bgtfet\", \"albedo\", \"brighten\", \"continuousspin\", \"alcoholic\", \"mvdecade\", \"laggard\", \"inheimplanted\", \"nonferroelectric\", \"tiplowvoltage\", \"mthick\", \"nestinginstability\", \"bypiezoresponse\", \"samplesshowed\", \"gravityside\", \"mhls\", \"quasiuniversality\", \"polyhedron\", \"flux_pin\", \"niobate\", \"sigmax\", \"leader\", \"nanovoid\", \"walker\", \"tfets\", \"energy_cost\", \"picene\", \"srptas\", \"dmso\", \"znse\", \"feobo\", \"coobo\", \"znbemnse\", \"theater\", \"weakcontact\", \"bacuchf\", \"branching_brownian\", \"ttne\", \"pbmoo\", \"movie\", \"pbed\", \"tepsilonf\", \"intro\", \"skotleiethninnar\", \"rafeinda\", \"ensuremathle\", \"zodd\", \"znbese\", \"doublepositive\", \"multirelaxation\", \"presuperfluid\", \"semimagnetic\", \"kcrf\", \"brazil\", \"alphairv\", \"bernstein\", \"grip\", \"cface\", \"siface\", \"stiff_chain\", \"pedotpss\", \"degree_sequence\", \"kdoped\", \"income\", \"step_bunch\", \"austenite\", \"escort\", \"extremal\", \"hydride\", \"effectiverange\", \"martensite\", \"train\", \"magnetocaloric_effect\", \"segregation\", \"message\", \"current_density\", \"structure\", \"growth\", \"bonding\", \"nonabelian_statistic\", \"base\", \"phase\", \"superstructure\", \"ceramic\", \"present\", \"representation\", \"method\", \"network\", \"sccoc\", \"platt\", \"alphafeo\", \"methine\", \"nadais\", \"urea\", \"polyimides\", \"pdcopd\", \"brooker\", \"fesmco\", \"korean\", \"multiscaal\", \"ribosome\", \"toxicity\", \"linux\", \"torpedo\", \"thealphafeo\", \"pcapproxgpa\", \"microrotations\", \"alphafeonanoparticles\", \"ectoine\", \"angstroem\", \"rating\", \"gpcr\", \"nixpdxmnsn\", \"taurm\", \"heptad\", \"unicharged\", \"lineage\", \"hydropathic\", \"mrna\", \"intermixed\", \"south\", \"liquid_bridge\", \"csfese\", \"feedforward\", \"atomic_clock\", \"alternation\", \"centrality\", \"span_tree\", \"unbind_transition\", \"alkali\", \"tiocl\", \"peptide\", \"alkaline_earth\", \"protein\", \"nanoparticles\", \"mfpt\", \"attack\", \"siox\", \"mixed\", \"hierarchical\", \"scalefree_network\", \"glass\", \"network\", \"neel_temperature\", \"cilium\", \"depth\", \"causal\", \"graph\", \"roughen\", \"cation\", \"heusler_alloy\", \"london_penetration\", \"trust\", \"pentavalent\", \"authority\", \"conduciveness\", \"nanopatterns\", \"dialkyldithiophosphate\", \"cunanoparticles\", \"postperovskite\", \"dnananopatterns\", \"afmffm\", \"prhot\", \"microfrictional\", \"isochors\", \"rosenfeld\", \"thetrajectory\", \"ofrosenfeld\", \"criii\", \"copper_ferrite\", \"peyrardbishopdauxois\", \"heptanuclear\", \"coiii\", \"cyanobridged\", \"recommendationbased\", \"kikuchi\", \"templatedirectedselective\", \"noncentralized\", \"handfavours\", \"octameric\", \"denselyconnected\", \"inview\", \"phage\", \"langmuirblodgett\", \"cuxcoxfeo\", \"transitivity\", \"fractallike\", \"coresoftened\", \"waterlike\", \"slow_cool\", \"afese\", \"capsid\", \"deposit_film\", \"isochores\", \"package\", \"silver\", \"excess_entropy\", \"ejection\", \"breather\", \"scale_relation\", \"nairo\", \"theexcess\", \"bacteriophage\", \"sputter\", \"asdeposited\", \"film\", \"chimney\", \"perfect_absorber\", \"quasinested\", \"unwind\", \"atomtrimer\", \"rebg\", \"spdos\", \"qdistribution\", \"zrtio\", \"pbca\", \"probabilistically\", \"hftio\", \"fuzzy_sphere\", \"feasbasco\", \"mastication\", \"uruzn\", \"mushy\", \"andbafmnseo\", \"oxychalcogenides\", \"hydrosol\", \"backlund\", \"laomnseo\", \"ultrafinegrained\", \"isospectral\", \"hovi\", \"thehovi\", \"ultrafine\", \"znozn\", \"semidisk\", \"flame\", \"lerw\", \"plasmaron\", \"ionscm\", \"operatorial\", \"inasgaas\", \"fluence\", \"span_tree\", \"receptor\", \"planet\", \"nonextensive_statistic\", \"phospholipid\", \"melt_curve\", \"uvvis\", \"concentrationdependent\", \"vortical\", \"slit\", \"qoperators\", \"detonation\", \"earth\", \"wall\", \"postulate\", \"nanotubed\", \"htiooh\", \"telegraphlike\", \"setov\", \"meanderline\", \"pointdipole\", \"superomniphobic\", \"carbamazepine\", \"basrtio\", \"nuiii\", \"mesofullerene\", \"anodicperformance\", \"alphasynuclein\", \"fullwidthhalfmaximum\", \"badeffect\", \"isthermally\", \"andphotocatalytic\", \"setovs\", \"firststepdehydration\", \"andrisetime\", \"titanic\", \"photocatalyticbehavior\", \"ofrecombination\", \"generatedaccompanying\", \"fromorthorhombic\", \"risetime\", \"singleelectrontrapped\", \"temxrd\", \"secondstep\", \"nanotubedhtiooh\", \"voox\", \"neutron_matter\", \"degctreated\", \"dehydration\", \"amyloid\", \"ionioff\", \"protrusion\", \"theliquid\", \"fibril\", \"photoresponse\", \"hgte_quantum\", \"methanol\", \"anhydrous\", \"ybacuodelta\", \"indentation\", \"drop_impact\", \"anatase\", \"mesoporous\", \"shallow\", \"begoecs\", \"malic\", \"rhenium\", \"phiderivable\", \"macroeconomic\", \"injury\", \"intrusion\", \"tirmn\", \"akcs\", \"channelnumber\", \"singletransistor\", \"bnnrs\", \"bncnrs\", \"ferritin\", \"shoc\", \"ferrihydrite\", \"lambdadp\", \"fixedms\", \"dtqw\", \"ftddtqw\", \"bott\", \"lsfirmn\", \"subnitrides\", \"toluenemalic\", \"diabolical\", \"readwrite\", \"cppmr\", \"glnm\", \"hcpre\", \"tetramethoxypyrene\", \"amphiphile\", \"ysystem\", \"lamb\", \"randomperiodic\", \"spinflipping\", \"surfacestate\", \"economic\", \"toluene\", \"crisis\", \"unzip\", \"thermostat\", \"message\", \"acid\", \"spread\", \"langasite\", \"imbalance\", \"snte\", \"virus\", \"crystalline_phase\", \"amplifier\", \"step\", \"interface\", \"ethanol\", \"crystalline\", \"hmms\", \"bhnh\", \"handbook\", \"httpwwwcrcpresscomproductisbn\", \"chapman\", \"evegeny\", \"tsymbal\", \"hallcrc\", \"magnetismed\", \"igor\", \"zutic\", \"stirrup\", \"transcriptionfactor\", \"lowwe\", \"itstatistical\", \"principlerelating\", \"inversestatistical\", \"fisherinformation\", \"oftraining\", \"conformer\", \"presentedwhat\", \"investigationswith\", \"misinterpret\", \"particlesejected\", \"pollen\", \"pulchella\", \"robert\", \"textitclarkia\", \"isnow\", \"universalorganic\", \"brown\", \"binding_site\", \"conformers\", \"oftranscription\", \"book\", \"themathematical\", \"parametersin\", \"thpn\", \"excavate\", \"archaeological\", \"bitio\", \"interwall\", \"yellow\", \"sabbatical\", \"hentp\", \"agrp\", \"farultraviolet\", \"gompertzpareto\", \"drechsler\", \"thoriumpnictides\", \"interedge\", \"pigment\", \"dwcnts\", \"limpopo\", \"onmapungubwe\", \"southafrica\", \"callsfor\", \"suggestpossibilities\", \"plum\", \"mapungubwe\", \"antimonate\", \"hillraman\", \"arsenatechromate\", \"capb\", \"identifiedmany\", \"hillwhich\", \"opportunitiesdiscovering\", \"differentchromophores\", \"income\", \"hill\", \"fourspinon\", \"multidisciplinary\", \"criticism\", \"noble\", \"personal\", \"bead\", \"enderle\", \"research\", \"licuvo\", \"date\", \"arxivv\", \"modern\", \"quantizer\", \"allele\", \"lammps\", \"crispr\", \"cpmg\", \"selberg\", \"fuller\", \"reactioncenter\", \"purple\", \"maya\", \"selbergtype\", \"archaeomimetism\", \"finiteembedded\", \"nonreflecting\", \"starstar\", \"dualitytransformations\", \"relationstr\", \"superconformalindices\", \"hypermorphic\", \"modelparafermionic\", \"parafermionicpolynomial\", \"allowsthe\", \"pairinglower\", \"studyintegral\", \"independentlypercolated\", \"obsereved\", \"allelea\", \"shii\", \"supersymmetricdualities\", \"seiberg\", \"tdependences\", \"writhe\", \"mutant\", \"parafermionic\", \"sigmoidal\", \"fixation\", \"stiff\", \"deleterious\", \"biomolecular\", \"floppy\", \"liouville\", \"cuda\", \"antidot_lattice\", \"phic\", \"pigment\", \"duality\", \"elliptic\", \"mutation\", \"filamentous\", \"spinbath\", \"solvable_model\", \"integral\", \"threepoint\"], \"Freq\": [4657.0, 5998.0, 883.0, 2290.0, 1159.0, 5687.0, 2193.0, 3241.0, 1653.0, 2093.0, 1666.0, 1772.0, 2075.0, 2347.0, 1056.0, 1126.0, 450.0, 1085.0, 713.0, 1069.0, 1570.0, 1175.0, 2520.0, 1622.0, 1018.0, 804.0, 1703.0, 465.0, 222.0, 1836.0, 991.1674760241342, 2009.5494550604494, 1465.1155079342675, 570.7380146051005, 438.71963260162147, 457.2087672108791, 1631.5449514470947, 644.5122209414413, 421.6193786115445, 3053.632062416605, 985.1562646384012, 885.1498871501838, 283.78450836759094, 441.35195218757224, 394.8998813399049, 514.2911057712973, 736.6356326004641, 343.26642217871284, 380.276705521884, 479.8832951443646, 306.4204261831139, 1264.1185365280119, 341.5632660355916, 296.74094734839053, 284.5458980092433, 667.6941692171561, 3470.920606051511, 542.2501079708421, 984.8860173697822, 341.6550210139102, 5660.0373098644, 3625.045224050874, 3231.8897238122568, 2565.178027798119, 2643.5851656045406, 2439.9385836870233, 2211.316367342537, 2306.572498908292, 2512.150387665982, 2115.3733101881376, 2222.2314170663003, 2008.906816855435, 2288.1732582649556, 2542.41544335399, 2079.897042874011, 2068.648612802837, 2055.395754594262, 2184.1301328730983, 1732.6078186060781, 1699.6717625427996, 1691.0253576026037, 2334.223279763467, 1428.4032457029598, 2276.071118202956, 1627.3291694394186, 4586.248044767878, 1915.0616624864376, 1828.3884258681835, 5818.284235223437, 2077.76898697635, 1757.3084943406377, 8.318080987405134, 5.230295600217532, 5.259996141989392, 5.2574368246897025, 5.251493840697916, 5.773885619197148, 4.394293776439059, 14.100777821064593, 4.245005931424829, 4.13629855877329, 7.354024415303912, 5.426263318833532, 4.555717247048836, 3.466143676643937, 4.312733292393995, 2.9971298284111185, 3.1311759237185517, 4.16388419993693, 2.8750256888763324, 4.834146918469359, 2.6563005678873814, 2.650198116729832, 2.652777476350901, 2.6491419735336375, 2.6521444004168786, 2.650173717382065, 2.651720461749429, 2.6486054057340858, 2.6468124893758596, 4.2417599467665585, 3.6641280449231326, 8.426648499509653, 7.344208906259411, 4.806085925726904, 6.844037526630939, 12.999637870561601, 13.292868360618563, 8.277625997402387, 6.801399666408334, 20.258278264202602, 8.08983816012523, 8.647824229989938, 11.19421684660486, 13.34269531437962, 255.50311011231474, 20.76750485177105, 9.165905166581933, 17.78044607200203, 28.2527716159024, 6.989300786371552, 61.15066317469255, 10.683206492433595, 11.900015036646542, 13.458472833749248, 18.90907798760134, 7.500451872495115, 8.04622432599195, 19.43654831605719, 15.960723544632792, 175.67045193687656, 17.16008219816604, 9.74497401572777, 47.987933092414984, 14.907802805154075, 24.015905045471015, 22.12653457990125, 14.145575894969843, 17.16797015873696, 17.059490658565455, 14.891700978438497, 15.365551997366097, 17.342713059011615, 20.264602923705883, 20.739591997925753, 13.086768812842369, 13.861802766388376, 13.748986282151312, 13.695347801706959, 13.409455415490884, 3.340395195040525, 2.7815175443354954, 2.790092145749043, 2.7871685858549093, 2.5326673160479927, 2.2417686546565356, 2.239518883956753, 2.229684968409781, 2.5094586559588565, 1.9049905817828998, 1.9039497991060754, 3.5272335900121248, 2.498537502863861, 1.689425849395484, 1.6886854748857474, 1.6886628281360379, 1.682160501101899, 1.6891151824443396, 1.686846055548224, 1.681997328366812, 1.6881789232277131, 1.6881545344203337, 1.6810312606078328, 1.6814840020400612, 1.6831304401001448, 1.6855714500196972, 2.469301129674671, 1.6830162385417802, 1.9687431178350276, 1.683334841533421, 3.4809351168793374, 3.2857762673520416, 4.306584510932652, 5.388599757185639, 2.211637057386945, 5.782343502991169, 4.35028576964148, 2.5636852335476705, 3.372410343775278, 3.7002245621271093, 4.515804088600152, 3.892295324091441, 3.8177162867443863, 6.036859677069262, 3.879027038629108, 66.91403624804781, 3.92545597252518, 2.620075640324548, 6.332795014308524, 6.794904458438221, 5.057452014701341, 4.719965117917992, 7.584842444505036, 4.690310263764083, 3.4318617394402535, 3.4749648916823923, 3.2629707968325214, 3.9124009923464365, 3.986154681481853, 4.060707007277968, 3.1286360844141368, 3.2015355846053786, 1.1718105826185354, 1.2874058961637138, 1.4131345855096258, 0.9401427149494577, 0.7072405950689039, 0.707646850578564, 0.7053732708303792, 0.9089287770301041, 0.7042322575883334, 0.704453118073993, 0.7027356692520669, 0.6597599223115304, 0.5331169820952182, 0.47555686269712977, 0.4756234619610085, 0.4754457014867696, 0.4742914225376911, 0.47338350671922086, 0.4729907876453084, 0.47314970540098644, 0.47244359076664305, 0.47207220511546893, 0.47235224689821753, 0.47240054490096534, 0.4727527088133777, 0.472095271201983, 0.40275585370772565, 0.37506650585548873, 0.40155419723353014, 0.576368114284606, 0.9334942674590997, 0.6848944303536165, 0.764052528590345, 1.4556675827097263, 0.7075151681316104, 1.366908632054579, 0.917958121131255, 1.5513198279050362, 1.1531385314396339, 0.691327431932614, 0.6990367028196484, 1.308187898655482, 0.6873369989656758, 0.9013334829320655, 0.6890027927487887, 0.7124268909155375, 1.2589595637515936, 1.1192841222175895, 0.9611241903584041, 0.698944059453391, 0.7099323180863335, 0.705673688068514, 0.5351994033026884, 0.529957675762604, 0.4062075587820252, 0.4048452941085162, 0.4043810174594167, 0.36018662892831876, 0.3594656828575118, 0.35909400912822925, 0.3592919537851975, 0.35752906711019744, 0.35748978580349483, 0.3577101318482212, 0.3574012056680992, 0.3574158769995182, 0.3572502329351096, 0.35672944010879637, 0.35680630684249454, 0.2063350809774635, 0.41115779220781346, 0.20535699221619363, 0.18468224663422214, 0.1849495448833958, 0.18478766724949933, 0.1847500621029723, 0.18446943345052003, 0.18457986282679242, 0.18475737804915032, 0.18473513441764403, 0.4063984832857876, 0.3412030303658332, 0.47757163609961906, 0.46859562088369433, 0.3512265470938276, 0.32927776202217623, 0.3636016573895429, 0.21628723272104186, 0.4136292016487899, 0.317049266442994, 0.3103420227625859, 7.6103691859497165, 4.589699147808261, 3.1513865751523387, 3.0825649495638774, 2.574716052194307, 2.5754332977117045, 2.5725620173449193, 2.5735605390807486, 2.5724485168218307, 2.566135624799346, 3.522108631045828, 2.067536843269376, 2.061987869876587, 2.803492090974858, 2.053258760332222, 2.0463822551203212, 1.7494790300888332, 1.558544454648506, 1.5595106234314924, 1.5538039514926054, 1.555113450518329, 1.555445112482992, 1.556666922631065, 1.5516755514965628, 1.5533356292407974, 1.5521368020646893, 1.5546783651798242, 2.0649128950393516, 1.7383513822317922, 1.5497488712775351, 2.2599253568746223, 6.364194966088807, 4.686214193861886, 2.4431321731798863, 3.1471813984511283, 4.025194219079625, 1.7814729181928157, 3.586629258619195, 2.5645563410411727, 3.4715545787434445, 2.458339652144883, 4.545383381265522, 4.902506943023651, 2.092765958763626, 5.103358670866836, 4.112955581488092, 4.34500474906063, 5.078658694104056, 3.4121354637779198, 4.72570141478689, 10.191175195338449, 6.680618866754736, 4.09104821261114, 3.305672326705329, 4.587658967066146, 4.642753747460427, 2.8980074416754444, 3.0374111885048793, 3.7628439476843654, 3.1839205630974967, 3.236674262609014, 3.024357214012995, 1.726764872307032, 1.7229813565078764, 1.4419948577877442, 1.1542771552669921, 0.9824210251958312, 0.9080440132281892, 0.8706173952278236, 0.8695555603022159, 0.8686253291352874, 0.8656769768411543, 0.8209740660004349, 0.8172340244659244, 1.7039325428049028, 0.780588540833535, 0.6589933107406706, 0.6598365195680126, 0.5866301758081838, 0.5867455043964823, 0.5850027325804121, 0.5863448990121687, 0.5860633865412757, 0.5851414959378528, 0.5852719556369361, 0.5850752511967342, 0.5841440974010993, 0.6525642124836704, 0.5847681634581, 0.5842633010299646, 0.5832715120757459, 0.5841392259215296, 0.7876149120099025, 0.9348719893216464, 0.7848204541839949, 1.7192545270164414, 1.4306341245693595, 1.0750600331056395, 1.1366175251546526, 0.8683016709850866, 0.9840728258214516, 0.9728791253040713, 0.8751548093955427, 1.9586994098954216, 0.7518062157090587, 1.3487354005254644, 1.1670616152947784, 3.0633767840099666, 3.3952916492197445, 1.1679480769558757, 1.2490838239647364, 1.0998146041598051, 1.8945349381736387, 1.49534508772651, 1.2347666931298986, 1.5824810951696417, 1.5978253700907268, 1.0911686874573927, 1.035720990322673, 1.1667228260337927, 1.001382742748922, 1.1312540999586786, 1.020842679803462, 1.042650227148832, 1.0085152531316723, 1.0014069525261775, 1.540265298118497, 0.46793169411005525, 0.4678651976780199, 0.3526675603100615, 0.3141005019283031, 0.31408026691750535, 0.3141212602583456, 0.3140035832041718, 0.3134994872196604, 0.3135600875882047, 0.3133408866005457, 0.3134068946012859, 0.33076040497348136, 0.7050491789847811, 0.24718599014831255, 0.2467475707290197, 0.26369231643912594, 1.2335251418160746, 0.23268952374895993, 0.17890186468488684, 0.17857859294341805, 0.1781188046549638, 0.16160806503851954, 0.16119630001276028, 0.1612852293964214, 0.16145773286347218, 0.16157397951171024, 0.1779078546673973, 0.16145939004108062, 0.16152065328066825, 1.1657638122781735, 0.652302506562403, 0.17798989368100232, 0.5019656216418239, 0.49880027285791273, 0.6330239140163995, 0.7141360943509542, 0.58696847123354, 0.3134685416083197, 1.2541034500383872, 0.5856400078867185, 0.344504722066302, 0.7192166171309725, 0.7359141991617741, 0.4078848577749449, 0.4547234652515762, 0.47129719506111584, 0.4802578509375009, 0.42487110270116124, 0.3482792842270239, 0.33544610082729615, 0.36730343895622064, 0.33890771807964604, 0.3925697456370249, 1.3804120876670463, 1.0742022421592747, 0.7060076337621484, 0.596413190822073, 0.5950127416848365, 0.5956884954669132, 0.5951795599605634, 0.594608606526657, 0.5951806970348654, 0.5952053336447427, 0.5945554009249413, 0.5942304345650405, 1.0428852260013681, 0.453482524654167, 0.4529749631125988, 0.4519634881428481, 0.4017916480429847, 0.401667991212639, 0.40126883075453096, 0.40142911085302113, 0.4009300299906222, 0.40097916107608905, 0.4003210793237898, 0.4001029979482798, 0.3997897813561668, 0.39980110472109115, 0.4003722476673811, 0.39959434671050553, 0.3997008526701289, 0.39961400862031143, 0.5946962560041051, 0.6652662615204501, 0.9782408463195675, 0.740389159920215, 0.953744949387149, 1.7829397070520192, 0.6844343494326158, 1.1131892035091342, 0.7736389655010913, 0.9512894374319175, 0.7772477076890598, 0.756133801377547, 0.4522313638971678, 0.5867264074649922, 0.5893155256507122, 0.8500990159019464, 0.6057034195163211, 0.5239031944121788, 0.6644207046426038, 0.7717754428543535, 0.6207286719652362, 0.5874741858697929, 0.47109619073067005, 0.3538294059818804, 0.23894038876396442, 0.23843715931893333, 0.2366771878297579, 0.23481123383556363, 0.20233751170735892, 0.2840276578983731, 0.13696293132435475, 0.13609010760803986, 0.13625443349499947, 0.13511586491735642, 0.12244325056967514, 0.12246153054797433, 0.12249912473248212, 0.12248636494564953, 0.12248350789104973, 0.12258897328211389, 0.12233006725283686, 0.12253223295343277, 0.1225354778434986, 0.12246250013663942, 0.12241226251593884, 0.12251727543229263, 0.12233954336605701, 0.12251681002973339, 0.12232859347806592, 0.12239470649717625, 0.1224175887896724, 0.12254922014684516, 0.5766149996663558, 0.12249126460037045, 0.2363977135929321, 0.31518659194101667, 0.22689654620167024, 0.32728007744296356, 0.31169783093413517, 0.35842900533058336, 0.23331855854958047, 0.2816672395406801, 0.23744644654879224, 0.19493174177199848, 0.22638199196103087, 0.21430632103482394, 0.20545643281382814, 0.21862184383250413, 0.2034727319721452, 0.20544107452937307, 1.5699155119060488, 1.318627992107034, 1.0576201104699783, 1.0559648052494337, 1.0569887627568475, 1.0522441248690642, 1.0456470421156268, 0.7959421349016101, 0.7960587213678075, 0.7958140010885222, 0.7952859534364313, 0.7940848902351401, 0.7935861978865906, 0.7924992169075927, 0.7928731839972569, 0.7915798811455017, 0.791445208473331, 0.7906181819240347, 1.0303748411047458, 1.0296404715798975, 0.6022410253593818, 0.5359356377956668, 0.5354045294010266, 0.5363344038562136, 0.5352192153521305, 0.5354278327817998, 0.5363333952024189, 0.5349335576412476, 0.5351670783852958, 0.5354249807262426, 1.046320475038811, 0.8741345769978074, 1.2074277371731754, 0.8833343343531391, 1.1853827389615932, 0.9481020813786323, 2.1234249247662, 1.547168490653378, 1.549295845849827, 1.651392339444674, 2.1954252759981014, 1.6976608889396583, 1.6876415482044114, 1.9121970990761832, 1.0168266728971083, 1.3195393977634293, 0.9532798143371464, 1.0912740182348721, 1.1540652211968017, 1.147345082680415, 1.3670087322103819, 1.1065819742837157, 0.9650867678458659, 0.9594607056662049, 0.24277401556401595, 0.22963357018499134, 0.0851094160309482, 0.0850268557679857, 0.08504575542140327, 0.08501658820985879, 0.08500719523078869, 0.08514408434475998, 0.08503204202179256, 0.0849677604611173, 0.08483576024407356, 0.128826430867127, 0.08347425055160013, 0.08342058638067451, 0.08343092390512595, 0.08327015003711329, 0.08323160733807984, 0.08284418630749589, 0.08286135429438099, 0.1584952922128033, 0.049885289736973606, 0.049835762324986675, 0.04976840224603147, 0.04983452916851658, 0.049813932831728795, 0.04994178754404328, 0.049755747087079485, 0.04971671025087895, 0.04974209490800274, 0.049717506117820644, 0.13844044230225094, 0.2176355699362914, 0.15028262754619032, 0.0762002978240288, 0.07862124634854543, 0.06354617962112237, 0.057997320964415205, 0.7605470981027578, 0.28946424680197436, 0.2893517489731204, 0.5105772585799566, 0.21769080008850739, 0.1944848345216254, 0.19446088093087202, 0.19429381514132812, 0.19412071893025246, 0.19424445813722316, 0.19388368344140267, 0.19378253205027396, 0.19336403760550655, 0.36494413346993443, 0.19434579863564727, 0.11136761859693578, 0.10001860691124564, 0.09999615567289478, 0.09992135323159479, 0.10006904602931885, 0.09971185386615052, 0.10001065389887709, 0.09984832629767958, 0.09984780099963675, 0.09987951849546324, 0.09991125700321146, 0.0999259653484109, 0.09989920666610878, 0.09982422562347422, 0.09972353649462322, 0.09998066988659195, 0.3824811035704407, 0.28566560653500256, 0.12986261676200742, 0.1922859579262312, 0.12899421504951092, 0.1910802308225465, 0.1893926583301282, 0.44247106458698704, 0.1591085852969601, 0.4984688445256586, 0.19923541990182653, 0.16134232067047694, 0.14594975375832261, 0.14736087239675663, 0.7942073549235935, 0.4613142044896394, 0.4540582757998554, 0.32902488444214506, 0.34543356564296956, 0.2333594727164766, 0.23343971139961403, 0.2324717707713984, 0.2321977212212767, 0.1994644695760798, 0.13525144318318782, 0.1352064287121443, 0.13504798450811162, 0.13478536987684245, 0.12014270375964192, 0.12011716620587384, 0.12004758543691042, 0.12012058502645943, 0.11984753263234182, 0.11976594714109493, 0.1198429094545045, 0.11998379335280213, 0.11941542738052668, 0.11982305698496776, 0.11997005332006991, 0.11987836676800197, 0.11980348941714647, 0.11977461074326066, 0.11994825833883681, 0.11976724214889249, 0.26002060114988207, 0.45528552878945644, 1.1016914163629887, 0.44770248113000627, 0.33665074505938286, 0.46821721765442964, 0.6495262347619328, 0.3367236021980741, 0.38923917280762277, 0.22723545854223653, 0.3241109773542662, 0.22657342465596286, 0.22600398382721545, 0.29550490260984646, 0.13483552552884231, 0.410090248757231, 0.3007898035315732, 0.25606645024093816, 0.2143944849734831, 0.20095353429211552, 0.2104257393266606, 0.3086619228315969, 0.20605134543732728], \"Total\": [4657.0, 5998.0, 883.0, 2290.0, 1159.0, 5687.0, 2193.0, 3241.0, 1653.0, 2093.0, 1666.0, 1772.0, 2075.0, 2347.0, 1056.0, 1126.0, 450.0, 1085.0, 713.0, 1069.0, 1570.0, 1175.0, 2520.0, 1622.0, 1018.0, 804.0, 1703.0, 465.0, 222.0, 1836.0, 991.9797030190355, 2011.5028444154232, 1466.6695983508187, 571.3534188728767, 439.20352706291425, 457.7160415796197, 1633.3783302943468, 645.2482938791047, 422.10551556335207, 3057.194643596835, 986.3081757747414, 886.2230235854413, 284.1338775595065, 441.8960522493152, 395.395029965075, 514.9477286229711, 737.5877717961273, 343.7127465099209, 380.7739122783719, 480.51141705873044, 306.8228198694439, 1265.7915389563784, 342.01610230664727, 297.13585649307845, 284.92473272776203, 668.5864001548767, 3475.5748072223655, 542.989528623692, 986.2299945259338, 342.12482145098016, 5687.524785798929, 3632.0027181788773, 3241.268707547561, 2569.237918656556, 2649.263731576383, 2444.437068480982, 2214.4705668488937, 2310.8584891206956, 2520.2818831902227, 2118.551971465327, 2227.7727686924636, 2012.192347093064, 2295.790601613859, 2553.892581573554, 2086.8122509855266, 2075.815728528246, 2062.861689654157, 2193.507360250996, 1736.568799999912, 1703.3009389129863, 1695.0161788619853, 2347.7219228419763, 1430.3896386093065, 2290.108920408687, 1632.058464501147, 4657.853967180667, 1924.2727395169616, 1836.4131408026255, 5998.817650060979, 2093.433162862588, 1772.4187852904715, 8.631779903440153, 5.47818991571349, 5.5133785545106475, 5.515191226620633, 5.516365750670016, 6.097460302039098, 4.643899029346835, 14.91473052085269, 4.496439783010999, 4.381384627112384, 7.792046516840958, 5.755748915367832, 4.895765377327494, 3.746331712564435, 4.665641702012753, 3.2485313140380105, 3.3980588686859403, 4.522520107213716, 3.1347190036083, 5.272910004462752, 2.902951252426527, 2.8977384492047524, 2.901981650014097, 2.898619960638298, 2.901946032688267, 2.900280578021332, 2.9021049776455365, 2.900361471676526, 2.9043774908980025, 4.6552897712895795, 4.037095693786041, 9.47142383074415, 8.226049421409519, 5.333604076047298, 7.856065755139986, 15.460801708209662, 16.72391016771973, 10.073831600390134, 8.155624590389554, 27.897074942717285, 10.045204503216, 10.847377720148648, 14.955095068773389, 19.00923654332076, 883.7877127597122, 35.5347018673582, 12.533830062225421, 30.82717072651949, 59.95586150384539, 8.892911249878713, 182.0493891838447, 16.45810681221283, 19.81576910152004, 25.354720569795294, 44.81962014248962, 10.460693123630698, 11.973041295857062, 63.672490462303784, 45.775004808031326, 5998.817650060979, 69.47755625527975, 19.17444424379472, 1159.6210017588332, 59.03491664738753, 225.52255654598804, 221.6433720214236, 68.82946165546652, 230.64378005047453, 255.02188348974116, 150.48509003075307, 198.93316563742707, 465.3617819220705, 1653.007986592266, 5687.524785798929, 278.20705568290487, 1126.8340606653892, 1085.5921613225469, 1772.4187852904715, 1069.3061054497523, 3.6155639700208586, 3.048350674101781, 3.058232027729676, 3.0604823445290887, 2.8000349504943047, 2.5097385216222836, 2.5072708285301792, 2.512754589571263, 2.8527348288120438, 2.1780274523848235, 2.1771753110339263, 4.046681417845965, 2.8703988853221905, 1.9519964243764845, 1.9515579496535838, 1.952642873873989, 1.945833722278697, 1.9543711031409063, 1.9524701099077884, 1.9468819398583035, 1.954338193521745, 1.954849418495914, 1.9474055214490427, 1.9488412705898253, 1.9518214299843286, 1.9561126485595022, 2.8684654421024187, 1.955262404190089, 2.2883979553773277, 1.9584136289230962, 4.159444847713255, 4.017517937287746, 5.648506010749586, 7.341027911307675, 2.7002151243911388, 8.64147274385512, 6.300193018626759, 3.333370014962613, 4.878097150465167, 5.55549803425735, 7.426517862840854, 6.407234425337638, 8.23622615902445, 20.056628538673444, 8.988607697363982, 4657.853967180667, 10.150453014577877, 5.431824299421359, 159.098182303512, 264.35726683252744, 105.37458859030116, 98.96043966954498, 2193.507360250996, 389.6200608294034, 39.08279343860979, 46.67933723311082, 35.69927983525346, 883.7877127597122, 1175.0378881571016, 5687.524785798929, 44.43007068909008, 629.5474082366469, 1.4644301798301114, 1.6498171001929554, 1.81291355006875, 1.2285862844303437, 0.9961044580315861, 0.9966822851869578, 1.0049813091824369, 1.3041156406239334, 1.011098503954462, 1.012474206008589, 1.0185745719599637, 0.9954595869016063, 0.8439016092130659, 0.7642853697999846, 0.7654490231324658, 0.767904990273666, 0.7708078907238425, 0.774139712339092, 0.775581803781479, 0.7759808730580918, 0.7753380673381252, 0.7751096321587201, 0.7760114527072064, 0.7780307222973867, 0.780354796259474, 0.7804043320436834, 0.7077751885207283, 0.6631672439313234, 0.7103380240015191, 1.019781153994898, 1.7409644097330008, 1.2633965401919163, 1.6178039702844034, 3.855620646803603, 1.6254170568937742, 8.26933770631524, 3.548359658916797, 13.689565230338129, 7.216983566096958, 2.328126924512328, 2.4641656761460906, 19.990086559841828, 2.701426945895722, 8.753082555937764, 3.55865012076614, 4.969245196344632, 124.10957923660617, 95.33171287079554, 48.83951934992287, 8.561996600968266, 1.0038954474012995, 1.0276557153686003, 0.8282600002744173, 0.8559892104315048, 0.6955058684924943, 0.704670683474056, 0.7069997565728641, 0.6490436336513885, 0.6511346779869377, 0.6530423691624958, 0.6538567012407136, 0.6569674649087096, 0.6603218810621997, 0.6615843652121328, 0.6624577430749534, 0.6654503796843735, 0.6652736556695973, 0.667584745739988, 0.6689889518470913, 0.504826416427154, 1.0193312997314352, 0.5115896524117769, 0.47085653554894796, 0.47211008249557324, 0.4717910215331714, 0.4721203325563984, 0.47212693425322527, 0.47269563482970545, 0.47317899217868387, 0.47312899062066177, 1.801665552643081, 2.2127250533247897, 7.098982422856182, 10.059438681438229, 4.628549669127152, 4.250259179958841, 8.038618031943345, 0.9233750396153584, 33.22042712036294, 8.177857119934018, 7.23438183367068, 8.031017601892584, 4.911178061076745, 3.420764213008986, 3.356296483005838, 2.84410013404702, 2.8466627795259014, 2.8460819198594423, 2.850233536650679, 2.8500588398115205, 2.8538345167664287, 3.969442122350345, 2.3395423594179974, 2.3372445025512683, 3.1983166570233874, 2.346995242037247, 2.349211618718001, 2.0348293170168663, 1.8259507489243274, 1.8279979246203433, 1.8230730561499537, 1.825837711639265, 1.826256093087681, 1.82823493894951, 1.823114798884952, 1.8262838935205268, 1.825494939675195, 1.8285645561650277, 2.437211451897033, 2.052576165310114, 1.8314059294929321, 2.74927806540388, 8.671388453485754, 6.375053481400011, 3.202303861757045, 4.570563893143046, 6.332888561258373, 2.186094620461971, 5.787388576606316, 3.9142776015134353, 6.32558781115326, 3.6981479292628996, 9.715294818739855, 12.161496137585052, 2.919794660316331, 19.44171275784475, 13.558499129126536, 23.71592352978873, 42.04443518738364, 13.568134528496447, 54.24069165743002, 2290.108920408687, 450.76009295576915, 71.53619767980054, 21.550216490907733, 1666.4418654727474, 3241.268707547561, 15.27400778690443, 30.216849188890208, 2075.815728528246, 217.34781730286622, 2093.433162862588, 883.7877127597122, 2.0120135227933345, 2.0202221988835154, 1.7255412566698693, 1.4431858306092644, 1.2746792528634707, 1.1937882816434968, 1.1533924266923206, 1.1575628965197775, 1.1605461338016718, 1.1707266059025752, 1.1145516015254606, 1.122866813053897, 2.349612088023759, 1.0815790903593279, 0.9475666010423583, 0.9497903641308342, 0.8660490991810764, 0.8669111287197976, 0.8658006709993699, 0.8689293886686738, 0.8688514282074119, 0.8685399252135347, 0.8691499627328674, 0.8694729192222502, 0.8706652351650686, 0.9727019502259684, 0.8717619288586174, 0.8728198274994858, 0.872188506964876, 0.874202685430719, 1.2169642052997658, 1.6115226671308842, 1.3333683858827978, 5.711829523452774, 4.386903643804569, 2.6124490382551278, 2.9337937556150218, 2.0295052015933686, 2.836888282262932, 3.0178552786179713, 2.550808043622805, 22.624506025675142, 1.7136083524999324, 9.624513467792275, 6.33907554309281, 154.89076411794125, 222.33283023644458, 6.568801725406639, 9.473295832665357, 6.400259052227137, 128.1867138720342, 51.206225199297194, 23.784386062358173, 292.503401552281, 883.7877127597122, 17.44642830563475, 11.56907634794748, 102.5421342066892, 8.566850614238472, 197.76876007327047, 15.937758333379264, 63.11266452152333, 14.046724507303097, 14.471201913324327, 1.8312333021447205, 0.7556242342035406, 0.7588313485954482, 0.6621128426216071, 0.6085655359633544, 0.6088090751390757, 0.6093413831189138, 0.6096348820140868, 0.6092845098600354, 0.611705845417757, 0.6118725568663442, 0.6135134754809516, 0.6534645515853138, 1.5331952364739594, 0.5418385979580169, 0.5473493296998421, 0.5919750257652628, 3.033865977309202, 0.636546026178143, 0.4919226482500343, 0.49244450761119185, 0.4943054391841507, 0.4491554501958078, 0.44805432926478556, 0.4483733833671949, 0.4488987530516103, 0.4496311908458413, 0.49545122527242647, 0.4497206188913185, 0.45011209724937473, 3.327033454000208, 1.9333479886480454, 0.49802533884149053, 1.753845457989134, 1.8365741612270032, 2.813794119958259, 3.372039187565384, 2.620663929619122, 1.125007727276277, 8.988607697363982, 4.578302296568293, 2.011918243494695, 19.51130324150586, 48.26987361621032, 4.77449125207382, 8.23622615902445, 19.259159551327933, 27.376151980995573, 14.493651021085958, 3.4846476803190063, 3.0523606208785146, 30.73798574630174, 4.948259038467963, 771.4737549898747, 1.671928904157859, 1.5261732882658805, 1.010933420751541, 0.8931904133945943, 0.8962454910200853, 0.8974672300059666, 0.8975031717134958, 0.8985606668450066, 0.8999390303242532, 0.900230307748153, 0.9025903201124006, 0.9054959932325237, 1.6603757959015164, 0.741400409199064, 0.7488925941328018, 0.748635697402323, 0.6894353997782778, 0.6900473905146706, 0.6899691942998201, 0.6932360368830551, 0.6943299623687925, 0.6955011197175439, 0.695986995615224, 0.6964787007380369, 0.6987473943123977, 0.6987983109473993, 0.6998791819686516, 0.6991058535959332, 0.6997641876650339, 0.7008605058767484, 1.0645992390311876, 1.2002133844382419, 2.6328766091786813, 2.1110503297112375, 5.053044650282943, 22.036046281020802, 3.0178552786179713, 13.396423780011578, 4.777387825756186, 8.939586461422593, 6.4703746082943185, 6.054352429101532, 1.0807993659986443, 2.9704314923242916, 3.052273045303137, 22.04401810852596, 4.735379175072264, 2.1939756548008473, 17.162966582414224, 211.98756355090535, 25.209787480703103, 0.8822121368898639, 0.7682373158287041, 0.6527635137948691, 0.530576111939906, 0.5344342008018865, 0.5455640720779573, 0.5675409966807216, 0.5091144704068024, 0.7757518640776975, 0.43605411351636375, 0.4430224626758961, 0.44753771639776785, 0.4543780223211953, 0.4117655091365058, 0.4129756953832218, 0.41317741650720563, 0.413307909024738, 0.4138270003694513, 0.4143057260632548, 0.41380443774285475, 0.4147436721651609, 0.41478004582701394, 0.41467312092340497, 0.4148491386053728, 0.415232154200586, 0.4146841976149109, 0.4153432167610311, 0.4148884168047869, 0.4151821272768829, 0.41548914009456583, 0.41601324646847404, 3.0598858337784236, 0.41583946619789897, 1.943808595645464, 4.381695832564315, 2.0838333048865327, 5.779062277329305, 6.049449523166327, 10.487310954983403, 3.729174042898964, 9.849688532715525, 5.42950284928809, 2.7532840295906924, 5.597211324591831, 4.690807857557625, 4.458733034220442, 10.857692851560875, 18.524606403376144, 42.58863363059504, 1.8951287224048383, 1.6009694369534604, 1.3396787450434795, 1.341311553117938, 1.3436396117831892, 1.3543743261665955, 1.382115211976153, 1.0790986735785706, 1.0797897818840054, 1.0810342333881082, 1.0841642505303526, 1.0840251934314353, 1.087583699183901, 1.0865136281822516, 1.0908479121670642, 1.089216442138387, 1.0983367723379374, 1.0992910449629258, 1.4412366599781692, 1.4445484574109673, 0.8919655027318487, 0.8153601523640207, 0.817581394510301, 0.8190082581252295, 0.8176930709467464, 0.8185797132135438, 0.8203475222093319, 0.818911802758447, 0.8200437291226138, 0.8204777951686759, 1.6614165888106085, 1.4542097719374063, 2.1922923127965936, 1.6328826676628683, 2.6496398449002165, 1.9176559820125112, 7.020211946588247, 5.387182779966476, 6.7369965655467166, 8.623642441777246, 20.051177348668297, 13.568134528496447, 37.7576229473448, 105.97338500842882, 4.30628599371282, 32.279876649727704, 3.8842913730382147, 12.100793945692343, 19.177752517902487, 30.695878148176234, 295.9970225042205, 713.4148339986355, 19.43237675751497, 155.19181995215698, 0.594181775982884, 0.5713400017336562, 0.37820232868668585, 0.37828846978241837, 0.3787845485216501, 0.378890252475175, 0.37885384218009555, 0.3795329832248034, 0.37956586527209957, 0.3794428293314118, 0.3818784477639533, 0.6064090021022501, 0.39505550788029115, 0.3968645549414191, 0.39696265334891045, 0.39864433905144897, 0.39977379567827004, 0.40568098415997317, 0.40639323639488195, 0.896755334791504, 0.34334066501762234, 0.34385666956763206, 0.34372210315833646, 0.3442310902753693, 0.34436411981342707, 0.34532082738012376, 0.34406389783624847, 0.3439065303564432, 0.3459824792045885, 0.3470862758014184, 2.1899203820392605, 5.528430479091247, 3.694986473137415, 0.9672747658077895, 6.178780757283338, 2.9219550679702397, 2.835342328284427, 1.084024472433533, 0.5826618595976218, 0.5838717831409885, 1.0778935904560818, 0.5385886652012405, 0.4896365170347314, 0.49054133909532954, 0.49145773741010373, 0.4933868609190254, 0.4951783721158441, 0.4950367458325993, 0.49540575828847505, 0.49929534527774183, 1.079761446167555, 0.6295713072356574, 0.41521557147967597, 0.3914069410357777, 0.3913648772120659, 0.3922933096374553, 0.39291261838919866, 0.391693513833555, 0.3929611877011376, 0.3925052958528597, 0.3925455100103239, 0.39271198822079467, 0.39284341856140753, 0.3929569910381292, 0.39285305682052096, 0.3927593581004325, 0.3926711681862113, 0.39383649419507033, 5.787388576606316, 3.9763465763545303, 0.7043753320660757, 1.7561674559063836, 0.7112699015081368, 1.9554200947366935, 2.5760632234413654, 32.95044911223867, 1.8388444816183578, 104.44597830400488, 4.764632870065083, 25.203985787494833, 13.559002247203969, 37.58348435548336, 1.2086767916767855, 0.7667844656144871, 0.8395941088584702, 0.6222411442606485, 0.6696688518623121, 0.531838869110216, 0.5339502694860985, 0.5441679161517259, 0.5465994806122014, 0.49745778223769577, 0.4274862349030271, 0.42902185816911276, 0.42951914935210034, 0.43226046278799857, 0.4117851850240966, 0.4120436444746628, 0.4118116722419883, 0.41291365235746313, 0.41234875996856746, 0.41253276815167705, 0.41324972883808564, 0.41374335236427345, 0.4117834431405469, 0.4134854184076445, 0.4142200295114553, 0.4140036033680278, 0.4139819618882602, 0.4139211446412479, 0.41455514272783645, 0.4140919486173799, 0.9482498771328371, 2.0802594203540794, 9.606280178194055, 3.9486339754582644, 2.7644163015824956, 6.947301083042827, 13.868860377462475, 4.337413464340424, 13.912300343627301, 2.9084473335108654, 9.72863590454503, 3.3435586609464583, 3.584429589396524, 9.26756899631925, 0.6295713072356574, 59.057637403404854, 16.95776749022238, 12.533830062225421, 6.711474909989599, 5.150266780932583, 7.837628098131477, 118.16224351993989, 9.849451948446386], \"Category\": [\"Default\", \"Default\", \"Default\", \"Default\", \"Default\", \"Default\", \"Default\", \"Default\", \"Default\", \"Default\", \"Default\", \"Default\", \"Default\", \"Default\", \"Default\", \"Default\", \"Default\", \"Default\", \"Default\", \"Default\", \"Default\", \"Default\", \"Default\", \"Default\", \"Default\", \"Default\", \"Default\", \"Default\", \"Default\", \"Default\", \"Topic1\", \"Topic1\", \"Topic1\", \"Topic1\", \"Topic1\", \"Topic1\", \"Topic1\", \"Topic1\", \"Topic1\", \"Topic1\", \"Topic1\", \"Topic1\", \"Topic1\", \"Topic1\", \"Topic1\", \"Topic1\", \"Topic1\", \"Topic1\", \"Topic1\", \"Topic1\", \"Topic1\", \"Topic1\", \"Topic1\", \"Topic1\", \"Topic1\", \"Topic1\", \"Topic1\", \"Topic1\", \"Topic1\", \"Topic1\", \"Topic1\", \"Topic1\", \"Topic1\", \"Topic1\", \"Topic1\", \"Topic1\", \"Topic1\", \"Topic1\", \"Topic1\", \"Topic1\", \"Topic1\", \"Topic1\", \"Topic1\", \"Topic1\", \"Topic1\", \"Topic1\", \"Topic1\", \"Topic1\", \"Topic1\", \"Topic1\", \"Topic1\", \"Topic1\", \"Topic1\", \"Topic1\", \"Topic1\", \"Topic1\", \"Topic1\", \"Topic1\", \"Topic1\", \"Topic1\", \"Topic1\", \"Topic2\", \"Topic2\", \"Topic2\", \"Topic2\", \"Topic2\", \"Topic2\", \"Topic2\", \"Topic2\", \"Topic2\", \"Topic2\", \"Topic2\", \"Topic2\", \"Topic2\", \"Topic2\", \"Topic2\", \"Topic2\", \"Topic2\", \"Topic2\", \"Topic2\", \"Topic2\", \"Topic2\", \"Topic2\", \"Topic2\", \"Topic2\", \"Topic2\", \"Topic2\", \"Topic2\", \"Topic2\", \"Topic2\", \"Topic2\", \"Topic2\", \"Topic2\", \"Topic2\", \"Topic2\", \"Topic2\", \"Topic2\", \"Topic2\", \"Topic2\", \"Topic2\", \"Topic2\", \"Topic2\", \"Topic2\", \"Topic2\", \"Topic2\", \"Topic2\", \"Topic2\", \"Topic2\", \"Topic2\", \"Topic2\", \"Topic2\", \"Topic2\", \"Topic2\", \"Topic2\", \"Topic2\", \"Topic2\", \"Topic2\", \"Topic2\", \"Topic2\", \"Topic2\", \"Topic2\", \"Topic2\", \"Topic2\", \"Topic2\", \"Topic2\", \"Topic2\", \"Topic2\", \"Topic2\", \"Topic2\", \"Topic2\", \"Topic2\", \"Topic2\", \"Topic2\", \"Topic2\", \"Topic2\", \"Topic2\", \"Topic2\", \"Topic2\", \"Topic2\", \"Topic2\", \"Topic3\", \"Topic3\", \"Topic3\", \"Topic3\", \"Topic3\", \"Topic3\", \"Topic3\", \"Topic3\", \"Topic3\", \"Topic3\", \"Topic3\", \"Topic3\", \"Topic3\", \"Topic3\", \"Topic3\", \"Topic3\", \"Topic3\", \"Topic3\", \"Topic3\", \"Topic3\", \"Topic3\", \"Topic3\", \"Topic3\", \"Topic3\", \"Topic3\", \"Topic3\", \"Topic3\", \"Topic3\", \"Topic3\", \"Topic3\", \"Topic3\", \"Topic3\", \"Topic3\", \"Topic3\", \"Topic3\", \"Topic3\", \"Topic3\", \"Topic3\", \"Topic3\", \"Topic3\", \"Topic3\", \"Topic3\", \"Topic3\", \"Topic3\", \"Topic3\", \"Topic3\", \"Topic3\", \"Topic3\", \"Topic3\", \"Topic3\", \"Topic3\", \"Topic3\", \"Topic3\", \"Topic3\", \"Topic3\", \"Topic3\", \"Topic3\", \"Topic3\", \"Topic3\", \"Topic3\", \"Topic3\", \"Topic3\", \"Topic4\", \"Topic4\", \"Topic4\", \"Topic4\", \"Topic4\", \"Topic4\", \"Topic4\", \"Topic4\", \"Topic4\", \"Topic4\", \"Topic4\", \"Topic4\", \"Topic4\", \"Topic4\", \"Topic4\", \"Topic4\", \"Topic4\", \"Topic4\", \"Topic4\", \"Topic4\", \"Topic4\", \"Topic4\", \"Topic4\", \"Topic4\", \"Topic4\", \"Topic4\", \"Topic4\", \"Topic4\", \"Topic4\", \"Topic4\", \"Topic4\", \"Topic4\", \"Topic4\", \"Topic4\", \"Topic4\", \"Topic4\", \"Topic4\", \"Topic4\", \"Topic4\", \"Topic4\", \"Topic4\", \"Topic4\", \"Topic4\", \"Topic4\", \"Topic4\", \"Topic4\", \"Topic4\", \"Topic4\", \"Topic4\", \"Topic4\", \"Topic5\", \"Topic5\", \"Topic5\", \"Topic5\", \"Topic5\", \"Topic5\", \"Topic5\", \"Topic5\", \"Topic5\", \"Topic5\", \"Topic5\", \"Topic5\", \"Topic5\", \"Topic5\", \"Topic5\", \"Topic5\", \"Topic5\", \"Topic5\", \"Topic5\", \"Topic5\", \"Topic5\", \"Topic5\", \"Topic5\", \"Topic5\", \"Topic5\", \"Topic5\", \"Topic5\", \"Topic5\", \"Topic5\", \"Topic5\", \"Topic5\", \"Topic5\", \"Topic5\", \"Topic5\", \"Topic5\", \"Topic5\", \"Topic5\", \"Topic5\", \"Topic5\", \"Topic5\", \"Topic5\", \"Topic6\", \"Topic6\", \"Topic6\", \"Topic6\", \"Topic6\", \"Topic6\", \"Topic6\", \"Topic6\", \"Topic6\", \"Topic6\", \"Topic6\", \"Topic6\", \"Topic6\", \"Topic6\", \"Topic6\", \"Topic6\", \"Topic6\", \"Topic6\", \"Topic6\", \"Topic6\", \"Topic6\", \"Topic6\", \"Topic6\", \"Topic6\", \"Topic6\", \"Topic6\", \"Topic6\", \"Topic6\", \"Topic6\", \"Topic6\", \"Topic6\", \"Topic6\", \"Topic6\", \"Topic6\", \"Topic6\", \"Topic6\", \"Topic6\", \"Topic6\", \"Topic6\", \"Topic6\", \"Topic6\", \"Topic6\", \"Topic6\", \"Topic6\", \"Topic6\", \"Topic6\", \"Topic6\", \"Topic6\", \"Topic6\", \"Topic6\", \"Topic6\", \"Topic6\", \"Topic6\", \"Topic6\", \"Topic6\", \"Topic6\", \"Topic6\", \"Topic6\", \"Topic6\", \"Topic6\", \"Topic6\", \"Topic6\", \"Topic7\", \"Topic7\", \"Topic7\", \"Topic7\", \"Topic7\", \"Topic7\", \"Topic7\", \"Topic7\", \"Topic7\", \"Topic7\", \"Topic7\", \"Topic7\", \"Topic7\", \"Topic7\", \"Topic7\", \"Topic7\", \"Topic7\", \"Topic7\", \"Topic7\", \"Topic7\", \"Topic7\", \"Topic7\", \"Topic7\", \"Topic7\", \"Topic7\", \"Topic7\", \"Topic7\", \"Topic7\", \"Topic7\", \"Topic7\", \"Topic7\", \"Topic7\", \"Topic7\", \"Topic7\", \"Topic7\", \"Topic7\", \"Topic7\", \"Topic7\", \"Topic7\", \"Topic7\", \"Topic7\", \"Topic7\", \"Topic7\", \"Topic7\", \"Topic7\", \"Topic7\", \"Topic7\", \"Topic7\", \"Topic7\", \"Topic7\", \"Topic7\", \"Topic7\", \"Topic7\", \"Topic7\", \"Topic7\", \"Topic7\", \"Topic7\", \"Topic7\", \"Topic7\", \"Topic7\", \"Topic7\", \"Topic7\", \"Topic7\", \"Topic7\", \"Topic8\", \"Topic8\", \"Topic8\", \"Topic8\", \"Topic8\", \"Topic8\", \"Topic8\", \"Topic8\", \"Topic8\", \"Topic8\", \"Topic8\", \"Topic8\", \"Topic8\", \"Topic8\", \"Topic8\", \"Topic8\", \"Topic8\", \"Topic8\", \"Topic8\", \"Topic8\", \"Topic8\", \"Topic8\", \"Topic8\", \"Topic8\", \"Topic8\", \"Topic8\", \"Topic8\", \"Topic8\", \"Topic8\", \"Topic8\", \"Topic8\", \"Topic8\", \"Topic8\", \"Topic8\", \"Topic8\", \"Topic8\", \"Topic8\", \"Topic8\", \"Topic8\", \"Topic8\", \"Topic8\", \"Topic8\", \"Topic8\", \"Topic8\", \"Topic8\", \"Topic8\", \"Topic8\", \"Topic8\", \"Topic8\", \"Topic8\", \"Topic8\", \"Topic8\", \"Topic8\", \"Topic8\", \"Topic9\", \"Topic9\", \"Topic9\", \"Topic9\", \"Topic9\", \"Topic9\", \"Topic9\", \"Topic9\", \"Topic9\", \"Topic9\", \"Topic9\", \"Topic9\", \"Topic9\", \"Topic9\", \"Topic9\", \"Topic9\", \"Topic9\", \"Topic9\", \"Topic9\", \"Topic9\", \"Topic9\", \"Topic9\", \"Topic9\", \"Topic9\", \"Topic9\", \"Topic9\", \"Topic9\", \"Topic9\", \"Topic9\", \"Topic9\", \"Topic9\", \"Topic9\", \"Topic9\", \"Topic9\", \"Topic9\", \"Topic9\", \"Topic9\", \"Topic9\", \"Topic9\", \"Topic9\", \"Topic9\", \"Topic9\", \"Topic9\", \"Topic9\", \"Topic9\", \"Topic9\", \"Topic9\", \"Topic9\", \"Topic9\", \"Topic9\", \"Topic9\", \"Topic10\", \"Topic10\", \"Topic10\", \"Topic10\", \"Topic10\", \"Topic10\", \"Topic10\", \"Topic10\", \"Topic10\", \"Topic10\", \"Topic10\", \"Topic10\", \"Topic10\", \"Topic10\", \"Topic10\", \"Topic10\", \"Topic10\", \"Topic10\", \"Topic10\", \"Topic10\", \"Topic10\", \"Topic10\", \"Topic10\", \"Topic10\", \"Topic10\", \"Topic10\", \"Topic10\", \"Topic10\", \"Topic10\", \"Topic10\", \"Topic10\", \"Topic10\", \"Topic10\", \"Topic10\", \"Topic10\", \"Topic10\", \"Topic10\", \"Topic10\", \"Topic10\", \"Topic10\", \"Topic10\", \"Topic10\", \"Topic10\", \"Topic10\", \"Topic10\", \"Topic10\", \"Topic10\", \"Topic10\", \"Topic10\", \"Topic11\", \"Topic11\", \"Topic11\", \"Topic11\", \"Topic11\", \"Topic11\", \"Topic11\", \"Topic11\", \"Topic11\", \"Topic11\", \"Topic11\", \"Topic11\", \"Topic11\", \"Topic11\", \"Topic11\", \"Topic11\", \"Topic11\", \"Topic11\", \"Topic11\", \"Topic11\", \"Topic11\", \"Topic11\", \"Topic11\", \"Topic11\", \"Topic11\", \"Topic11\", \"Topic11\", \"Topic11\", \"Topic11\", \"Topic11\", \"Topic11\", \"Topic11\", \"Topic11\", \"Topic11\", \"Topic11\", \"Topic11\", \"Topic11\", \"Topic11\", \"Topic11\", \"Topic11\", \"Topic11\", \"Topic11\", \"Topic11\", \"Topic11\", \"Topic11\", \"Topic11\", \"Topic11\", \"Topic11\", \"Topic11\", \"Topic11\", \"Topic11\", \"Topic11\", \"Topic11\", \"Topic11\", \"Topic12\", \"Topic12\", \"Topic12\", \"Topic12\", \"Topic12\", \"Topic12\", \"Topic12\", \"Topic12\", \"Topic12\", \"Topic12\", \"Topic12\", \"Topic12\", \"Topic12\", \"Topic12\", \"Topic12\", \"Topic12\", \"Topic12\", \"Topic12\", \"Topic12\", \"Topic12\", \"Topic12\", \"Topic12\", \"Topic12\", \"Topic12\", \"Topic12\", \"Topic12\", \"Topic12\", \"Topic12\", \"Topic12\", \"Topic12\", \"Topic12\", \"Topic12\", \"Topic12\", \"Topic12\", \"Topic12\", \"Topic12\", \"Topic12\", \"Topic13\", \"Topic13\", \"Topic13\", \"Topic13\", \"Topic13\", \"Topic13\", \"Topic13\", \"Topic13\", \"Topic13\", \"Topic13\", \"Topic13\", \"Topic13\", \"Topic13\", \"Topic13\", \"Topic13\", \"Topic13\", \"Topic13\", \"Topic13\", \"Topic13\", \"Topic13\", \"Topic13\", \"Topic13\", \"Topic13\", \"Topic13\", \"Topic13\", \"Topic13\", \"Topic13\", \"Topic13\", \"Topic13\", \"Topic13\", \"Topic13\", \"Topic13\", \"Topic13\", \"Topic13\", \"Topic13\", \"Topic13\", \"Topic13\", \"Topic13\", \"Topic13\", \"Topic13\", \"Topic13\", \"Topic13\", \"Topic13\", \"Topic13\", \"Topic13\", \"Topic14\", \"Topic14\", \"Topic14\", \"Topic14\", \"Topic14\", \"Topic14\", \"Topic14\", \"Topic14\", \"Topic14\", \"Topic14\", \"Topic14\", \"Topic14\", \"Topic14\", \"Topic14\", \"Topic14\", \"Topic14\", \"Topic14\", \"Topic14\", \"Topic14\", \"Topic14\", \"Topic14\", \"Topic14\", \"Topic14\", \"Topic14\", \"Topic14\", \"Topic14\", \"Topic14\", \"Topic14\", \"Topic14\", \"Topic14\", \"Topic14\", \"Topic14\", \"Topic14\", \"Topic14\", \"Topic14\", \"Topic14\", \"Topic14\", \"Topic14\", \"Topic14\", \"Topic14\", \"Topic14\", \"Topic14\", \"Topic14\", \"Topic14\", \"Topic14\", \"Topic14\", \"Topic14\", \"Topic14\", \"Topic14\", \"Topic14\", \"Topic14\", \"Topic14\", \"Topic14\"], \"logprob\": [30.0, 29.0, 28.0, 27.0, 26.0, 25.0, 24.0, 23.0, 22.0, 21.0, 20.0, 19.0, 18.0, 17.0, 16.0, 15.0, 14.0, 13.0, 12.0, 11.0, 10.0, 9.0, 8.0, 7.0, 6.0, 5.0, 4.0, 3.0, 2.0, 1.0, -6.7052, -5.9984, -6.3144, -7.2571, -7.5202, -7.4789, -6.2068, -7.1356, -7.56, -5.58, -6.7113, -6.8183, -7.9559, -7.5142, -7.6254, -7.3613, -7.002, -7.7656, -7.6632, -7.4305, -7.8791, -6.4619, -7.7705, -7.9112, -7.9532, -7.1002, -5.4519, -7.3083, -6.7115, -7.7703, -4.9629, -5.4084, -5.5232, -5.7543, -5.7242, -5.8043, -5.9027, -5.8606, -5.7752, -5.9471, -5.8978, -5.9987, -5.8686, -5.7632, -5.964, -5.9694, -5.9758, -5.9151, -6.1467, -6.1659, -6.171, -5.8486, -6.3398, -5.8739, -6.2094, -5.1733, -6.0466, -6.0929, -4.9353, -5.965, -6.1325, -7.4954, -7.9594, -7.9537, -7.9542, -7.9553, -7.8605, -8.1335, -6.9676, -8.1681, -8.194, -7.6186, -7.9226, -8.0975, -8.3708, -8.1523, -8.5162, -8.4724, -8.1874, -8.5578, -8.0381, -8.6369, -8.6392, -8.6382, -8.6396, -8.6385, -8.6392, -8.6386, -8.6398, -8.6405, -8.1689, -8.3153, -7.4824, -7.6199, -8.044, -7.6905, -7.0489, -7.0266, -7.5003, -7.6967, -6.6053, -7.5232, -7.4565, -7.1984, -7.0229, -4.0706, -6.5805, -7.3984, -6.7357, -6.2727, -7.6695, -5.5005, -7.2452, -7.1373, -7.0142, -6.6742, -7.5989, -7.5286, -6.6467, -6.8437, -4.4452, -6.7713, -7.3371, -5.7429, -6.912, -6.4351, -6.5171, -6.9644, -6.7708, -6.7771, -6.913, -6.8817, -6.7607, -6.605, -6.5818, -7.0422, -6.9847, -6.9929, -6.9968, -7.0179, -7.5964, -7.7795, -7.7764, -7.7775, -7.8732, -7.9952, -7.9962, -8.0006, -7.8824, -8.158, -8.1586, -7.542, -7.8868, -8.2781, -8.2785, -8.2785, -8.2824, -8.2783, -8.2796, -8.2825, -8.2788, -8.2788, -8.2831, -8.2828, -8.2818, -8.2804, -7.8985, -8.2819, -8.1251, -8.2817, -7.5552, -7.6129, -7.3423, -7.1182, -8.0088, -7.0477, -7.3322, -7.861, -7.5869, -7.4941, -7.2949, -7.4435, -7.4628, -7.0046, -7.4469, -4.5991, -7.435, -7.8393, -6.9567, -6.8863, -7.1816, -7.2507, -6.7763, -7.257, -7.5694, -7.5569, -7.6198, -7.4383, -7.4197, -7.4011, -7.6619, -7.6389, -7.37, -7.2759, -7.1828, -7.5903, -7.8749, -7.8744, -7.8776, -7.6241, -7.8792, -7.8789, -7.8813, -7.9444, -8.1576, -8.2718, -8.2717, -8.2721, -8.2745, -8.2764, -8.2772, -8.2769, -8.2784, -8.2792, -8.2786, -8.2785, -8.2777, -8.2791, -8.438, -8.5092, -8.441, -8.0796, -7.5974, -7.9071, -7.7977, -7.1531, -7.8746, -7.216, -7.6142, -7.0895, -7.3861, -7.8977, -7.8866, -7.2599, -7.9035, -7.6324, -7.9011, -7.8676, -7.2983, -7.4159, -7.5682, -7.8867, -7.5542, -7.5602, -7.8368, -7.8466, -8.1125, -8.1159, -8.117, -8.2328, -8.2348, -8.2358, -8.2353, -8.2402, -8.2403, -8.2397, -8.2405, -8.2405, -8.241, -8.2424, -8.2422, -8.7899, -8.1004, -8.7946, -8.9008, -8.8993, -8.9002, -8.9004, -8.9019, -8.9013, -8.9004, -8.9005, -8.1121, -8.2869, -7.9507, -7.9697, -8.258, -8.3225, -8.2233, -8.7428, -8.0944, -8.3603, -8.3817, -6.6823, -7.188, -7.564, -7.5861, -7.7661, -7.7658, -7.767, -7.7666, -7.767, -7.7695, -7.4528, -7.9855, -7.9882, -7.681, -7.9924, -7.9958, -8.1525, -8.2681, -8.2675, -8.2712, -8.2703, -8.2701, -8.2693, -8.2725, -8.2715, -8.2722, -8.2706, -7.9868, -8.1589, -8.2738, -7.8965, -6.8612, -7.1672, -7.8186, -7.5654, -7.3193, -8.1344, -7.4346, -7.7701, -7.4673, -7.8124, -7.1977, -7.1221, -7.9734, -7.082, -7.2977, -7.2428, -7.0868, -7.4845, -7.1588, -6.3903, -6.8126, -7.3031, -7.5162, -7.1885, -7.1766, -7.6478, -7.6009, -7.3867, -7.5537, -7.5373, -7.6052, -7.2921, -7.2943, -7.4724, -7.6949, -7.8561, -7.9348, -7.9769, -7.9782, -7.9792, -7.9826, -8.0356, -8.0402, -7.3054, -8.0861, -8.2554, -8.2541, -8.3717, -8.3715, -8.3745, -8.3722, -8.3727, -8.3743, -8.3741, -8.3744, -8.376, -8.2652, -8.3749, -8.3758, -8.3775, -8.376, -8.0771, -7.9057, -8.0807, -7.2965, -7.4803, -7.766, -7.7103, -7.9796, -7.8544, -7.8659, -7.9717, -7.1661, -8.1237, -7.5392, -7.6839, -6.7189, -6.616, -7.6831, -7.616, -7.7432, -7.1994, -7.436, -7.6275, -7.3794, -7.3697, -7.7511, -7.8033, -7.6842, -7.837, -7.7151, -7.8178, -7.7966, -7.8299, -7.837, -6.6571, -7.8485, -7.8486, -8.1313, -8.2471, -8.2471, -8.247, -8.2474, -8.249, -8.2488, -8.2495, -8.2493, -8.1954, -7.4385, -8.4866, -8.4884, -8.422, -6.8792, -8.5471, -8.8099, -8.8118, -8.8143, -8.9116, -8.9142, -8.9136, -8.9125, -8.9118, -8.8155, -8.9125, -8.9121, -6.9357, -7.5163, -8.8151, -7.7783, -7.7846, -7.5463, -7.4257, -7.6218, -8.2491, -6.8626, -7.6241, -8.1547, -7.4186, -7.3957, -7.9858, -7.8771, -7.8413, -7.8225, -7.945, -8.1438, -8.1813, -8.0906, -8.1711, -8.0241, -7.0727, -7.3235, -7.7432, -7.9119, -7.9142, -7.9131, -7.9139, -7.9149, -7.9139, -7.9139, -7.915, -7.9155, -7.3531, -8.1858, -8.187, -8.1892, -8.3069, -8.3072, -8.3082, -8.3078, -8.309, -8.3089, -8.3105, -8.3111, -8.3119, -8.3118, -8.3104, -8.3124, -8.3121, -8.3123, -7.9147, -7.8026, -7.417, -7.6956, -7.4424, -6.8168, -7.7742, -7.2878, -7.6517, -7.445, -7.647, -7.6746, -8.1886, -7.9282, -7.9238, -7.5574, -7.8964, -8.0415, -7.8039, -7.6541, -7.8719, -7.3213, -7.5421, -7.8284, -8.221, -8.2231, -8.2305, -8.2384, -8.3872, -8.0481, -8.7775, -8.7839, -8.7826, -8.791, -8.8895, -8.8894, -8.8891, -8.8892, -8.8892, -8.8883, -8.8904, -8.8888, -8.8888, -8.8894, -8.8898, -8.8889, -8.8904, -8.8889, -8.8905, -8.8899, -8.8897, -8.8887, -7.34, -8.8891, -8.2317, -7.944, -8.2727, -7.9064, -7.9551, -7.8154, -8.2448, -8.0564, -8.2272, -8.4245, -8.2749, -8.3298, -8.3719, -8.3098, -8.3816, -8.372, -7.3281, -7.5025, -7.7231, -7.7247, -7.7237, -7.7282, -7.7345, -8.0073, -8.0072, -8.0075, -8.0082, -8.0097, -8.0103, -8.0117, -8.0112, -8.0128, -8.013, -8.014, -7.7492, -7.7499, -8.2862, -8.4028, -8.4038, -8.4021, -8.4042, -8.4038, -8.4021, -8.4047, -8.4043, -8.4038, -7.7338, -7.9136, -7.5906, -7.9032, -7.609, -7.8324, -7.0261, -7.3427, -7.3413, -7.2775, -6.9927, -7.2499, -7.2558, -7.1309, -7.7624, -7.5018, -7.827, -7.6918, -7.6358, -7.6417, -7.4665, -7.6778, -7.8146, -7.8205, -7.8142, -7.8699, -8.8624, -8.8634, -8.8632, -8.8635, -8.8636, -8.862, -8.8633, -8.8641, -8.8656, -8.4479, -8.8818, -8.8825, -8.8823, -8.8843, -8.8847, -8.8894, -8.8892, -8.2406, -9.3966, -9.3976, -9.399, -9.3977, -9.3981, -9.3955, -9.3992, -9.4, -9.3995, -9.4, -8.3759, -7.9235, -8.2938, -8.973, -8.9417, -9.1546, -9.246, -6.8557, -7.8217, -7.8221, -7.2542, -8.1067, -8.2194, -8.2195, -8.2204, -8.2213, -8.2206, -8.2225, -8.223, -8.2252, -7.59, -8.2201, -8.7769, -8.8844, -8.8846, -8.8853, -8.8839, -8.8874, -8.8845, -8.8861, -8.8861, -8.8858, -8.8854, -8.8853, -8.8856, -8.8863, -8.8873, -8.8848, -7.5431, -7.8349, -8.6233, -8.2307, -8.63, -8.237, -8.2459, -7.3974, -8.4201, -7.2782, -8.1952, -8.4062, -8.5065, -8.4968, -7.0215, -7.5648, -7.5807, -7.9028, -7.8541, -8.2463, -8.246, -8.2501, -8.2513, -8.4033, -8.7918, -8.7921, -8.7933, -8.7952, -8.9102, -8.9104, -8.911, -8.9104, -8.9127, -8.9134, -8.9127, -8.9115, -8.9163, -8.9129, -8.9116, -8.9124, -8.913, -8.9133, -8.9118, -8.9133, -8.1381, -7.578, -6.6943, -7.5948, -7.8798, -7.55, -7.2226, -7.8796, -7.7347, -8.2729, -7.9178, -8.2758, -8.2783, -8.0102, -8.7948, -7.6825, -7.9925, -8.1535, -8.3311, -8.3958, -8.3498, -7.9666, -8.3708], \"loglift\": [30.0, 29.0, 28.0, 27.0, 26.0, 25.0, 24.0, 23.0, 22.0, 21.0, 20.0, 19.0, 18.0, 17.0, 16.0, 15.0, 14.0, 13.0, 12.0, 11.0, 10.0, 9.0, 8.0, 7.0, 6.0, 5.0, 4.0, 3.0, 2.0, 1.0, 0.0495, 0.0493, 0.0493, 0.0492, 0.0492, 0.0492, 0.0492, 0.0492, 0.0492, 0.0491, 0.0491, 0.0491, 0.0491, 0.0491, 0.0491, 0.049, 0.049, 0.049, 0.049, 0.049, 0.049, 0.049, 0.049, 0.049, 0.049, 0.049, 0.049, 0.0489, 0.0489, 0.0489, 0.0455, 0.0484, 0.0474, 0.0487, 0.0482, 0.0485, 0.0489, 0.0485, 0.0471, 0.0488, 0.0478, 0.0487, 0.047, 0.0458, 0.047, 0.0469, 0.0467, 0.046, 0.048, 0.0482, 0.048, 0.0445, 0.0489, 0.0442, 0.0474, 0.0348, 0.0455, 0.0459, 0.0198, 0.0428, 0.0418, 4.0035, 3.9942, 3.9935, 3.9927, 3.9913, 3.986, 3.9853, 3.9844, 3.983, 3.983, 3.9827, 3.9816, 3.9685, 3.9628, 3.9619, 3.96, 3.9587, 3.9579, 3.9541, 3.9537, 3.9517, 3.9512, 3.9507, 3.9505, 3.9505, 3.9504, 3.9503, 3.9497, 3.9477, 3.9475, 3.9436, 3.9237, 3.9271, 3.9364, 3.9026, 3.8671, 3.8109, 3.8442, 3.859, 3.7206, 3.824, 3.8139, 3.7509, 3.6866, 2.7996, 3.5034, 3.7276, 3.4902, 3.2881, 3.7997, 2.9496, 3.6084, 3.5306, 3.4072, 3.1775, 3.7079, 3.6431, 2.8539, 2.9869, 0.5098, 2.6421, 3.3637, 0.8556, 2.6643, 1.8008, 1.7362, 2.4583, 1.4427, 1.3359, 1.7275, 1.4797, 0.7509, -0.3609, -1.5735, 0.9838, -0.3575, -0.3284, -0.8225, -0.3383, 4.7727, 4.7603, 4.7601, 4.7584, 4.7515, 4.739, 4.739, 4.7324, 4.7237, 4.718, 4.7178, 4.7145, 4.7132, 4.7074, 4.7072, 4.7067, 4.7063, 4.706, 4.7057, 4.7057, 4.7055, 4.7052, 4.7048, 4.7043, 4.7038, 4.703, 4.7021, 4.702, 4.7014, 4.7005, 4.6738, 4.6508, 4.5807, 4.5427, 4.6523, 4.4501, 4.4816, 4.5894, 4.4828, 4.4455, 4.3544, 4.3535, 4.083, 3.6512, 4.0115, 0.609, 3.9019, 4.1228, 1.6281, 1.1908, 1.8152, 1.809, -0.8152, 0.4322, 2.4193, 2.2542, 2.4594, -0.5682, -0.8343, -2.3928, 2.1986, -0.4295, 5.9029, 5.8778, 5.8767, 5.8582, 5.7833, 5.7833, 5.7718, 5.7648, 5.7641, 5.7631, 5.7546, 5.7145, 5.6665, 5.6514, 5.65, 5.6464, 5.6402, 5.634, 5.6313, 5.6311, 5.6304, 5.6299, 5.6294, 5.6269, 5.6246, 5.6232, 5.562, 5.5559, 5.5554, 5.5552, 5.5026, 5.5135, 5.3756, 5.1517, 5.2941, 4.3258, 4.7737, 3.9483, 4.2919, 4.9116, 4.8659, 3.3992, 4.7571, 3.8525, 4.4839, 4.1835, 1.5349, 1.6811, 2.1976, 3.6203, 6.0963, 6.0669, 6.0061, 5.9633, 5.905, 5.8885, 5.8841, 5.8539, 5.8486, 5.8447, 5.844, 5.8343, 5.8291, 5.8278, 5.8256, 5.8212, 5.821, 5.8161, 5.8142, 5.548, 5.5348, 5.53, 5.5068, 5.5056, 5.5054, 5.5045, 5.503, 5.5024, 5.5023, 5.5023, 4.9536, 4.5732, 3.7437, 3.3762, 3.8642, 3.8849, 3.3468, 4.9913, 2.0568, 3.1926, 3.2938, 4.8887, 4.8748, 4.8605, 4.8574, 4.843, 4.8424, 4.8415, 4.8404, 4.84, 4.8363, 4.823, 4.8189, 4.8172, 4.8108, 4.8088, 4.8045, 4.7914, 4.7842, 4.7837, 4.7827, 4.782, 4.782, 4.7817, 4.7813, 4.7806, 4.7803, 4.7803, 4.7768, 4.7764, 4.7755, 4.7465, 4.6332, 4.6348, 4.6719, 4.5694, 4.4893, 4.7378, 4.4641, 4.5197, 4.3425, 4.5342, 4.1829, 4.034, 4.6095, 3.605, 3.7496, 3.2454, 2.8288, 3.5621, 2.5021, -0.4723, 0.7308, 2.0811, 3.0678, -0.9526, -1.6059, 3.2804, 2.6451, -1.3704, 0.7191, -1.5295, -0.735, 5.6631, 5.6568, 5.6365, 5.5926, 5.5556, 5.5424, 5.5347, 5.5299, 5.5263, 5.5141, 5.5103, 5.4983, 5.4947, 5.4899, 5.4528, 5.4517, 5.4265, 5.4257, 5.424, 5.4226, 5.4223, 5.421, 5.4206, 5.4199, 5.4169, 5.4168, 5.4167, 5.4146, 5.4136, 5.4128, 5.3809, 5.2715, 5.286, 4.6153, 4.6955, 4.9281, 4.8678, 4.967, 4.7572, 4.684, 4.7462, 3.3692, 4.9921, 3.8509, 4.1238, 1.8928, 1.6342, 4.0889, 3.7899, 4.0548, 1.6015, 2.2825, 2.8579, 0.5965, -0.4996, 3.0441, 3.4028, 1.3399, 3.6695, 0.6522, 3.0679, 1.7128, 3.1821, 3.1452, 6.3923, 6.0861, 6.0818, 5.9354, 5.904, 5.9035, 5.9028, 5.9019, 5.9009, 5.8971, 5.8961, 5.8937, 5.8845, 5.7885, 5.7805, 5.7686, 5.7567, 5.6654, 5.559, 5.5539, 5.551, 5.5447, 5.5432, 5.5431, 5.5429, 5.5428, 5.5419, 5.5412, 5.541, 5.5405, 5.5166, 5.4789, 5.5364, 5.3143, 5.2619, 5.0736, 5.0132, 5.0691, 5.2875, 4.5958, 4.509, 4.8006, 3.2648, 2.3819, 4.1053, 3.6687, 2.8551, 2.5222, 3.0357, 4.2622, 4.3571, 2.1383, 3.8843, -1.018, 6.0677, 5.9082, 5.9003, 5.8555, 5.8497, 5.8495, 5.8486, 5.8464, 5.8459, 5.8456, 5.8419, 5.8381, 5.7943, 5.7678, 5.7566, 5.7547, 5.7194, 5.7182, 5.7173, 5.713, 5.7102, 5.7086, 5.7063, 5.705, 5.701, 5.7009, 5.7008, 5.7, 5.6993, 5.6975, 5.677, 5.6693, 5.2693, 5.2116, 4.592, 3.7449, 4.7756, 3.7716, 4.4388, 4.0189, 4.1401, 4.179, 5.3881, 4.6374, 4.6147, 3.0039, 4.2029, 4.8272, 3.0077, 0.6437, 2.5552, 6.4584, 6.3759, 6.2526, 6.0672, 6.0579, 6.0298, 5.9824, 5.9422, 5.8602, 5.7069, 5.6847, 5.6757, 5.6522, 5.6522, 5.6494, 5.6492, 5.6488, 5.6475, 5.6472, 5.6463, 5.6457, 5.6456, 5.6453, 5.6444, 5.6444, 5.6442, 5.6441, 5.6437, 5.6435, 5.6429, 5.6428, 5.196, 5.6427, 4.7581, 4.2329, 4.6475, 3.9938, 3.8993, 3.4888, 4.0934, 3.3105, 3.7353, 4.2171, 3.6572, 3.779, 3.7876, 2.9597, 2.3536, 1.5308, 5.687, 5.6813, 5.6389, 5.6361, 5.6353, 5.6229, 5.5963, 5.5709, 5.5704, 5.569, 5.5654, 5.564, 5.5601, 5.5597, 5.5562, 5.5561, 5.5476, 5.5457, 5.5397, 5.5367, 5.4825, 5.4557, 5.4519, 5.4519, 5.4515, 5.4508, 5.4503, 5.4494, 5.4485, 5.4484, 5.4129, 5.3663, 5.2788, 5.2609, 5.0709, 5.1709, 4.6795, 4.6277, 4.4055, 4.2224, 3.6634, 3.7968, 2.7674, 1.8603, 4.4319, 2.6781, 4.4705, 3.4693, 3.0648, 2.5886, 0.4975, -0.5935, 2.8728, 0.7892, 6.3607, 6.3443, 5.7643, 5.7631, 5.762, 5.7614, 5.7614, 5.7612, 5.7598, 5.7593, 5.7514, 5.7067, 5.7013, 5.6961, 5.696, 5.6898, 5.6865, 5.6672, 5.6656, 5.5227, 5.3268, 5.3243, 5.3233, 5.3232, 5.3224, 5.3222, 5.3221, 5.3217, 5.3162, 5.3126, 4.4946, 4.0209, 4.0536, 4.7147, 2.8915, 3.4275, 3.3663, 6.718, 6.3728, 6.3704, 6.3252, 6.1665, 6.1491, 6.1471, 6.1444, 6.1396, 6.1366, 6.135, 6.1338, 6.1238, 5.9877, 5.897, 5.7564, 5.708, 5.7079, 5.7048, 5.7047, 5.7042, 5.704, 5.7035, 5.7034, 5.7033, 5.7033, 5.7031, 5.7031, 5.7026, 5.7018, 5.7014, 4.3556, 4.4391, 5.3816, 4.8605, 5.3651, 4.7467, 4.4622, 2.762, 4.6251, 1.7275, 3.8979, 2.0212, 2.5409, 1.531, 6.4433, 6.3551, 6.2486, 6.2261, 6.2013, 6.0395, 6.0359, 6.0128, 6.0071, 5.9494, 5.7125, 5.7085, 5.7062, 5.6979, 5.6314, 5.6306, 5.6306, 5.6285, 5.6276, 5.6265, 5.6254, 5.6254, 5.6254, 5.6246, 5.6241, 5.6238, 5.6233, 5.6232, 5.6231, 5.6227, 5.5694, 5.3439, 4.6977, 4.6863, 4.7577, 4.1661, 3.8021, 4.3075, 3.2869, 4.3139, 3.4615, 4.1715, 4.0994, 3.4177, 5.3223, 1.8934, 2.8312, 2.9725, 3.4195, 3.6195, 3.2457, 0.9157, 2.9962]}, \"token.table\": {\"Topic\": [1, 7, 11, 1, 2, 3, 2, 6, 2, 11, 3, 4, 1, 3, 7, 1, 7, 7, 7, 6, 1, 2, 3, 6, 6, 7, 11, 1, 11, 1, 2, 1, 7, 1, 6, 1, 3, 1, 1, 2, 6, 2, 1, 1, 2, 3, 3, 1, 1, 7, 9, 1, 2, 6, 7, 1, 2, 6, 2, 2, 1, 3, 6, 1, 2, 6, 1, 2, 11, 1, 2, 6, 1, 2, 3, 1, 2, 13, 4, 11, 11, 1, 6, 1, 3, 11, 1, 1, 2, 6, 6, 1, 2, 7, 1, 2, 1, 2, 3, 1, 3, 8, 1, 2, 6, 1, 6, 7, 1, 7, 11, 1, 1, 4, 3, 4, 1, 2, 3, 3, 7, 1, 3, 6, 9, 1, 6, 11, 9, 1, 7, 1, 2, 2, 2, 1, 2, 6, 1, 3, 1, 9, 1, 1, 1, 6, 1, 8, 1, 8, 1, 1, 1, 2, 3, 6, 11, 1, 11, 1, 11, 1, 11, 2, 1, 7, 2, 1, 1, 2, 1, 6, 1, 2, 1, 1, 6, 1, 1, 1, 8, 1, 7, 1, 9, 11, 1, 3, 6, 1, 2, 4, 1, 2, 6, 6, 6, 1, 11, 1, 2, 1, 4, 1, 2, 1, 9, 1, 11, 7, 1, 2, 3, 6, 1, 1, 6, 1, 3, 1, 2, 3, 1, 4, 2, 4, 4, 3, 1, 3, 1, 2, 3, 6, 1, 2, 6, 1, 2, 2, 1, 2, 6, 1, 6, 1, 11, 1, 1, 2, 1, 1, 3, 6, 1, 2, 1, 7, 6, 11, 11, 1, 3, 7, 1, 2, 1, 2, 1, 2, 3, 1, 2, 1, 4, 1, 2, 1, 2, 3, 6, 1, 11, 1, 2, 1, 2, 1, 9, 1, 3, 2, 1, 4, 1, 3, 11, 1, 2, 6, 9, 1, 2, 1, 2, 1, 2, 3, 1, 2, 2, 3, 1, 2, 6, 1, 3, 7, 11, 7, 1, 2, 6, 7, 1, 3, 6, 11, 1, 3, 6, 1, 2, 6, 3, 3, 1, 3, 3, 11, 7, 1, 2, 1, 7, 9, 3, 1, 1, 7, 1, 2, 3, 6, 1, 1, 3, 1, 2, 1, 6, 7, 1, 11, 1, 1, 9, 2, 6, 1, 1, 2, 1, 3, 11, 1, 2, 1, 2, 3, 6, 1, 1, 3, 11, 3, 7, 1, 3, 6, 11, 1, 4, 1, 2, 3, 6, 1, 1, 9, 1, 2, 6, 6, 4, 7, 1, 11, 11, 1, 11, 1, 8, 1, 2, 3, 1, 2, 6, 1, 1, 1, 2, 9, 1, 1, 7, 1, 2, 7, 1, 1, 2, 7, 1, 7, 11, 11, 2, 3, 1, 2, 3, 6, 1, 3, 1, 3, 6, 11, 1, 2, 6, 1, 2, 4, 1, 4, 1, 9, 1, 1, 6, 11, 2, 1, 1, 7, 1, 2, 3, 6, 1, 4, 7, 1, 5, 7, 1, 7, 2, 3, 1, 3, 1, 2, 3, 6, 7, 1, 3, 3, 1, 2, 6, 7, 1, 1, 2, 5, 6, 7, 1, 3, 14, 1, 2, 3, 7, 1, 4, 1, 7, 3, 3, 10, 1, 1, 7, 1, 2, 3, 6, 7, 1, 10, 1, 6, 7, 1, 1, 2, 2, 1, 3, 1, 3, 6, 1, 2, 1, 2, 1, 9, 1, 2, 3, 6, 1, 2, 3, 6, 2, 1, 9, 1, 2, 1, 2, 1, 2, 3, 6, 1, 3, 8, 1, 1, 1, 4, 1, 2, 9, 6, 6, 1, 3, 7, 7, 2, 1, 6, 1, 3, 1, 7, 9, 2, 1, 3, 8, 1, 2, 3, 6, 1, 11, 3, 1, 2, 9, 3, 1, 11, 6, 2, 1, 3, 1, 9, 9, 7, 1, 2, 3, 1, 2, 2, 1, 1, 7, 1, 2, 3, 1, 2, 4, 1, 9, 1, 4, 1, 2, 3, 6, 6, 9, 1, 1, 2, 3, 6, 1, 2, 6, 1, 2, 3, 1, 2, 7, 1, 4, 9, 3, 1, 9, 3, 14, 1, 2, 3, 1, 3, 9, 1, 3, 4, 6, 1, 11, 1, 4, 7, 7, 1, 2, 11, 9, 1, 9, 4, 2, 2, 1, 6, 1, 2, 4, 1, 2, 3, 6, 1, 1, 4, 1, 2, 11, 1, 2, 7, 1, 2, 3, 1, 8, 1, 7, 3, 1, 1, 7, 7, 1, 2, 4, 1, 6, 6, 1, 11, 1, 3, 1, 6, 1, 1, 6, 1, 4, 1, 8, 11, 1, 7, 1, 2, 6, 1, 9, 1, 8, 2, 3, 1, 3, 11, 1, 2, 1, 2, 1, 7, 2, 7, 9, 9, 1, 2, 1, 2, 3, 1, 3, 11, 1, 2, 11, 1, 3, 6, 3, 1, 2, 3, 6, 1, 2, 11, 1, 6, 1, 2, 14, 1, 6, 1, 2, 3, 2, 1, 2, 3, 6, 11, 1, 2, 2, 1, 6, 1, 6, 1, 11, 1, 2, 4, 1, 2, 3, 6, 11, 2, 4, 7, 1, 2, 3, 6, 1, 3, 6, 11, 5, 1, 7, 6, 1, 1, 1, 1, 2, 6, 1, 11, 13, 1, 1, 2, 1, 2, 3, 6, 1, 4, 3, 1, 7, 11, 3, 1, 11, 11, 1, 3, 1, 7, 7, 1, 2, 1, 6, 1, 2, 3, 1, 8, 1, 1, 3, 4, 8, 6, 1, 3, 1, 7, 7, 9, 1, 11, 7, 1, 4, 6, 3, 1, 1, 11, 1, 1, 2, 9, 1, 1, 9, 1, 8, 6, 1, 2, 1, 1, 4, 2, 1, 11, 4, 6, 6, 3, 5, 6, 6, 9], \"Freq\": [0.9269651336051937, 0.026484718103005535, 0.05296943620601107, 0.11958925753262975, 0.7773301739620934, 0.059794628766314875, 0.9374524109231351, 0.8888827834285818, 1.0343538311677678, 0.92610618916509, 0.7212500970290098, 0.9806025499516174, 0.7955974808719767, 0.13259958014532944, 0.08839972009688629, 0.7887585446821351, 0.157751708936427, 0.5795283051822853, 1.1508414987921465, 0.9743852792414304, 0.996713905993825, 0.0015871240541302947, 0.0003967810135325737, 0.0007935620270651474, 0.4927309371835549, 0.4927309371835549, 0.6018960005183829, 0.9447522517521789, 0.03257766385352341, 0.4564442801200861, 0.4564442801200861, 0.9210059758286886, 1.151357549572802, 0.7264052595028938, 0.3632026297514469, 0.3471630460367158, 0.6943260920734317, 0.8369532516065077, 0.9866860978466073, 0.012099155093152757, 0.0006049577546576379, 0.9908112919287152, 0.9587726119509095, 0.6062738382687487, 0.4041825588458325, 0.9841387427921073, 1.0516224535489973, 0.9990123759427196, 0.6817111789716563, 0.34085558948582817, 1.1157657249263522, 0.21111976605899896, 0.5277994151474974, 0.10555988302949948, 0.10555988302949948, 0.316176149902402, 0.158088074951201, 0.474264224853603, 0.9129534018190635, 0.8007833342516387, 0.3276152867259129, 0.3276152867259129, 1.0512172245359153, 0.9931339546192322, 0.0036004856360818084, 0.0030004046967348403, 0.9104580000658383, 0.09104580000658383, 1.055337284668497, 0.9969005617070874, 0.0018381694438360555, 1.0920571828408063, 0.7235326581618717, 0.18088316454046793, 0.18088316454046793, 0.7906672317521296, 0.21563651775058082, 0.9277353616852632, 0.8139436461832782, 0.9194694631322428, 0.9224877853941225, 0.936588778451648, 0.05591574796726256, 0.9710653664037848, 0.6967672716941946, 1.1211195914385377, 0.9989356817745125, 0.26303002693481875, 0.6838780700305287, 1.0076982801884415, 0.8206099632607896, 0.9346202232775462, 0.05192334573764146, 0.8616632901306895, 0.9132752114657219, 1.0337890388750266, 0.12261476590994425, 0.8583033613696097, 0.12261476590994425, 0.4450077403170069, 0.4450077403170069, 0.11125193507925173, 0.9976305955588686, 0.0011799297404599272, 0.0005899648702299636, 0.9506808253918385, 0.031689360846394614, 0.015844680423197307, 0.8171030773392617, 0.11672901104846596, 0.11672901104846596, 0.9995288222557042, 0.8116337384943868, 0.4058168692471934, 0.6152267172039114, 0.6152267172039114, 0.9175683153066085, 0.06666094598381345, 0.011763696350084726, 0.7049978007609936, 0.3524989003804968, 0.7942588537266834, 0.06618823781055695, 0.09928235671583542, 0.033094118905278476, 0.23064357117988796, 0.6919307135396638, 0.9250400857943823, 0.5981115569646152, 0.8643732394223627, 0.08643732394223627, 0.19853419029980063, 0.7941367611992025, 0.8573311573142027, 0.9234942532448365, 0.7196568603576985, 0.24468333252161747, 0.02878627441430794, 0.9553848937760283, 0.03771256159642217, 0.6733028535309016, 0.3366514267654508, 0.9979722555909831, 1.1151313643787806, 0.8119109560508616, 1.0538656076782078, 0.6592249014815879, 0.3296124507407939, 0.7107840569478725, 0.35539202847393625, 1.0002641654570221, 0.9973182572606757, 0.9984134980447193, 0.0004969703823020006, 0.0004969703823020006, 0.0004969703823020006, 1.2189955755663577, 0.7421704837390314, 0.29686819349561255, 0.9923203429631511, 0.006443638590669812, 0.9385875630211074, 0.052143753501172625, 1.0337324194364206, 0.6838536342681627, 0.2279512114227209, 0.8895926984529609, 0.8972476047872875, 0.9985846492876264, 0.0007900195010186918, 0.9033808106554235, 0.0921817153730024, 0.1272901769369395, 0.8910312385585765, 0.9919066059941979, 0.31581165224271546, 0.6316233044854309, 0.5144539448175135, 0.922208600329567, 0.8736863013607107, 0.21842157534017767, 0.984960970252669, 0.009752088814382862, 0.45579357173440127, 0.45579357173440127, 1.2229527625104784, 0.5911066226682612, 0.3940710817788408, 0.0985177704447102, 0.26746737360112804, 0.7355352774031022, 0.5515982822027435, 0.9852957277244865, 0.012304365475906172, 0.0018929793039855647, 0.876997013881038, 1.0939513064711393, 0.8971158329732459, 0.6938485730824716, 0.9651588262945611, 0.01693261098762388, 0.7403494671727474, 0.3701747335863737, 0.9941552179972978, 0.005111337881734178, 0.9322397688750474, 0.058264985554690465, 0.7122292087534409, 0.28489168350137634, 1.1509447617104915, 0.9980719402703563, 0.0008259905712582259, 0.0005506603808388172, 0.0002753301904194086, 0.9986199595892993, 0.3424898379297878, 0.6849796758595756, 0.48565932051503846, 0.48565932051503846, 0.9956656811719528, 0.00045589087965748756, 0.0036471270372599005, 0.9435204256235606, 0.9876794826628076, 0.5743942807845008, 0.5743942807845008, 0.9950433812679669, 1.0272836575522204, 0.5438197792125983, 1.023364332043254, 0.9981848301442511, 0.0008181842870034845, 0.00040909214350174223, 0.00040909214350174223, 0.8293728666732038, 0.13822881111220062, 1.0970487404512952, 0.9979675280962891, 0.9386693229506373, 0.9127102340242234, 0.9859481877428881, 0.01242418958451884, 0.0008874421131799172, 0.2704056244173326, 0.5408112488346652, 0.9262891629063833, 0.051460509050354625, 0.8377855961643209, 0.9987528319633748, 0.0010139622659526648, 0.9992031161326116, 0.4117219368664336, 0.1029304842166084, 0.514652421083042, 0.7845477605259064, 0.20340127124745722, 0.3827825865142643, 0.3827825865142643, 1.0548151818168026, 0.9180911720693141, 0.9203750179121178, 0.31214715542339583, 0.6242943108467917, 0.8541703886784455, 0.5337259643570899, 0.46701021881245364, 0.572119967239924, 0.3814133114932826, 0.9983505152925768, 0.00038922047379827553, 0.0007784409475965511, 0.595994182150075, 0.2979970910750375, 0.8765800665024921, 0.14609667775041535, 0.9980896887543582, 0.00129622037500566, 0.9984327780640444, 0.0004515752049136338, 0.0004515752049136338, 0.0004515752049136338, 0.8636447345926856, 0.9096772002120016, 0.6876521286654161, 0.34382606433270807, 0.9866211318004818, 0.012157416789958544, 0.9076038298769409, 0.0907603829876941, 0.8946821274040753, 0.7959392486240563, 0.8844626237525706, 0.9830022851613701, 0.008057395780011231, 0.5444920336524317, 1.027007460937988, 0.6922578435286818, 0.9913007098444035, 0.0078988104370072, 0.0005642007455005142, 0.6022732940749963, 0.633533521659224, 0.34953573608784777, 0.46937475139143087, 0.5215275015460343, 0.24304131973622736, 0.6683636292746252, 0.12152065986811368, 0.18437635819439252, 0.8296936118747663, 0.8509552570619692, 0.12156503672313845, 0.9883118614610696, 0.008832975921697742, 0.001962883538155054, 0.9846039344213368, 0.006837527322370394, 0.006837527322370394, 1.2211327234893552, 1.1501220772862106, 0.9657743716916527, 0.015169230968978839, 0.010112820645985891, 0.005056410322992946, 0.9980620342315475, 0.0005870953142538515, 0.0005870953142538515, 0.0005870953142538515, 0.2999966986896941, 0.8999900960690822, 0.7274637022596665, 0.9561627276580846, 0.028840175080174245, 0.015529325043170748, 1.0243434661821564, 0.9809589242406485, 0.8955347589208807, 0.07676012219321836, 1.0230967055962936, 1.2194471642017506, 1.1471021696362476, 0.6910362651206403, 0.29840202357482193, 0.9254826627546593, 0.07119097405805072, 1.104367117550799, 0.9802376430508718, 0.9137344769945462, 0.9569149026175928, 0.019528875563624343, 0.995680720606934, 0.0018495617101057598, 0.0018495617101057598, 0.0006165205700352533, 0.7544613987723289, 0.9855755352600691, 0.012833014782032151, 0.580103086936956, 0.42392148660777557, 0.5755870758669676, 0.41113362561926253, 1.1438994831127758, 0.9603506338138842, 0.030979052703673682, 0.9981776285332793, 0.7916019502768538, 0.19790048756921344, 0.17278950372231494, 0.6911580148892598, 0.8527315808843831, 0.9489335177066904, 0.046727786856768844, 0.3174505914480595, 0.634901182896119, 0.738348313815419, 0.9732381222145104, 0.016925880386339312, 0.9974087264313534, 0.0013466364443267596, 0.00044887881477558657, 0.00044887881477558657, 0.9261304925725438, 0.9952133964197302, 0.002803418018083747, 0.0014017090090418735, 0.8297460713944145, 0.6205311413834319, 0.1800018637093584, 0.7200074548374336, 0.982883420871915, 0.723528683668995, 0.5636407219809666, 0.2818203609904833, 0.9979449129801755, 0.0011516963796655228, 0.0005758481898327614, 0.0005758481898327614, 0.9597696683847283, 0.3798127099894542, 0.3798127099894542, 0.4970380895115317, 0.8686966845704501, 1.0937541107077546, 0.9148734831877291, 1.1849722634520097, 0.8972218052814455, 0.4561435508225415, 0.4561435508225415, 0.910467558935848, 0.6966560057506634, 0.23221866858355447, 0.5172374584770337, 0.5172374584770337, 0.9951811719167787, 0.0041574148174069086, 1.0242528353544014, 0.9991561475570094, 0.0006122280315913048, 0.0006122280315913048, 0.9986736642695739, 0.8707964443868148, 0.39398107383195047, 0.5909716107479257, 0.9393206037889201, 0.8395190372653752, 0.9996351581552874, 1.1465411341865699, 0.8978387135382738, 0.09925855124543731, 1.0553347900822623, 0.9251040010445221, 0.3501505063811865, 0.3501505063811865, 0.3501505063811865, 0.8983358865327059, 0.06910276050251585, 1.226451890125661, 0.7442471859495616, 1.0349752781455963, 1.0228806096378875, 0.9983233965873067, 0.00047202051848099606, 0.00047202051848099606, 0.00047202051848099606, 0.9957125738600626, 0.0034041455516583335, 0.7589837257398321, 0.08433152508220357, 0.16866305016440714, 0.6246215429964324, 0.5657937722365273, 0.1543073924281438, 0.2571789873802397, 0.9650513688418558, 0.020979377583518605, 0.010489688791759303, 0.9139637320766613, 0.11424546650958266, 0.8258521548838877, 0.16517043097677753, 0.9716805641127936, 0.5896167953817097, 0.22110629826814113, 0.14740419884542744, 0.984016246566377, 0.9981595634463609, 0.9208946267807179, 0.6929114593495099, 0.9926278215438776, 0.004776842259595176, 0.0004776842259595176, 0.0014330526778785528, 0.7611738348961168, 0.15223476697922333, 0.15223476697922333, 0.5550419713209143, 0.973088540300989, 1.1550002598701241, 0.9829411816093737, 0.015602240977926568, 0.90639385167539, 0.7968957653433988, 0.27244141068028377, 0.6811035267007094, 0.9698577852155348, 0.029339114850108993, 0.0001666995161938011, 0.0003333990323876022, 0.0001666995161938011, 0.9844749797553503, 0.6972369165215099, 1.0278370536501293, 0.7453216248751514, 0.2540869175710743, 0.9379934264520396, 0.8217168554712564, 0.5694217807286979, 0.4037188745495794, 0.605578311824369, 1.1682390242931908, 1.0970236220029774, 0.8905775719564352, 0.728689968453114, 0.20819713384374686, 0.10409856692187343, 0.15956814398079477, 0.7180566479135765, 0.07978407199039739, 0.7845110821044395, 0.9659401885440891, 0.7915171271943605, 0.9850097251364083, 0.013493283905978195, 1.0246839025719983, 1.0212347230752123, 1.1335142174821846, 1.0829835734097388, 0.9170931562440439, 0.05731832226525274, 0.7003944398221071, 0.28966232083111376, 0.0045259737629861525, 0.003394480322239615, 0.0022629868814930763, 0.6536191572645539, 0.32680957863227694, 0.6481511951811326, 0.2160503983937109, 1.1485470644873181, 1.022798121684082, 0.6591617831731179, 0.33507390644633495, 0.8983519265280172, 0.9489954014321452, 0.047449770071607264, 0.7888551842239024, 0.04640324613081779, 0.13920973839245337, 0.1055807466617648, 0.8446459732941184, 0.9626918612646667, 0.0365307179497753, 0.8948959814330077, 0.11186199767912597, 0.996188940008152, 0.0019390538978260865, 0.00048476347445652163, 0.0009695269489130433, 0.9954187101934217, 0.002178159103267881, 0.0005445397758169703, 0.0010890795516339405, 1.0338324076560408, 0.47369784885080696, 0.47369784885080696, 0.25092236423974607, 0.7169210406849887, 0.99912292539193, 1.033776350717251, 0.9983302789249705, 0.000432739609416979, 0.000432739609416979, 0.000865479218833958, 0.8200374829890213, 0.1537570280604415, 0.051252342686813834, 0.506504277790875, 1.058073295091391, 0.6181218604774495, 0.6181218604774495, 0.998329379251076, 0.0006991102095595771, 1.1108268532986987, 0.8521534105301182, 0.8557085053860894, 0.20499796727185757, 0.6149939018155728, 1.1535207783948283, 0.8638839435908912, 0.8613451702378206, 0.21879138403474516, 0.6563741521042354, 0.24890990298231422, 0.7467297089469427, 0.8312108478804057, 0.10390135598505071, 0.6552335882750597, 0.8828569827456011, 0.7763784606684451, 0.6011361255160601, 0.30056806275803005, 0.9971404075428927, 0.00030852116570015246, 0.0006170423314003049, 0.0015426058285007622, 0.9711284592080708, 0.7455389448301223, 1.0224360041190965, 0.3091011140894713, 0.46365167113420686, 0.15455055704473564, 0.7976800819608494, 0.8044676825187481, 0.268155894172916, 0.9961377743854932, 0.9268076908230294, 0.3682004221331415, 0.5523006331997123, 0.837277639138887, 0.20931940978472174, 0.8331851760410491, 0.9899901115359037, 0.13465260818984573, 0.26930521637969146, 0.6732630409492286, 0.12935939789836404, 0.8408360863393662, 1.0329235815253588, 0.9990009232915499, 0.8451915560013429, 0.8670076002387004, 0.9235020339737177, 0.07370673510588358, 0.004335690300346092, 0.5620108558380618, 0.2810054279190309, 0.2810054279190309, 0.9520111987604363, 0.03966713328168484, 0.9988616397635186, 1.0039107765626427, 0.9967166023291103, 0.0009634766576405126, 0.0004817383288202563, 0.0019269533152810252, 1.0951199904329227, 1.10792236268994, 0.9997500256228321, 0.9563469429390682, 0.04139283432017608, 0.0008623507150036684, 0.0008623507150036684, 0.9967355707336348, 0.002395998968109699, 0.0004791997936219398, 0.985637183209253, 0.012896187443859385, 0.0009211562459899561, 0.9167751273528123, 0.06456162868681777, 0.01936848860604533, 0.8651922682360614, 0.6061277943373508, 1.112890911986125, 1.0245920407558375, 0.8447053239277208, 0.2111763309819302, 0.9182620714032356, 0.8273510394889851, 0.9986837264406282, 0.000575444382852566, 0.000575444382852566, 0.9721692279517009, 0.026479317492847886, 0.9891848260952606, 0.9038628622181712, 0.8739738625007754, 0.6828594587664193, 1.094093145874539, 0.6124138738218662, 0.6124138738218662, 0.9004463260384414, 0.05002479589102452, 0.05002479589102452, 1.150549436665338, 0.8970988419677421, 0.09967764910752691, 1.221628124736007, 1.114246812101821, 0.8957614507466432, 0.07464678756222026, 0.7668031644199635, 1.033431063471132, 1.0212907716442503, 0.9845969591762628, 0.01380276110994761, 0.9957300576695562, 0.9570235790023833, 1.0033287586850406, 0.8777838836429435, 0.022507279067767783, 0.06752183720330335, 0.022507279067767783, 0.9993814356207514, 0.4295298462773758, 0.4295298462773758, 0.28678787959308377, 0.7647676789148901, 0.7464476119366549, 0.33408387235614806, 0.6681677447122961, 0.8512043371730288, 0.8783329505140804, 0.04284550978117466, 0.06426826467176198, 0.6522326551834318, 0.6522326551834318, 0.9411612151619047, 0.06274408101079364, 1.024822245403994, 0.9862598665708499, 0.9249765767474574, 0.04204438985215715, 0.9940291043488337, 0.13856204477140213, 0.6928102238570106, 0.13856204477140213, 0.8800213354061815, 0.11892180208191643, 1.0955932862546605, 0.9861786213734696, 0.9167180766871644, 0.17703796332993452, 0.7081518533197381, 0.1568614291499861, 0.7843071457499304, 0.9411190778343863, 0.7234800340509843, 0.36174001702549213, 0.80495122336535, 0.2012378058413375, 0.9736922117031634, 0.020716855568152413, 0.922369465245528, 0.7812183786936123, 0.15624367573872247, 0.9824908629635234, 0.01616757116269089, 1.095319795004441, 0.9526393916305954, 0.04536378055383788, 0.7631653862197709, 0.38158269310988546, 1.0343826810186412, 0.988464271578163, 0.5148944319374373, 0.25744721596871867, 0.25744721596871867, 0.4217059072766796, 0.5839004869984794, 0.22489823003994078, 0.7871438051397927, 0.8931273482686464, 0.7499802834592625, 0.33136115143929323, 0.33136115143929323, 0.33136115143929323, 1.1142021906071031, 0.9199069416787614, 0.0754022083343247, 0.9989550408236106, 0.00032709726287610043, 0.0006541945257522009, 0.9708234956897954, 0.37740978341819104, 0.37740978341819104, 0.9058878320473054, 0.07549065267060878, 0.018872663167652196, 0.9109250108676636, 0.032533036102416556, 1.0180856686152775, 1.0714151976818698, 0.9845735895356637, 0.0004293822893744717, 0.014384306694044802, 0.00021469114468723586, 0.9864964097597856, 0.006756824724382093, 0.0033784123621910466, 0.25547498205373964, 0.766424946161219, 0.8652477329356161, 0.14420795548926935, 0.07210397774463467, 0.31227517536431365, 0.6245503507286273, 0.8488240379741456, 0.10105048071120781, 0.050525240355603906, 0.9068849436992426, 0.9938391924144074, 0.0008733209072182842, 0.0004366604536091421, 0.004366604536091421, 1.2231198101064427, 0.9995365996619487, 0.9482429997417415, 1.0352901245532742, 0.7856484144448658, 0.19641210361121644, 0.9992528748246141, 0.0004971407337435891, 0.521469966135707, 0.521469966135707, 0.9623354329770698, 0.02047522197823553, 0.02047522197823553, 0.9951604983124372, 0.003692291601512576, 0.0007032936383833478, 0.00017582340959583696, 0.00017582340959583696, 0.8592375977686872, 0.9817641511271756, 1.0280641462348152, 0.9980131341724702, 0.00037746336390789343, 0.0011323900917236803, 0.00037746336390789343, 0.8963766257379685, 0.08403530866293454, 0.8513494416869217, 1.2188020271705433, 1.2073503485242343, 0.9782513784081064, 1.1546689453814867, 1.0525453305574786, 0.8609191732477705, 0.9918257813414327, 1.0267098330447548, 0.9966065713447984, 0.0026134787710090867, 0.0004355797951681811, 0.8977028972912393, 0.09974476636569325, 0.9224883989520033, 0.9137564249368844, 0.8912633976770857, 0.1064195101703983, 0.9929885852361551, 0.003821636633365574, 0.0012738788777885248, 0.0012738788777885248, 0.5187232311503585, 0.2593616155751792, 0.7406817264053998, 0.5835639156059957, 0.5835639156059957, 0.9266993134962729, 0.9186214770413749, 0.7425031158911024, 0.3712515579455512, 1.2209889095490611, 0.9943651451975902, 0.004765328171873436, 0.9999529194487082, 1.0528639137280713, 0.9245740870117735, 0.4732846479994508, 0.5127250353327384, 0.6637902849192274, 0.29501790440854553, 0.9953433509070196, 0.003915591466982768, 0.00039155914669827677, 0.5701756648197195, 0.5701756648197195, 0.9996151963802771, 0.8175663138208182, 0.11679518768868831, 0.11679518768868831, 1.0921601292733274, 0.8548680437218223, 0.6980235971865871, 0.29915297022282306, 0.39203263550154965, 0.39203263550154965, 1.1457118279093965, 1.119582101423898, 0.8117219663571036, 0.2319205618163153, 0.8376694723651441, 0.725572012304908, 0.12092866871748466, 0.12092866871748466, 1.0262508446337917, 0.9984356205276342, 0.9090312626896514, 0.08263920569905922, 0.9995427798762428, 0.32762468663765465, 0.32762468663765465, 0.32762468663765465, 0.9933647114299795, 0.9953414080790254, 0.004717257858194433, 0.5931129173632179, 0.29655645868160896, 1.0526098472403451, 0.1990999784384374, 0.7963999137537496, 0.997926330876122, 0.4807092760718232, 1.004561122478639, 0.9065868787769468, 0.893301987372188, 0.6876586991075749, 0.9890233207634517, 1.054080692149634, 1.0951366610465716, 1.0233470996300358, 0.9961196682270217, 0.893842369167951, 1.0953876060563836, 1.1111863874152612], \"Term\": [\"acid\", \"acid\", \"acid\", \"actin\", \"actin\", \"actin\", \"adaptive_network\", \"afese\", \"aitdg\", \"akcs\", \"aklt_state\", \"alcohol\", \"alkali\", \"alkali\", \"alkali\", \"alkaline_earth\", \"alkaline_earth\", \"alphafeo\", \"alphafeonanoparticles\", \"alphairv\", \"also\", \"also\", \"also\", \"also\", \"alternation\", \"alternation\", \"amphiphile\", \"amplifier\", \"amplifier\", \"amyloid\", \"amyloid\", \"anatase\", \"angstroem\", \"anhydrous\", \"anhydrous\", \"antidot\", \"antidot\", \"antidot_lattice\", \"approach\", \"approach\", \"approach\", \"aqueous_mixture\", \"arxivv\", \"asdeposited\", \"asdeposited\", \"ash\", \"aspiration\", \"atom\", \"atomic_clock\", \"atomic_clock\", \"atomtrimer\", \"attack\", \"attack\", \"attack\", \"attack\", \"austenite\", \"austenite\", \"austenite\", \"autocatalytic\", \"axon\", \"bacteriophage\", \"bacteriophage\", \"bacuchf\", \"base\", \"base\", \"base\", \"bead\", \"bead\", \"begoecs\", \"behavior\", \"behavior\", \"bernstein\", \"binding_site\", \"binding_site\", \"binding_site\", \"biomolecular\", \"biomolecular\", \"bitio\", \"blockmodels\", \"bncnrs\", \"bnnrs\", \"bonding\", \"bonding\", \"book\", \"boseeinstein_condense\", \"bott\", \"boundary\", \"brain\", \"brain\", \"branching_brownian\", \"brazil\", \"breather\", \"breather\", \"brooker\", \"brown\", \"bvariants\", \"cancer\", \"cancer\", \"cancer\", \"capsid\", \"capsid\", \"capsid\", \"case\", \"case\", \"case\", \"cation\", \"cation\", \"cation\", \"causal\", \"causal\", \"causal\", \"cavity\", \"cefeaso\", \"cefeaso\", \"cefepo\", \"cefepo\", \"cell\", \"cell\", \"cell\", \"centrality\", \"centrality\", \"ceramic\", \"ceramic\", \"ceramic\", \"ceramic\", \"cface\", \"cface\", \"channelnumber\", \"chimney\", \"cilium\", \"cilium\", \"city\", \"city\", \"colony\", \"community_assembly\", \"complex_network\", \"complex_network\", \"complex_network\", \"composition\", \"composition\", \"concentrationdependent\", \"concentrationdependent\", \"condensate\", \"conformer\", \"conformers\", \"coobo\", \"copper_ferrite\", \"copper_ferrite\", \"coresoftened\", \"coresoftened\", \"correction\", \"correlate\", \"couple\", \"couple\", \"couple\", \"couple\", \"cppmr\", \"crisis\", \"crisis\", \"crystalline\", \"crystalline\", \"crystalline_phase\", \"crystalline_phase\", \"cscubr\", \"csfese\", \"csfese\", \"ctrw\", \"cuda\", \"current\", \"current\", \"current_density\", \"current_density\", \"cytoskeleton\", \"cytoskeleton\", \"date\", \"degree_sequence\", \"degree_sequence\", \"dehydration\", \"deleterious\", \"deposit_film\", \"deposit_film\", \"depth\", \"depth\", \"detonation\", \"detonation\", \"diabolical\", \"direct_network\", \"direct_network\", \"direct_network\", \"disease\", \"disease\", \"disentangler\", \"distribution\", \"distribution\", \"distribution\", \"dmso\", \"doublepositive\", \"drop_impact\", \"dtqw\", \"duality\", \"duality\", \"dwell_time\", \"dwell_time\", \"dynamic\", \"dynamic\", \"earth\", \"earth\", \"economic\", \"economic\", \"ectoine\", \"effect\", \"effect\", \"effect\", \"effect\", \"effective\", \"effectiverange\", \"effectiverange\", \"ejection\", \"ejection\", \"electron\", \"electron\", \"electron\", \"elliptic\", \"emfpt\", \"emotion\", \"emotion\", \"emotional\", \"enamel\", \"enderle\", \"endor\", \"energy\", \"energy\", \"energy\", \"energy\", \"energy_cost\", \"energy_cost\", \"ensuremathle\", \"entanglement\", \"epidemic\", \"epidemic_spread\", \"equation\", \"equation\", \"equation\", \"escort\", \"escort\", \"ethanol\", \"ethanol\", \"excess_entropy\", \"experiment\", \"experiment\", \"experimental\", \"extremal\", \"extremal\", \"extremal\", \"failure\", \"failure\", \"feedforward\", \"feedforward\", \"feobo\", \"ferrihydrite\", \"ferritin\", \"ferrofluid\", \"ferrofluid\", \"fesmco\", \"fiber\", \"fiber\", \"fibril\", \"fibril\", \"field\", \"field\", \"field\", \"filamentous\", \"filamentous\", \"file\", \"file\", \"film\", \"film\", \"find\", \"find\", \"find\", \"find\", \"fixation\", \"fixedms\", \"floppy\", \"floppy\", \"fluctuation\", \"fluctuation\", \"fluence\", \"fluence\", \"flux_pin\", \"fluxoid\", \"forest\", \"fractal\", \"fractal\", \"fractallike\", \"france\", \"ftddtqw\", \"function\", \"function\", \"function\", \"fuzzy_sphere\", \"game\", \"game\", \"gel\", \"gel\", \"gene\", \"gene\", \"gene\", \"genetic\", \"genetic\", \"genotype\", \"genotype\", \"give\", \"give\", \"give\", \"glass\", \"glass\", \"glass\", \"glnm\", \"gpcr\", \"graph\", \"graph\", \"graph\", \"graph\", \"graphene\", \"graphene\", \"graphene\", \"graphene\", \"grayscale\", \"grayscale\", \"grip\", \"growth\", \"growth\", \"growth\", \"halftoned\", \"halftoning\", \"hall_state\", \"hall_state\", \"hbot\", \"hcpre\", \"heptad\", \"heterogeneous\", \"heterogeneous\", \"heusler_alloy\", \"heusler_alloy\", \"hftio\", \"hgbacuodelta\", \"hgte_quantum\", \"hierarchical\", \"hierarchical\", \"high\", \"high\", \"high\", \"high\", \"hill\", \"hole\", \"hole\", \"human\", \"human\", \"hydride\", \"hydride\", \"hydropathic\", \"imbalance\", \"imbalance\", \"impurity\", \"inasgaas\", \"inasgaas\", \"income\", \"income\", \"indentation\", \"individual\", \"individual\", \"inherent_structure\", \"inherent_structure\", \"injury\", \"integral\", \"integral\", \"interaction\", \"interaction\", \"interaction\", \"interaction\", \"interedge\", \"interface\", \"interface\", \"interface\", \"interlayer_shear\", \"intermixed\", \"internet\", \"internet\", \"intro\", \"intrusion\", \"inverse_laplace\", \"inverse_laplace\", \"investigate\", \"investigate\", \"investigate\", \"investigate\", \"ionioff\", \"ionscm\", \"ionscm\", \"isochores\", \"kcms\", \"kcrf\", \"kdoped\", \"kifa\", \"korean\", \"lamb\", \"lamb\", \"lambdadp\", \"langasite\", \"langasite\", \"langmuirblodgett\", \"langmuirblodgett\", \"large\", \"large\", \"latency\", \"lattice\", \"lattice\", \"lattice\", \"layer\", \"leader\", \"learn\", \"learn\", \"lerw\", \"licuvo\", \"light\", \"lineage\", \"link\", \"link\", \"linux\", \"liouville\", \"liquid_bridge\", \"liquid_bridge\", \"liquid_bridge\", \"london_penetration\", \"london_penetration\", \"lsfirmn\", \"macroeconomic\", \"macrotwinned\", \"maga\", \"magnetic\", \"magnetic\", \"magnetic\", \"magnetic\", \"magnetic_field\", \"magnetic_field\", \"magnetocaloric_effect\", \"magnetocaloric_effect\", \"magnetocaloric_effect\", \"malic\", \"martensite\", \"martensite\", \"martensite\", \"master_equation\", \"master_equation\", \"master_equation\", \"mean_firstpassage\", \"mean_firstpassage\", \"melt_curve\", \"melt_curve\", \"mesoporous\", \"message\", \"message\", \"message\", \"metabolic\", \"metal\", \"methanol\", \"methine\", \"method\", \"method\", \"method\", \"method\", \"mfpt\", \"mfpt\", \"mfpt\", \"mhls\", \"microbubbles\", \"microrotations\", \"mixed\", \"mixed\", \"mnbi\", \"mnploaded\", \"mnps\", \"mnps\", \"model\", \"model\", \"model\", \"model\", \"model\", \"modern\", \"modifier\", \"montmolin\", \"motor\", \"motor\", \"movie\", \"mrna\", \"multidisciplinary\", \"multifractal\", \"multifractal\", \"multiplexer\", \"multirelaxation\", \"multiscaal\", \"mutant\", \"mutant\", \"mutant\", \"mutation\", \"mutation\", \"mutation\", \"nadais\", \"nairo\", \"nakajimazwanzig\", \"nanoparticles\", \"nanoparticles\", \"nanoroads\", \"nanostrips\", \"nanotubed\", \"nanovoid\", \"neel_temperature\", \"neel_temperature\", \"network\", \"network\", \"network\", \"network\", \"network\", \"neutron_matter\", \"neutron_matter\", \"niobate\", \"niobate\", \"nixpdxmnsn\", \"noble\", \"node\", \"node\", \"node_degree\", \"nonabelian\", \"nonabelian\", \"nonabelian_statistic\", \"nonabelian_statistic\", \"nonabelian_statistic\", \"noncommutative\", \"noncommutative\", \"nonequilibrium\", \"nonequilibrium\", \"nonextensive_statistic\", \"nonextensive_statistic\", \"observe\", \"observe\", \"observe\", \"observe\", \"obtain\", \"obtain\", \"obtain\", \"obtain\", \"oftranscription\", \"operatorial\", \"operatorial\", \"opinion\", \"opinion\", \"optical\", \"oqstddft\", \"order\", \"order\", \"order\", \"order\", \"package\", \"package\", \"package\", \"parafermionic\", \"parametersin\", \"participant\", \"participant\", \"particle\", \"particle\", \"pbca\", \"pbed\", \"pbmoo\", \"pbvo\", \"pbvo\", \"pcapproxgpa\", \"pdcopd\", \"pearlite\", \"pedotpss\", \"pedotpss\", \"pep\", \"pep\", \"peptide\", \"peptide\", \"perfect_absorber\", \"perm\", \"personal\", \"phage\", \"phage\", \"phase\", \"phase\", \"phase\", \"phase\", \"phic\", \"phiderivable\", \"phigq\", \"phospholipid\", \"phospholipid\", \"phospholipid\", \"phosphorous\", \"photoresponse\", \"photoresponse\", \"picene\", \"pinchoff\", \"pixel\", \"pixel\", \"planet\", \"planet\", \"plasmaron\", \"platt\", \"player\", \"player\", \"player\", \"plume\", \"plume\", \"pmfs\", \"polarization\", \"polyhedron\", \"polyimides\", \"population\", \"population\", \"population\", \"portfolio\", \"portfolio\", \"portfolio\", \"postulate\", \"postulate\", \"potential\", \"predoped\", \"present\", \"present\", \"present\", \"present\", \"presuperfluid\", \"probabilistically\", \"probe\", \"process\", \"process\", \"process\", \"process\", \"property\", \"property\", \"property\", \"propose\", \"propose\", \"propose\", \"protein\", \"protein\", \"protein\", \"protrusion\", \"pulse_error\", \"qdistribution\", \"qmodified\", \"qoperators\", \"qoperators\", \"qshe\", \"quantizer\", \"quantum\", \"quantum\", \"quantum\", \"quantum_hall\", \"quantum_hall\", \"quasinested\", \"quasiuniversality\", \"qvbs\", \"race\", \"rafeinda\", \"randomperiodic\", \"randomperiodic\", \"rank\", \"rank\", \"rank\", \"rating\", \"reaction\", \"reaction\", \"readwrite\", \"rebg\", \"receptor\", \"receptor\", \"reduce_fidelity\", \"refuge\", \"regulatory_network\", \"representation\", \"representation\", \"research\", \"resilience\", \"resin\", \"resource\", \"resource\", \"resource\", \"resource\", \"response\", \"retrapping\", \"retrapping\", \"rewire\", \"rewire\", \"rhenium\", \"rho\", \"rho\", \"ribosome\", \"root\", \"root\", \"root\", \"rosenfeld\", \"rosenfeld\", \"roughen\", \"roughen\", \"rubo\", \"scale_relation\", \"scalefree_network\", \"scalefree_network\", \"sccoc\", \"score\", \"score\", \"score\", \"segregation\", \"segregation\", \"semimagnetic\", \"shallow\", \"shoc\", \"side_jump\", \"side_jump\", \"siface\", \"siface\", \"sigmax\", \"sigmoidal\", \"sigmoidal\", \"silica_bead\", \"silica_bead\", \"silver\", \"silver\", \"singletransistor\", \"siox\", \"siox\", \"size\", \"size\", \"skotleiethninnar\", \"slit\", \"slit\", \"slow_cool\", \"slow_cool\", \"smossb\", \"snspd\", \"snte\", \"snte\", \"snte\", \"social\", \"social\", \"society\", \"society\", \"solvable_model\", \"south\", \"span_tree\", \"span_tree\", \"span_tree\", \"spdos\", \"specie\", \"specie\", \"spin\", \"spin\", \"spin\", \"spinbath\", \"spinflipping\", \"spinflipping\", \"spread\", \"spread\", \"spread\", \"sputter\", \"sputter\", \"srptas\", \"sspd\", \"state\", \"state\", \"state\", \"state\", \"step\", \"step\", \"step\", \"step_bunch\", \"step_bunch\", \"stiff\", \"stiff\", \"stiff\", \"stiff_chain\", \"stiff_chain\", \"strategy\", \"strategy\", \"strategy\", \"stringnet_condensate\", \"structure\", \"structure\", \"structure\", \"structure\", \"subnitrides\", \"superconductors\", \"superintegrable\", \"superslow\", \"superstructure\", \"superstructure\", \"surface\", \"surface\", \"surfacestate\", \"surfacestate\", \"surfactant\", \"surfactant\", \"surfactant\", \"system\", \"system\", \"system\", \"system\", \"system\", \"sznajd\", \"tammdancoff\", \"taurm\", \"temperature\", \"temperature\", \"temperature\", \"temperature\", \"tensor_network\", \"tensor_network\", \"tepsilonf\", \"tetramethoxypyrene\", \"textmu\", \"tfets\", \"thealphafeo\", \"theater\", \"theexcess\", \"theliquid\", \"themathematical\", \"theory\", \"theory\", \"theory\", \"thermostat\", \"thermostat\", \"thpn\", \"threepoint\", \"threshold\", \"threshold\", \"time\", \"time\", \"time\", \"time\", \"timeconvolutionless\", \"timeconvolutionless\", \"tiobr\", \"tiocl\", \"tiocl\", \"tirmn\", \"titanium_sheet\", \"toluene\", \"toluene\", \"toluenemalic\", \"topological\", \"topological\", \"topological_insulator\", \"torpedo\", \"toxicity\", \"traffic\", \"traffic\", \"train\", \"train\", \"transition\", \"transition\", \"transition\", \"transitivity\", \"transitivity\", \"trap\", \"treelike\", \"treelike\", \"treelike\", \"trust\", \"ttne\", \"twoqubit\", \"twoqubit\", \"unbind_transition\", \"unbind_transition\", \"unicharged\", \"unwind\", \"unzip\", \"unzip\", \"urea\", \"user\", \"user\", \"user\", \"vegetable\", \"velocity\", \"virus\", \"virus\", \"voltage\", \"vortical\", \"vortical\", \"vortical\", \"walker\", \"wall\", \"wall\", \"waterlike\", \"waterlike\", \"weakcontact\", \"white_dwarf\", \"white_dwarf\", \"width\", \"writhe\", \"wznw\", \"yanglee\", \"ybacuodelta\", \"ysystem\", \"zgqsvw\", \"znbemnse\", \"znbese\", \"znimpurity\", \"znsb\", \"znse\", \"zodd\", \"zrtio\"]}, \"R\": 30, \"lambda.step\": 0.01, \"plot.opts\": {\"xlab\": \"PC1\", \"ylab\": \"PC2\"}, \"topic.order\": [1, 2, 3, 4, 5, 6, 7, 8, 9, 10, 11, 12, 13, 14]};\n",
       "\n",
       "function LDAvis_load_lib(url, callback){\n",
       "  var s = document.createElement('script');\n",
       "  s.src = url;\n",
       "  s.async = true;\n",
       "  s.onreadystatechange = s.onload = callback;\n",
       "  s.onerror = function(){console.warn(\"failed to load library \" + url);};\n",
       "  document.getElementsByTagName(\"head\")[0].appendChild(s);\n",
       "}\n",
       "\n",
       "if(typeof(LDAvis) !== \"undefined\"){\n",
       "   // already loaded: just create the visualization\n",
       "   !function(LDAvis){\n",
       "       new LDAvis(\"#\" + \"ldavis_el992956300742081781597144\", ldavis_el992956300742081781597144_data);\n",
       "   }(LDAvis);\n",
       "}else if(typeof define === \"function\" && define.amd){\n",
       "   // require.js is available: use it to load d3/LDAvis\n",
       "   require.config({paths: {d3: \"https://d3js.org/d3.v5\"}});\n",
       "   require([\"d3\"], function(d3){\n",
       "      window.d3 = d3;\n",
       "      LDAvis_load_lib(\"https://cdn.jsdelivr.net/gh/bmabey/pyLDAvis@3.3.1/pyLDAvis/js/ldavis.v3.0.0.js\", function(){\n",
       "        new LDAvis(\"#\" + \"ldavis_el992956300742081781597144\", ldavis_el992956300742081781597144_data);\n",
       "      });\n",
       "    });\n",
       "}else{\n",
       "    // require.js not available: dynamically load d3 & LDAvis\n",
       "    LDAvis_load_lib(\"https://d3js.org/d3.v5.js\", function(){\n",
       "         LDAvis_load_lib(\"https://cdn.jsdelivr.net/gh/bmabey/pyLDAvis@3.3.1/pyLDAvis/js/ldavis.v3.0.0.js\", function(){\n",
       "                 new LDAvis(\"#\" + \"ldavis_el992956300742081781597144\", ldavis_el992956300742081781597144_data);\n",
       "            })\n",
       "         });\n",
       "}\n",
       "</script>"
      ],
      "text/plain": [
       "PreparedData(topic_coordinates=              x         y  topics  cluster       Freq\n",
       "topic                                                \n",
       "0     -0.329915 -0.036269       1        1  95.093221\n",
       "1     -0.061943  0.162358       2        1   1.758805\n",
       "2      0.005250 -0.054112       3        1   0.781353\n",
       "3      0.039049 -0.002126       4        1   0.218571\n",
       "4      0.037517 -0.001448       5        1   0.159204\n",
       "5      0.012005 -0.039183       6        1   0.713658\n",
       "6      0.037053 -0.005637       7        1   0.297951\n",
       "7      0.037773 -0.002038       8        1   0.140832\n",
       "8      0.037166 -0.005933       9        1   0.191252\n",
       "9      0.037591 -0.001054      10        1   0.104372\n",
       "10     0.032412 -0.014685      11        1   0.280803\n",
       "11     0.038934  0.001033      12        1   0.070608\n",
       "12     0.039186 -0.000727      13        1   0.084819\n",
       "13     0.037922 -0.000179      14        1   0.104551, topic_info=                 Term         Freq        Total Category  logprob  loglift\n",
       "143             state  4657.000000  4657.000000  Default  30.0000  30.0000\n",
       "50              model  5998.000000  5998.000000  Default  29.0000  29.0000\n",
       "2254          network   883.000000   883.000000  Default  28.0000  28.0000\n",
       "304         structure  2290.000000  2290.000000  Default  27.0000  27.0000\n",
       "1149          process  1159.000000  1159.000000  Default  26.0000  26.0000\n",
       "...               ...          ...          ...      ...      ...      ...\n",
       "15384     filamentous     0.214394     6.711475  Topic14  -8.3311   3.4195\n",
       "27619        spinbath     0.200954     5.150267  Topic14  -8.3958   3.6195\n",
       "12244  solvable_model     0.210426     7.837628  Topic14  -8.3498   3.2457\n",
       "2798         integral     0.308662   118.162244  Topic14  -7.9666   0.9157\n",
       "35944      threepoint     0.206051     9.849452  Topic14  -8.3708   2.9962\n",
       "\n",
       "[792 rows x 6 columns], token_table=        Topic      Freq        Term\n",
       "term                               \n",
       "9620        1  0.926965        acid\n",
       "9620        7  0.026485        acid\n",
       "9620       11  0.052969        acid\n",
       "37645       1  0.119589       actin\n",
       "37645       2  0.777330       actin\n",
       "...       ...       ...         ...\n",
       "114921      3  1.023347  znimpurity\n",
       "104724      5  0.996120        znsb\n",
       "91718       6  0.893842        znse\n",
       "91588       6  1.095388        zodd\n",
       "88093       9  1.111186       zrtio\n",
       "\n",
       "[916 rows x 3 columns], R=30, lambda_step=0.01, plot_opts={'xlab': 'PC1', 'ylab': 'PC2'}, topic_order=[1, 2, 3, 4, 5, 6, 7, 8, 9, 10, 11, 12, 13, 14])"
      ]
     },
     "execution_count": 26,
     "metadata": {},
     "output_type": "execute_result"
    }
   ],
   "source": [
    "pyLDAvis.enable_notebook()\n",
    "pyLDAvis.gensim_models.prepare(optimal_lda, corpus, dictionary,sort_topics=False)"
   ]
  },
  {
   "cell_type": "code",
   "execution_count": null,
   "metadata": {},
   "outputs": [],
   "source": []
  }
 ],
 "metadata": {
  "kernelspec": {
   "display_name": "Python 3",
   "language": "python",
   "name": "python3"
  },
  "language_info": {
   "codemirror_mode": {
    "name": "ipython",
    "version": 3
   },
   "file_extension": ".py",
   "mimetype": "text/x-python",
   "name": "python",
   "nbconvert_exporter": "python",
   "pygments_lexer": "ipython3",
   "version": "3.9.4"
  },
  "metadata": {
   "interpreter": {
    "hash": "aee8b7b246df8f9039afb4144a1f6fd8d2ca17a180786b69acc140d282b71a49"
   }
  },
  "vscode": {
   "interpreter": {
    "hash": "aee8b7b246df8f9039afb4144a1f6fd8d2ca17a180786b69acc140d282b71a49"
   }
  }
 },
 "nbformat": 4,
 "nbformat_minor": 4
}
