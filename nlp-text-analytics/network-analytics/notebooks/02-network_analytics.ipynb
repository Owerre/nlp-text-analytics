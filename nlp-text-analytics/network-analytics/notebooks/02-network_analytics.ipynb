{
 "cells": [
  {
   "cell_type": "markdown",
   "metadata": {},
   "source": [
    "# Network Analytics"
   ]
  },
  {
   "cell_type": "code",
   "execution_count": 1,
   "metadata": {},
   "outputs": [],
   "source": [
    "%matplotlib inline\n",
    "\n",
    "# filter warnings\n",
    "import warnings\n",
    "\n",
    "warnings.filterwarnings(\"ignore\")\n",
    "import pandas as pd\n",
    "import numpy as np\n",
    "import matplotlib.pyplot as plt\n",
    "import seaborn as sns\n",
    "\n",
    "plt.rcParams.update({'font.size': 18})"
   ]
  },
  {
   "cell_type": "code",
   "execution_count": 2,
   "metadata": {},
   "outputs": [],
   "source": [
    "# import custom class\n",
    "%run '../src/helper/network.py'"
   ]
  },
  {
   "cell_type": "code",
   "execution_count": 3,
   "metadata": {},
   "outputs": [],
   "source": [
    "# instantiate the class\n",
    "nwk = Network() "
   ]
  },
  {
   "cell_type": "markdown",
   "metadata": {},
   "source": [
    "# Load network data"
   ]
  },
  {
   "cell_type": "code",
   "execution_count": 4,
   "metadata": {},
   "outputs": [
    {
     "name": "stdout",
     "output_type": "stream",
     "text": [
      "Data size (1110599, 5)\n"
     ]
    },
    {
     "data": {
      "text/html": [
       "<div>\n",
       "<style scoped>\n",
       "    .dataframe tbody tr th:only-of-type {\n",
       "        vertical-align: middle;\n",
       "    }\n",
       "\n",
       "    .dataframe tbody tr th {\n",
       "        vertical-align: top;\n",
       "    }\n",
       "\n",
       "    .dataframe thead th {\n",
       "        text-align: right;\n",
       "    }\n",
       "</style>\n",
       "<table border=\"1\" class=\"dataframe\">\n",
       "  <thead>\n",
       "    <tr style=\"text-align: right;\">\n",
       "      <th></th>\n",
       "      <th>arXiv_id</th>\n",
       "      <th>author</th>\n",
       "      <th>rsp</th>\n",
       "      <th>year</th>\n",
       "      <th>length_auth</th>\n",
       "    </tr>\n",
       "  </thead>\n",
       "  <tbody>\n",
       "    <tr>\n",
       "      <th>1110589</th>\n",
       "      <td>1208.4232</td>\n",
       "      <td>ManjavacasAlejandro</td>\n",
       "      <td>1</td>\n",
       "      <td>2012</td>\n",
       "      <td>19</td>\n",
       "    </tr>\n",
       "    <tr>\n",
       "      <th>1110590</th>\n",
       "      <td>1202.4394</td>\n",
       "      <td>SuzukiNorikazuNihon</td>\n",
       "      <td>1</td>\n",
       "      <td>2012</td>\n",
       "      <td>19</td>\n",
       "    </tr>\n",
       "    <tr>\n",
       "      <th>1110591</th>\n",
       "      <td>1902.09249</td>\n",
       "      <td>LiermannHanns-Peter</td>\n",
       "      <td>1</td>\n",
       "      <td>2019</td>\n",
       "      <td>19</td>\n",
       "    </tr>\n",
       "    <tr>\n",
       "      <th>1110592</th>\n",
       "      <td>cond-mat/0506088</td>\n",
       "      <td>BhattacharyaSomnath</td>\n",
       "      <td>1</td>\n",
       "      <td>2005</td>\n",
       "      <td>19</td>\n",
       "    </tr>\n",
       "    <tr>\n",
       "      <th>1110593</th>\n",
       "      <td>1207.2788</td>\n",
       "      <td>Gomez-GardeñesJesus</td>\n",
       "      <td>1</td>\n",
       "      <td>2012</td>\n",
       "      <td>19</td>\n",
       "    </tr>\n",
       "    <tr>\n",
       "      <th>1110594</th>\n",
       "      <td>2003.05713</td>\n",
       "      <td>Caroca-CanalesNubia</td>\n",
       "      <td>1</td>\n",
       "      <td>2020</td>\n",
       "      <td>19</td>\n",
       "    </tr>\n",
       "    <tr>\n",
       "      <th>1110595</th>\n",
       "      <td>802.4419</td>\n",
       "      <td>MunarrizJavierBIFI-</td>\n",
       "      <td>1</td>\n",
       "      <td>2008</td>\n",
       "      <td>19</td>\n",
       "    </tr>\n",
       "    <tr>\n",
       "      <th>1110596</th>\n",
       "      <td>1211.7265</td>\n",
       "      <td>WeidemüllerMatthias</td>\n",
       "      <td>1</td>\n",
       "      <td>2012</td>\n",
       "      <td>19</td>\n",
       "    </tr>\n",
       "    <tr>\n",
       "      <th>1110597</th>\n",
       "      <td>2006.12181</td>\n",
       "      <td>RadenovicAleksandra</td>\n",
       "      <td>1</td>\n",
       "      <td>2020</td>\n",
       "      <td>19</td>\n",
       "    </tr>\n",
       "    <tr>\n",
       "      <th>1110598</th>\n",
       "      <td>904.0659</td>\n",
       "      <td>KulakowskiKrzysztof</td>\n",
       "      <td>1</td>\n",
       "      <td>2009</td>\n",
       "      <td>19</td>\n",
       "    </tr>\n",
       "  </tbody>\n",
       "</table>\n",
       "</div>"
      ],
      "text/plain": [
       "                 arXiv_id               author  rsp  year  length_auth\n",
       "1110589         1208.4232  ManjavacasAlejandro    1  2012           19\n",
       "1110590         1202.4394  SuzukiNorikazuNihon    1  2012           19\n",
       "1110591        1902.09249  LiermannHanns-Peter    1  2019           19\n",
       "1110592  cond-mat/0506088  BhattacharyaSomnath    1  2005           19\n",
       "1110593         1207.2788  Gomez-GardeñesJesus    1  2012           19\n",
       "1110594        2003.05713  Caroca-CanalesNubia    1  2020           19\n",
       "1110595          802.4419  MunarrizJavierBIFI-    1  2008           19\n",
       "1110596         1211.7265  WeidemüllerMatthias    1  2012           19\n",
       "1110597        2006.12181  RadenovicAleksandra    1  2020           19\n",
       "1110598          904.0659  KulakowskiKrzysztof    1  2009           19"
      ]
     },
     "execution_count": 4,
     "metadata": {},
     "output_type": "execute_result"
    }
   ],
   "source": [
    "df = pd.read_csv('../data/network_data.csv', sep = '\\t')\n",
    "df.arXiv_id = df['arXiv_id'].astype(str) # convert to string\n",
    "print('Data size', df.shape)\n",
    "df.tail(10)"
   ]
  },
  {
   "cell_type": "code",
   "execution_count": 5,
   "metadata": {},
   "outputs": [
    {
     "name": "stdout",
     "output_type": "stream",
     "text": [
      "<class 'pandas.core.frame.DataFrame'>\n",
      "RangeIndex: 1110599 entries, 0 to 1110598\n",
      "Data columns (total 5 columns):\n",
      " #   Column       Non-Null Count    Dtype \n",
      "---  ------       --------------    ----- \n",
      " 0   arXiv_id     1110599 non-null  object\n",
      " 1   author       1110598 non-null  object\n",
      " 2   rsp          1110599 non-null  int64 \n",
      " 3   year         1110599 non-null  int64 \n",
      " 4   length_auth  1110599 non-null  int64 \n",
      "dtypes: int64(3), object(2)\n",
      "memory usage: 42.4+ MB\n"
     ]
    }
   ],
   "source": [
    "df.info()"
   ]
  },
  {
   "cell_type": "markdown",
   "metadata": {},
   "source": [
    "# Bipartite network analytics"
   ]
  },
  {
   "cell_type": "code",
   "execution_count": 6,
   "metadata": {},
   "outputs": [],
   "source": [
    "# Construct bipartite network\n",
    "G, paper_nodes, author_nodes = nwk.bigraph(df, 'arXiv_id', 'author', 'rsp')"
   ]
  },
  {
   "cell_type": "code",
   "execution_count": 7,
   "metadata": {},
   "outputs": [
    {
     "name": "stdout",
     "output_type": "stream",
     "text": [
      "Total papers: 292702\n",
      "Total authors: 233239\n",
      "Average authors per paper: 3.7925\n",
      "Average papers per author: 4.7593\n",
      "-----------------------------------\n",
      "Bipartite network: True\n",
      "Connected: False\n",
      "Clustering coefficient: 0.1053\n",
      "Density: 1.6e-05\n",
      "-----------------------------------\n",
      "Name: \n",
      "Type: Graph\n",
      "Number of nodes: 525941\n",
      "Number of edges: 1110058\n",
      "Average degree:   4.2212\n"
     ]
    }
   ],
   "source": [
    "# Network info\n",
    "nwk.binet_info(G, paper_nodes, author_nodes)"
   ]
  },
  {
   "cell_type": "code",
   "execution_count": 8,
   "metadata": {},
   "outputs": [],
   "source": [
    "# Display network in two layouts\n",
    "# nwk.plot_bigraph(G, paper_nodes, author_nodes, title = None)"
   ]
  },
  {
   "cell_type": "markdown",
   "metadata": {},
   "source": [
    "# Bipartite degree distribution"
   ]
  },
  {
   "cell_type": "code",
   "execution_count": 9,
   "metadata": {},
   "outputs": [],
   "source": [
    "author_dgr, author_dgr_proba = nwk.bidegree_dist(G, author_nodes)\n",
    "paper_dgr, paper_dgr_proba = nwk.bidegree_dist(G, paper_nodes)"
   ]
  },
  {
   "cell_type": "code",
   "execution_count": 10,
   "metadata": {},
   "outputs": [
    {
     "data": {
      "text/html": [
       "<div>\n",
       "<style scoped>\n",
       "    .dataframe tbody tr th:only-of-type {\n",
       "        vertical-align: middle;\n",
       "    }\n",
       "\n",
       "    .dataframe tbody tr th {\n",
       "        vertical-align: top;\n",
       "    }\n",
       "\n",
       "    .dataframe thead th {\n",
       "        text-align: right;\n",
       "    }\n",
       "</style>\n",
       "<table border=\"1\" class=\"dataframe\">\n",
       "  <thead>\n",
       "    <tr style=\"text-align: right;\">\n",
       "      <th></th>\n",
       "      <th>author</th>\n",
       "      <th># of papers</th>\n",
       "    </tr>\n",
       "  </thead>\n",
       "  <tbody>\n",
       "    <tr>\n",
       "      <th>0</th>\n",
       "      <td>WatanabeKenji</td>\n",
       "      <td>850</td>\n",
       "    </tr>\n",
       "    <tr>\n",
       "      <th>1</th>\n",
       "      <td>TaniguchiTakashi</td>\n",
       "      <td>849</td>\n",
       "    </tr>\n",
       "    <tr>\n",
       "      <th>2</th>\n",
       "      <td>SarmaS</td>\n",
       "      <td>627</td>\n",
       "    </tr>\n",
       "    <tr>\n",
       "      <th>3</th>\n",
       "      <td>WangX</td>\n",
       "      <td>458</td>\n",
       "    </tr>\n",
       "    <tr>\n",
       "      <th>4</th>\n",
       "      <td>PeetersF</td>\n",
       "      <td>456</td>\n",
       "    </tr>\n",
       "    <tr>\n",
       "      <th>5</th>\n",
       "      <td>LossDaniel</td>\n",
       "      <td>409</td>\n",
       "    </tr>\n",
       "    <tr>\n",
       "      <th>6</th>\n",
       "      <td>WestK</td>\n",
       "      <td>409</td>\n",
       "    </tr>\n",
       "    <tr>\n",
       "      <th>7</th>\n",
       "      <td>PfeifferL</td>\n",
       "      <td>406</td>\n",
       "    </tr>\n",
       "    <tr>\n",
       "      <th>8</th>\n",
       "      <td>CanfieldP</td>\n",
       "      <td>382</td>\n",
       "    </tr>\n",
       "    <tr>\n",
       "      <th>9</th>\n",
       "      <td>KatsnelsonM</td>\n",
       "      <td>376</td>\n",
       "    </tr>\n",
       "  </tbody>\n",
       "</table>\n",
       "</div>"
      ],
      "text/plain": [
       "             author  # of papers\n",
       "0     WatanabeKenji          850\n",
       "1  TaniguchiTakashi          849\n",
       "2            SarmaS          627\n",
       "3             WangX          458\n",
       "4          PeetersF          456\n",
       "5        LossDaniel          409\n",
       "6             WestK          409\n",
       "7         PfeifferL          406\n",
       "8         CanfieldP          382\n",
       "9       KatsnelsonM          376"
      ]
     },
     "execution_count": 10,
     "metadata": {},
     "output_type": "execute_result"
    }
   ],
   "source": [
    "author_dgr = author_dgr.sort_values(by='dgr', ascending=False).reset_index(drop=True)\n",
    "author_dgr.columns = ['author', '# of papers']\n",
    "author_dgr.head(10)"
   ]
  },
  {
   "cell_type": "code",
   "execution_count": 11,
   "metadata": {
    "tags": []
   },
   "outputs": [
    {
     "data": {
      "image/png": "[encoded data removed]",
      "text/plain": [
       "<Figure size 720x504 with 1 Axes>"
      ]
     },
     "metadata": {
      "needs_background": "light"
     },
     "output_type": "display_data"
    }
   ],
   "source": [
    "nwk.plot_dgr_dist(author_dgr_proba, xlab=r'author node degree  $k$ (# of papers)',\n",
    "                  title=\"Degree distribution of author's node\", label = 'author node')"
   ]
  },
  {
   "cell_type": "code",
   "execution_count": 12,
   "metadata": {},
   "outputs": [
    {
     "data": {
      "image/png": "[encoded data removed]",
      "text/plain": [
       "<Figure size 720x504 with 1 Axes>"
      ]
     },
     "metadata": {
      "needs_background": "light"
     },
     "output_type": "display_data"
    }
   ],
   "source": [
    "nwk.plot_dgr_dist(paper_dgr_proba, xlab=r'paper node degree  $k$ (# of authors)', \n",
    "                  title=\"Degree distribution of paper's node\", label='paper node')"
   ]
  },
  {
   "cell_type": "markdown",
   "metadata": {
    "tags": []
   },
   "source": [
    "# Network projection"
   ]
  },
  {
   "cell_type": "markdown",
   "metadata": {},
   "source": [
    "## A. Author's node"
   ]
  },
  {
   "cell_type": "code",
   "execution_count": 13,
   "metadata": {},
   "outputs": [],
   "source": [
    "aG = nwk.projected_bigraph(G, author_nodes)"
   ]
  },
  {
   "cell_type": "code",
   "execution_count": 14,
   "metadata": {},
   "outputs": [
    {
     "name": "stdout",
     "output_type": "stream",
     "text": [
      "Connected: False\n",
      "Mean clustering coefficient: 0.6785\n",
      "Density: 0.0001\n",
      "Modularity: 0.7244\n",
      "Communities: 7588\n",
      "Isolates Nodes: 3500\n",
      "-----------------------------------\n",
      "Name: \n",
      "Type: Graph\n",
      "Number of nodes: 233239\n",
      "Number of edges: 1748683\n",
      "Average degree:  14.9948\n"
     ]
    }
   ],
   "source": [
    "nwk.net_info(aG)"
   ]
  },
  {
   "cell_type": "code",
   "execution_count": 15,
   "metadata": {},
   "outputs": [],
   "source": [
    "author_dgr_, author_dgr_proba_ = nwk.degree_dist(aG)"
   ]
  },
  {
   "cell_type": "code",
   "execution_count": 16,
   "metadata": {},
   "outputs": [
    {
     "data": {
      "text/html": [
       "<div>\n",
       "<style scoped>\n",
       "    .dataframe tbody tr th:only-of-type {\n",
       "        vertical-align: middle;\n",
       "    }\n",
       "\n",
       "    .dataframe tbody tr th {\n",
       "        vertical-align: top;\n",
       "    }\n",
       "\n",
       "    .dataframe thead th {\n",
       "        text-align: right;\n",
       "    }\n",
       "</style>\n",
       "<table border=\"1\" class=\"dataframe\">\n",
       "  <thead>\n",
       "    <tr style=\"text-align: right;\">\n",
       "      <th></th>\n",
       "      <th>author</th>\n",
       "      <th># of collaborators</th>\n",
       "    </tr>\n",
       "  </thead>\n",
       "  <tbody>\n",
       "    <tr>\n",
       "      <th>0</th>\n",
       "      <td>WatanabeKenji</td>\n",
       "      <td>3433</td>\n",
       "    </tr>\n",
       "    <tr>\n",
       "      <th>1</th>\n",
       "      <td>TaniguchiTakashi</td>\n",
       "      <td>3431</td>\n",
       "    </tr>\n",
       "    <tr>\n",
       "      <th>2</th>\n",
       "      <td>WangX</td>\n",
       "      <td>1342</td>\n",
       "    </tr>\n",
       "    <tr>\n",
       "      <th>3</th>\n",
       "      <td>WangY</td>\n",
       "      <td>1299</td>\n",
       "    </tr>\n",
       "    <tr>\n",
       "      <th>4</th>\n",
       "      <td>KimJ</td>\n",
       "      <td>1252</td>\n",
       "    </tr>\n",
       "    <tr>\n",
       "      <th>5</th>\n",
       "      <td>ChenY</td>\n",
       "      <td>1190</td>\n",
       "    </tr>\n",
       "    <tr>\n",
       "      <th>6</th>\n",
       "      <td>WangZ</td>\n",
       "      <td>1142</td>\n",
       "    </tr>\n",
       "    <tr>\n",
       "      <th>7</th>\n",
       "      <td>ChenX</td>\n",
       "      <td>1090</td>\n",
       "    </tr>\n",
       "    <tr>\n",
       "      <th>8</th>\n",
       "      <td>LeeS</td>\n",
       "      <td>1061</td>\n",
       "    </tr>\n",
       "    <tr>\n",
       "      <th>9</th>\n",
       "      <td>CavaR</td>\n",
       "      <td>936</td>\n",
       "    </tr>\n",
       "  </tbody>\n",
       "</table>\n",
       "</div>"
      ],
      "text/plain": [
       "             author  # of collaborators\n",
       "0     WatanabeKenji                3433\n",
       "1  TaniguchiTakashi                3431\n",
       "2             WangX                1342\n",
       "3             WangY                1299\n",
       "4              KimJ                1252\n",
       "5             ChenY                1190\n",
       "6             WangZ                1142\n",
       "7             ChenX                1090\n",
       "8              LeeS                1061\n",
       "9             CavaR                 936"
      ]
     },
     "execution_count": 16,
     "metadata": {},
     "output_type": "execute_result"
    }
   ],
   "source": [
    "author_dgr_ = author_dgr_.sort_values(by='dgr', ascending=False).reset_index(drop=True)\n",
    "author_dgr_.columns = ['author', '# of collaborators']\n",
    "author_dgr_.head(10)"
   ]
  },
  {
   "cell_type": "code",
   "execution_count": 17,
   "metadata": {},
   "outputs": [
    {
     "data": {
      "image/png": "[encoded data removed]",
      "text/plain": [
       "<Figure size 720x504 with 1 Axes>"
      ]
     },
     "metadata": {
      "needs_background": "light"
     },
     "output_type": "display_data"
    }
   ],
   "source": [
    "nwk.plot_dgr_dist(author_dgr_proba_, xlab = r'# of collaborators $k$', title = None, \n",
    "                  label = 'author-author network')"
   ]
  },
  {
   "cell_type": "markdown",
   "metadata": {},
   "source": [
    "## B. Paper's node"
   ]
  },
  {
   "cell_type": "code",
   "execution_count": 18,
   "metadata": {},
   "outputs": [],
   "source": [
    "pG = nwk.projected_bigraph(G, paper_nodes)"
   ]
  },
  {
   "cell_type": "code",
   "execution_count": 19,
   "metadata": {},
   "outputs": [
    {
     "data": {
      "text/html": [
       "<div>\n",
       "<style scoped>\n",
       "    .dataframe tbody tr th:only-of-type {\n",
       "        vertical-align: middle;\n",
       "    }\n",
       "\n",
       "    .dataframe tbody tr th {\n",
       "        vertical-align: top;\n",
       "    }\n",
       "\n",
       "    .dataframe thead th {\n",
       "        text-align: right;\n",
       "    }\n",
       "</style>\n",
       "<table border=\"1\" class=\"dataframe\">\n",
       "  <thead>\n",
       "    <tr style=\"text-align: right;\">\n",
       "      <th></th>\n",
       "      <th>dgr</th>\n",
       "      <th>dgr_proba</th>\n",
       "    </tr>\n",
       "  </thead>\n",
       "  <tbody>\n",
       "    <tr>\n",
       "      <th>0</th>\n",
       "      <td>0</td>\n",
       "      <td>0.017684</td>\n",
       "    </tr>\n",
       "    <tr>\n",
       "      <th>1</th>\n",
       "      <td>1</td>\n",
       "      <td>0.014568</td>\n",
       "    </tr>\n",
       "    <tr>\n",
       "      <th>2</th>\n",
       "      <td>2</td>\n",
       "      <td>0.013871</td>\n",
       "    </tr>\n",
       "    <tr>\n",
       "      <th>3</th>\n",
       "      <td>3</td>\n",
       "      <td>0.012924</td>\n",
       "    </tr>\n",
       "    <tr>\n",
       "      <th>4</th>\n",
       "      <td>4</td>\n",
       "      <td>0.012808</td>\n",
       "    </tr>\n",
       "  </tbody>\n",
       "</table>\n",
       "</div>"
      ],
      "text/plain": [
       "   dgr  dgr_proba\n",
       "0    0   0.017684\n",
       "1    1   0.014568\n",
       "2    2   0.013871\n",
       "3    3   0.012924\n",
       "4    4   0.012808"
      ]
     },
     "execution_count": 19,
     "metadata": {},
     "output_type": "execute_result"
    }
   ],
   "source": [
    "paper_dgr_, paper_dgr_proba_ = nwk.degree_dist(pG)\n",
    "paper_dgr_proba_.head()"
   ]
  },
  {
   "cell_type": "code",
   "execution_count": 21,
   "metadata": {
    "tags": []
   },
   "outputs": [
    {
     "data": {
      "image/png": "[encoded data removed]",
      "text/plain": [
       "<Figure size 720x504 with 1 Axes>"
      ]
     },
     "metadata": {
      "needs_background": "light"
     },
     "output_type": "display_data"
    }
   ],
   "source": [
    "nwk.plot_dgr_dist(paper_dgr_proba_, xlab = r'# of papers $k$', title = None, \n",
    "                  label = 'paper-paper network')"
   ]
  },
  {
   "cell_type": "code",
   "execution_count": null,
   "metadata": {},
   "outputs": [],
   "source": []
  }
 ],
 "metadata": {
  "environment": {
   "name": "r-cpu.3-6.m54",
   "type": "gcloud",
   "uri": "gcr.io/deeplearning-platform-release/r-cpu.3-6:m54"
  },
  "kernelspec": {
   "display_name": "Python 3",
   "language": "python",
   "name": "python3"
  },
  "language_info": {
   "codemirror_mode": {
    "name": "ipython",
    "version": 3
   },
   "file_extension": ".py",
   "mimetype": "text/x-python",
   "name": "python",
   "nbconvert_exporter": "python",
   "pygments_lexer": "ipython3",
   "version": "3.9.4"
  }
 },
 "nbformat": 4,
 "nbformat_minor": 4
}
