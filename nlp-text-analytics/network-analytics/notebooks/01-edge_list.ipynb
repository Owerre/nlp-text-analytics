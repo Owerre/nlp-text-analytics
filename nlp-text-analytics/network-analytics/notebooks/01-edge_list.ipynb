{
 "cells": [
  {
   "cell_type": "markdown",
   "metadata": {},
   "source": [
    "# Edge List and Data Cleaning"
   ]
  },
  {
   "cell_type": "code",
   "execution_count": 1,
   "metadata": {
    "tags": []
   },
   "outputs": [],
   "source": [
    "%matplotlib inline\n",
    "\n",
    "# ignore deprecated warning\n",
    "import warnings\n",
    "\n",
    "warnings.filterwarnings(\"ignore\")\n",
    "import pandas as pd\n",
    "import numpy as np\n",
    "from pyspark.sql import SparkSession\n",
    "from pyspark import sql, SparkContext, SparkConf\n",
    "from pyspark.sql.functions import *"
   ]
  },
  {
   "cell_type": "code",
   "execution_count": 2,
   "metadata": {},
   "outputs": [],
   "source": [
    "# create spark session\n",
    "spark = SparkSession.builder.appName(\"project\").getOrCreate()"
   ]
  },
  {
   "cell_type": "code",
   "execution_count": 4,
   "metadata": {},
   "outputs": [],
   "source": [
    "# import custom class\n",
    "%run '../src/text_preprocessing.py'"
   ]
  },
  {
   "cell_type": "code",
   "execution_count": 5,
   "metadata": {},
   "outputs": [],
   "source": [
    "# instantiate the class\n",
    "text_tf = TextPreprocessing() "
   ]
  },
  {
   "cell_type": "markdown",
   "metadata": {},
   "source": [
    "## Load raw data"
   ]
  },
  {
   "cell_type": "code",
   "execution_count": 7,
   "metadata": {},
   "outputs": [
    {
     "name": "stdout",
     "output_type": "stream",
     "text": [
      "Data size: (295174, 3)\n"
     ]
    },
    {
     "data": {
      "text/html": [
       "<div>\n",
       "<style scoped>\n",
       "    .dataframe tbody tr th:only-of-type {\n",
       "        vertical-align: middle;\n",
       "    }\n",
       "\n",
       "    .dataframe tbody tr th {\n",
       "        vertical-align: top;\n",
       "    }\n",
       "\n",
       "    .dataframe thead th {\n",
       "        text-align: right;\n",
       "    }\n",
       "</style>\n",
       "<table border=\"1\" class=\"dataframe\">\n",
       "  <thead>\n",
       "    <tr style=\"text-align: right;\">\n",
       "      <th></th>\n",
       "      <th>arXiv_id</th>\n",
       "      <th>authors</th>\n",
       "      <th>title</th>\n",
       "    </tr>\n",
       "  </thead>\n",
       "  <tbody>\n",
       "    <tr>\n",
       "      <th>149884</th>\n",
       "      <td>1709.0458</td>\n",
       "      <td>['JeongY. H.', 'YangS. -R. Eric']</td>\n",
       "      <td>Topological end states and Zak phase of rectan...</td>\n",
       "    </tr>\n",
       "    <tr>\n",
       "      <th>82141</th>\n",
       "      <td>1308.4277</td>\n",
       "      <td>['AcharyyaMuktishPresidency University, India']</td>\n",
       "      <td>Dynamic-Symmetry-Breaking Breathing and Spread...</td>\n",
       "    </tr>\n",
       "    <tr>\n",
       "      <th>141516</th>\n",
       "      <td>1703.07292</td>\n",
       "      <td>['WangLin-Lin', 'JoNa Hyun', 'WuYun', 'WuQuanS...</td>\n",
       "      <td>Phonon-Induced Topological Transition to a Typ...</td>\n",
       "    </tr>\n",
       "    <tr>\n",
       "      <th>144602</th>\n",
       "      <td>1705.08898</td>\n",
       "      <td>['MilletariMirco', 'OffidaniManuel', 'Ferreira...</td>\n",
       "      <td>Covariant conservation laws and the spin Hall ...</td>\n",
       "    </tr>\n",
       "    <tr>\n",
       "      <th>20792</th>\n",
       "      <td>902.4176</td>\n",
       "      <td>['FischerA. M.', 'DzyubenkoA. B.', 'RoemerR. A.']</td>\n",
       "      <td>Localized Collective Excitations in Doped Grap...</td>\n",
       "    </tr>\n",
       "  </tbody>\n",
       "</table>\n",
       "</div>"
      ],
      "text/plain": [
       "          arXiv_id                                            authors  \\\n",
       "149884   1709.0458                  ['JeongY. H.', 'YangS. -R. Eric']   \n",
       "82141    1308.4277    ['AcharyyaMuktishPresidency University, India']   \n",
       "141516  1703.07292  ['WangLin-Lin', 'JoNa Hyun', 'WuYun', 'WuQuanS...   \n",
       "144602  1705.08898  ['MilletariMirco', 'OffidaniManuel', 'Ferreira...   \n",
       "20792     902.4176  ['FischerA. M.', 'DzyubenkoA. B.', 'RoemerR. A.']   \n",
       "\n",
       "                                                    title  \n",
       "149884  Topological end states and Zak phase of rectan...  \n",
       "82141   Dynamic-Symmetry-Breaking Breathing and Spread...  \n",
       "141516  Phonon-Induced Topological Transition to a Typ...  \n",
       "144602  Covariant conservation laws and the spin Hall ...  \n",
       "20792   Localized Collective Excitations in Doped Grap...  "
      ]
     },
     "execution_count": 7,
     "metadata": {},
     "output_type": "execute_result"
    }
   ],
   "source": [
    "base_path = ' '\n",
    "df = pd.read_csv(base_path + \"/nlp-text-analytics/citation-count-prediction/data/data_processed.csv\", \n",
    "sep = '\\t'\n",
    ")\n",
    "df = df[list(df.columns)].astype(str) # convert to string\n",
    "\n",
    "cols = [\n",
    "    'arXiv_id', \n",
    "    'authors', \n",
    "    'title',\n",
    "]\n",
    "df = df[cols].sample(frac=1) # shuffle the data\n",
    "print(\"Data size:\", df.shape)\n",
    "df.head()"
   ]
  },
  {
   "cell_type": "markdown",
   "metadata": {},
   "source": [
    "The authors column is a string representation of a list, which needs to be converted to a list of strings (authors)."
   ]
  },
  {
   "cell_type": "code",
   "execution_count": 8,
   "metadata": {},
   "outputs": [],
   "source": [
    "df.authors = df.authors.apply(text_tf.string_to_list)"
   ]
  },
  {
   "cell_type": "markdown",
   "metadata": {},
   "source": [
    "## Edge list dataframe for network analytics\n",
    "Paper-author edge list dataframe to be used in network analytics"
   ]
  },
  {
   "cell_type": "code",
   "execution_count": 9,
   "metadata": {},
   "outputs": [],
   "source": [
    "# list of papers and authors\n",
    "paper_author =[(df.arXiv_id.iloc[i], df.authors.iloc[i]) for i in np.arange(df.shape[0])] "
   ]
  },
  {
   "cell_type": "code",
   "execution_count": 10,
   "metadata": {},
   "outputs": [
    {
     "data": {
      "text/plain": [
       "[('806.0532',\n",
       "  ['JiaYing',\n",
       "   'ChengPeng',\n",
       "   'FangLei',\n",
       "   'LuoHuiqian',\n",
       "   'YangHuan',\n",
       "   'RenCong',\n",
       "   'ShanLei',\n",
       "   'GuChangzhi',\n",
       "   'WenHai-Hu']),\n",
       " ('1907.135',\n",
       "  ['SasamaYosuke',\n",
       "   'KomatsuKatsuyoshi',\n",
       "   'MoriyamaSatoshi',\n",
       "   'ImuraMasataka',\n",
       "   'SugiuraShiori',\n",
       "   'TerashimaTaichi',\n",
       "   'UjiShinya',\n",
       "   'WatanabeKenji',\n",
       "   'TaniguchiTakashi',\n",
       "   'UchihashiTakashi',\n",
       "   'TakahideYamaguchi'])]"
      ]
     },
     "execution_count": 10,
     "metadata": {},
     "output_type": "execute_result"
    }
   ],
   "source": [
    "paper_author[10:12]"
   ]
  },
  {
   "cell_type": "code",
   "execution_count": 11,
   "metadata": {},
   "outputs": [],
   "source": [
    "# create edge list dataframe\n",
    "pdf_prenet = pd.concat(\n",
    "    [\n",
    "        pd.DataFrame(\n",
    "        {\n",
    "            'arXiv_id': paper_id, \n",
    "            'author': author_nm, \n",
    "        }\n",
    "    ) \n",
    "     for paper_id, author_nm in paper_author\n",
    "    ],\n",
    "    ignore_index = True\n",
    ")"
   ]
  },
  {
   "cell_type": "code",
   "execution_count": 12,
   "metadata": {},
   "outputs": [
    {
     "data": {
      "text/html": [
       "<div>\n",
       "<style scoped>\n",
       "    .dataframe tbody tr th:only-of-type {\n",
       "        vertical-align: middle;\n",
       "    }\n",
       "\n",
       "    .dataframe tbody tr th {\n",
       "        vertical-align: top;\n",
       "    }\n",
       "\n",
       "    .dataframe thead th {\n",
       "        text-align: right;\n",
       "    }\n",
       "</style>\n",
       "<table border=\"1\" class=\"dataframe\">\n",
       "  <thead>\n",
       "    <tr style=\"text-align: right;\">\n",
       "      <th></th>\n",
       "      <th>arXiv_id</th>\n",
       "      <th>author</th>\n",
       "    </tr>\n",
       "  </thead>\n",
       "  <tbody>\n",
       "    <tr>\n",
       "      <th>0</th>\n",
       "      <td>1709.0458</td>\n",
       "      <td>JeongY. H.</td>\n",
       "    </tr>\n",
       "    <tr>\n",
       "      <th>1</th>\n",
       "      <td>1709.0458</td>\n",
       "      <td>YangS. -R. Eric</td>\n",
       "    </tr>\n",
       "    <tr>\n",
       "      <th>2</th>\n",
       "      <td>1308.4277</td>\n",
       "      <td>AcharyyaMuktishPresidency University, India</td>\n",
       "    </tr>\n",
       "    <tr>\n",
       "      <th>3</th>\n",
       "      <td>1703.07292</td>\n",
       "      <td>WangLin-Lin</td>\n",
       "    </tr>\n",
       "    <tr>\n",
       "      <th>4</th>\n",
       "      <td>1703.07292</td>\n",
       "      <td>JoNa Hyun</td>\n",
       "    </tr>\n",
       "  </tbody>\n",
       "</table>\n",
       "</div>"
      ],
      "text/plain": [
       "     arXiv_id                                       author\n",
       "0   1709.0458                                   JeongY. H.\n",
       "1   1709.0458                              YangS. -R. Eric\n",
       "2   1308.4277  AcharyyaMuktishPresidency University, India\n",
       "3  1703.07292                                  WangLin-Lin\n",
       "4  1703.07292                                    JoNa Hyun"
      ]
     },
     "execution_count": 12,
     "metadata": {},
     "output_type": "execute_result"
    }
   ],
   "source": [
    "pdf_prenet.head()"
   ]
  },
  {
   "cell_type": "code",
   "execution_count": 13,
   "metadata": {},
   "outputs": [],
   "source": [
    "# sort by length of author's name\n",
    "pdf_prenet['length_auth'] = pdf_prenet['author'].apply(len)\n",
    "pdf_prenet.sort_values(by = 'length_auth', ascending=True, inplace=True)\n",
    "pdf_prenet.reset_index(drop=True, inplace=True)"
   ]
  },
  {
   "cell_type": "code",
   "execution_count": 14,
   "metadata": {},
   "outputs": [
    {
     "name": "stdout",
     "output_type": "stream",
     "text": [
      "Data size: (1148170, 3)\n"
     ]
    },
    {
     "data": {
      "text/html": [
       "<div>\n",
       "<style scoped>\n",
       "    .dataframe tbody tr th:only-of-type {\n",
       "        vertical-align: middle;\n",
       "    }\n",
       "\n",
       "    .dataframe tbody tr th {\n",
       "        vertical-align: top;\n",
       "    }\n",
       "\n",
       "    .dataframe thead th {\n",
       "        text-align: right;\n",
       "    }\n",
       "</style>\n",
       "<table border=\"1\" class=\"dataframe\">\n",
       "  <thead>\n",
       "    <tr style=\"text-align: right;\">\n",
       "      <th></th>\n",
       "      <th>arXiv_id</th>\n",
       "      <th>author</th>\n",
       "      <th>length_auth</th>\n",
       "    </tr>\n",
       "  </thead>\n",
       "  <tbody>\n",
       "    <tr>\n",
       "      <th>0</th>\n",
       "      <td>cond-mat/0602237</td>\n",
       "      <td>.</td>\n",
       "      <td>1</td>\n",
       "    </tr>\n",
       "    <tr>\n",
       "      <th>1</th>\n",
       "      <td>808.2421</td>\n",
       "      <td>.</td>\n",
       "      <td>1</td>\n",
       "    </tr>\n",
       "    <tr>\n",
       "      <th>2</th>\n",
       "      <td>cond-mat/0307090</td>\n",
       "      <td>.</td>\n",
       "      <td>1</td>\n",
       "    </tr>\n",
       "    <tr>\n",
       "      <th>3</th>\n",
       "      <td>cond-mat/0310186</td>\n",
       "      <td>;</td>\n",
       "      <td>1</td>\n",
       "    </tr>\n",
       "    <tr>\n",
       "      <th>4</th>\n",
       "      <td>cond-mat/0106319</td>\n",
       "      <td>.</td>\n",
       "      <td>1</td>\n",
       "    </tr>\n",
       "    <tr>\n",
       "      <th>5</th>\n",
       "      <td>cond-mat/9912306</td>\n",
       "      <td>.</td>\n",
       "      <td>1</td>\n",
       "    </tr>\n",
       "    <tr>\n",
       "      <th>6</th>\n",
       "      <td>cond-mat/9607120</td>\n",
       "      <td>.</td>\n",
       "      <td>1</td>\n",
       "    </tr>\n",
       "    <tr>\n",
       "      <th>7</th>\n",
       "      <td>1011.4227</td>\n",
       "      <td>3</td>\n",
       "      <td>1</td>\n",
       "    </tr>\n",
       "    <tr>\n",
       "      <th>8</th>\n",
       "      <td>cond-mat/9705197</td>\n",
       "      <td>.</td>\n",
       "      <td>1</td>\n",
       "    </tr>\n",
       "    <tr>\n",
       "      <th>9</th>\n",
       "      <td>cond-mat/0211501</td>\n",
       "      <td>.</td>\n",
       "      <td>1</td>\n",
       "    </tr>\n",
       "  </tbody>\n",
       "</table>\n",
       "</div>"
      ],
      "text/plain": [
       "           arXiv_id author  length_auth\n",
       "0  cond-mat/0602237      .            1\n",
       "1          808.2421      .            1\n",
       "2  cond-mat/0307090      .            1\n",
       "3  cond-mat/0310186      ;            1\n",
       "4  cond-mat/0106319      .            1\n",
       "5  cond-mat/9912306      .            1\n",
       "6  cond-mat/9607120      .            1\n",
       "7         1011.4227      3            1\n",
       "8  cond-mat/9705197      .            1\n",
       "9  cond-mat/0211501      .            1"
      ]
     },
     "execution_count": 14,
     "metadata": {},
     "output_type": "execute_result"
    }
   ],
   "source": [
    "print(\"Data size:\", pdf_prenet.shape)\n",
    "pdf_prenet.head(10)"
   ]
  },
  {
   "cell_type": "code",
   "execution_count": 15,
   "metadata": {},
   "outputs": [
    {
     "data": {
      "text/html": [
       "<div>\n",
       "<style scoped>\n",
       "    .dataframe tbody tr th:only-of-type {\n",
       "        vertical-align: middle;\n",
       "    }\n",
       "\n",
       "    .dataframe tbody tr th {\n",
       "        vertical-align: top;\n",
       "    }\n",
       "\n",
       "    .dataframe thead th {\n",
       "        text-align: right;\n",
       "    }\n",
       "</style>\n",
       "<table border=\"1\" class=\"dataframe\">\n",
       "  <thead>\n",
       "    <tr style=\"text-align: right;\">\n",
       "      <th></th>\n",
       "      <th>arXiv_id</th>\n",
       "      <th>author</th>\n",
       "      <th>length_auth</th>\n",
       "    </tr>\n",
       "  </thead>\n",
       "  <tbody>\n",
       "    <tr>\n",
       "      <th>1148160</th>\n",
       "      <td>2009.03177</td>\n",
       "      <td>CaiSonghuaNational Laboratory of Solid State M...</td>\n",
       "      <td>315</td>\n",
       "    </tr>\n",
       "    <tr>\n",
       "      <th>1148161</th>\n",
       "      <td>1509.00973</td>\n",
       "      <td>TanakaIsaoDepartment of Materials Science and ...</td>\n",
       "      <td>316</td>\n",
       "    </tr>\n",
       "    <tr>\n",
       "      <th>1148162</th>\n",
       "      <td>1712.01738</td>\n",
       "      <td>SchubertMathiasTerahertz Materials Analysis Ce...</td>\n",
       "      <td>319</td>\n",
       "    </tr>\n",
       "    <tr>\n",
       "      <th>1148163</th>\n",
       "      <td>2001.08494</td>\n",
       "      <td>DekkerRiande IInstitut für Physik, Johannes Gu...</td>\n",
       "      <td>320</td>\n",
       "    </tr>\n",
       "    <tr>\n",
       "      <th>1148164</th>\n",
       "      <td>2006.15161</td>\n",
       "      <td>PalaciosPabloDepartamento de Física Aplicada a...</td>\n",
       "      <td>330</td>\n",
       "    </tr>\n",
       "    <tr>\n",
       "      <th>1148165</th>\n",
       "      <td>2006.14689</td>\n",
       "      <td>RobinsonJoshua A.Department of Materials Scien...</td>\n",
       "      <td>333</td>\n",
       "    </tr>\n",
       "    <tr>\n",
       "      <th>1148166</th>\n",
       "      <td>2009.01111</td>\n",
       "      <td>CrespiVincent H.Department of Materials Scienc...</td>\n",
       "      <td>359</td>\n",
       "    </tr>\n",
       "    <tr>\n",
       "      <th>1148167</th>\n",
       "      <td>2001.06664</td>\n",
       "      <td>PeiYujuanNingbo Institute of Materials Technol...</td>\n",
       "      <td>365</td>\n",
       "    </tr>\n",
       "    <tr>\n",
       "      <th>1148168</th>\n",
       "      <td>1801.0196</td>\n",
       "      <td>PanNanHefei National Laboratory for Physical S...</td>\n",
       "      <td>398</td>\n",
       "    </tr>\n",
       "    <tr>\n",
       "      <th>1148169</th>\n",
       "      <td>1801.0196</td>\n",
       "      <td>WangXiaopingHefei National Laboratory for Phys...</td>\n",
       "      <td>404</td>\n",
       "    </tr>\n",
       "  </tbody>\n",
       "</table>\n",
       "</div>"
      ],
      "text/plain": [
       "           arXiv_id                                             author  \\\n",
       "1148160  2009.03177  CaiSonghuaNational Laboratory of Solid State M...   \n",
       "1148161  1509.00973  TanakaIsaoDepartment of Materials Science and ...   \n",
       "1148162  1712.01738  SchubertMathiasTerahertz Materials Analysis Ce...   \n",
       "1148163  2001.08494  DekkerRiande IInstitut für Physik, Johannes Gu...   \n",
       "1148164  2006.15161  PalaciosPabloDepartamento de Física Aplicada a...   \n",
       "1148165  2006.14689  RobinsonJoshua A.Department of Materials Scien...   \n",
       "1148166  2009.01111  CrespiVincent H.Department of Materials Scienc...   \n",
       "1148167  2001.06664  PeiYujuanNingbo Institute of Materials Technol...   \n",
       "1148168   1801.0196  PanNanHefei National Laboratory for Physical S...   \n",
       "1148169   1801.0196  WangXiaopingHefei National Laboratory for Phys...   \n",
       "\n",
       "         length_auth  \n",
       "1148160          315  \n",
       "1148161          316  \n",
       "1148162          319  \n",
       "1148163          320  \n",
       "1148164          330  \n",
       "1148165          333  \n",
       "1148166          359  \n",
       "1148167          365  \n",
       "1148168          398  \n",
       "1148169          404  "
      ]
     },
     "execution_count": 15,
     "metadata": {},
     "output_type": "execute_result"
    }
   ],
   "source": [
    "pdf_prenet.tail(10)"
   ]
  },
  {
   "cell_type": "markdown",
   "metadata": {},
   "source": [
    "## Text preprocessing\n",
    "\n",
    "The edge list dataframe suggests further cleaning as some authors' names appear with the corresponding affiliation institutions, while others names are just numbers, special characters, and punctuations. The following preprocessing steps will be performed on the edge list dataframe:\n",
    "\n",
    "- Remove author's name with length < 3.\n",
    "- Split authors' names at white space followed by period puntuation mark.\n",
    "- Identify other words to split on, such as Department, University, etc.\n",
    "- Remove special characters and punctuations from author's name.\n",
    "- Identify the same author with two or more different names and normalize the names."
   ]
  },
  {
   "cell_type": "code",
   "execution_count": 19,
   "metadata": {},
   "outputs": [],
   "source": [
    "df_pre = pdf_prenet.copy()"
   ]
  },
  {
   "cell_type": "code",
   "execution_count": 21,
   "metadata": {},
   "outputs": [
    {
     "data": {
      "text/html": [
       "<div>\n",
       "<style scoped>\n",
       "    .dataframe tbody tr th:only-of-type {\n",
       "        vertical-align: middle;\n",
       "    }\n",
       "\n",
       "    .dataframe tbody tr th {\n",
       "        vertical-align: top;\n",
       "    }\n",
       "\n",
       "    .dataframe thead th {\n",
       "        text-align: right;\n",
       "    }\n",
       "</style>\n",
       "<table border=\"1\" class=\"dataframe\">\n",
       "  <thead>\n",
       "    <tr style=\"text-align: right;\">\n",
       "      <th></th>\n",
       "      <th>arXiv_id</th>\n",
       "      <th>author</th>\n",
       "      <th>length_auth</th>\n",
       "    </tr>\n",
       "  </thead>\n",
       "  <tbody>\n",
       "    <tr>\n",
       "      <th>69</th>\n",
       "      <td>1601.04103</td>\n",
       "      <td>Xia</td>\n",
       "      <td>3</td>\n",
       "    </tr>\n",
       "    <tr>\n",
       "      <th>70</th>\n",
       "      <td>1304.6025</td>\n",
       "      <td>XuX</td>\n",
       "      <td>3</td>\n",
       "    </tr>\n",
       "    <tr>\n",
       "      <th>71</th>\n",
       "      <td>cond-mat/9412076</td>\n",
       "      <td>IPN</td>\n",
       "      <td>3</td>\n",
       "    </tr>\n",
       "    <tr>\n",
       "      <th>72</th>\n",
       "      <td>1302.4791</td>\n",
       "      <td>WuW</td>\n",
       "      <td>3</td>\n",
       "    </tr>\n",
       "    <tr>\n",
       "      <th>73</th>\n",
       "      <td>1711.00869</td>\n",
       "      <td>Lee</td>\n",
       "      <td>3</td>\n",
       "    </tr>\n",
       "    <tr>\n",
       "      <th>74</th>\n",
       "      <td>1908.00124</td>\n",
       "      <td>Xia</td>\n",
       "      <td>3</td>\n",
       "    </tr>\n",
       "    <tr>\n",
       "      <th>75</th>\n",
       "      <td>2004.02433</td>\n",
       "      <td>WuX</td>\n",
       "      <td>3</td>\n",
       "    </tr>\n",
       "    <tr>\n",
       "      <th>76</th>\n",
       "      <td>903.0674</td>\n",
       "      <td>NiN</td>\n",
       "      <td>3</td>\n",
       "    </tr>\n",
       "    <tr>\n",
       "      <th>77</th>\n",
       "      <td>1805.05471</td>\n",
       "      <td>Fan</td>\n",
       "      <td>3</td>\n",
       "    </tr>\n",
       "    <tr>\n",
       "      <th>78</th>\n",
       "      <td>1901.01682</td>\n",
       "      <td>Xia</td>\n",
       "      <td>3</td>\n",
       "    </tr>\n",
       "  </tbody>\n",
       "</table>\n",
       "</div>"
      ],
      "text/plain": [
       "            arXiv_id author  length_auth\n",
       "69        1601.04103    Xia            3\n",
       "70         1304.6025    XuX            3\n",
       "71  cond-mat/9412076    IPN            3\n",
       "72         1302.4791    WuW            3\n",
       "73        1711.00869    Lee            3\n",
       "74        1908.00124    Xia            3\n",
       "75        2004.02433    WuX            3\n",
       "76          903.0674    NiN            3\n",
       "77        1805.05471    Fan            3\n",
       "78        1901.01682    Xia            3"
      ]
     },
     "execution_count": 21,
     "metadata": {},
     "output_type": "execute_result"
    }
   ],
   "source": [
    "# filter out author's name with length < 3\n",
    "df_pre = df_pre.copy()[df_pre.length_auth > 2]\n",
    "df_pre.head(10)"
   ]
  },
  {
   "cell_type": "code",
   "execution_count": 75,
   "metadata": {},
   "outputs": [
    {
     "data": {
      "text/html": [
       "<div>\n",
       "<style scoped>\n",
       "    .dataframe tbody tr th:only-of-type {\n",
       "        vertical-align: middle;\n",
       "    }\n",
       "\n",
       "    .dataframe tbody tr th {\n",
       "        vertical-align: top;\n",
       "    }\n",
       "\n",
       "    .dataframe thead th {\n",
       "        text-align: right;\n",
       "    }\n",
       "</style>\n",
       "<table border=\"1\" class=\"dataframe\">\n",
       "  <thead>\n",
       "    <tr style=\"text-align: right;\">\n",
       "      <th></th>\n",
       "      <th>arXiv_id</th>\n",
       "      <th>author</th>\n",
       "      <th>length_auth</th>\n",
       "    </tr>\n",
       "  </thead>\n",
       "  <tbody>\n",
       "    <tr>\n",
       "      <th>249283</th>\n",
       "      <td>1705.06117</td>\n",
       "      <td>BergerHelmuthEcole Polytechnique Fédérale de L...</td>\n",
       "      <td>82</td>\n",
       "    </tr>\n",
       "    <tr>\n",
       "      <th>249284</th>\n",
       "      <td>1909.12290</td>\n",
       "      <td>GallmeyerThomas G.Alliance for the Development...</td>\n",
       "      <td>82</td>\n",
       "    </tr>\n",
       "    <tr>\n",
       "      <th>249285</th>\n",
       "      <td>1906.07641</td>\n",
       "      <td>FerraraEnzoDivisione di Metrologia dei Materia...</td>\n",
       "      <td>82</td>\n",
       "    </tr>\n",
       "    <tr>\n",
       "      <th>249286</th>\n",
       "      <td>1807.04273</td>\n",
       "      <td>KolenderskiPiotrFaculty of Physics, Astronomy ...</td>\n",
       "      <td>83</td>\n",
       "    </tr>\n",
       "    <tr>\n",
       "      <th>249287</th>\n",
       "      <td>1906.07641</td>\n",
       "      <td>CoïssonMarcoDivisione di Metrologia dei Materi...</td>\n",
       "      <td>83</td>\n",
       "    </tr>\n",
       "    <tr>\n",
       "      <th>249288</th>\n",
       "      <td>1612.06301</td>\n",
       "      <td>LecouturierF.Laboratoire National des Champs M...</td>\n",
       "      <td>83</td>\n",
       "    </tr>\n",
       "    <tr>\n",
       "      <th>249289</th>\n",
       "      <td>1705.06165</td>\n",
       "      <td>GhiringhelliG.Dip. di Fisica - Politecnico di ...</td>\n",
       "      <td>83</td>\n",
       "    </tr>\n",
       "    <tr>\n",
       "      <th>249290</th>\n",
       "      <td>1705.06165</td>\n",
       "      <td>De LucaG. M.Dip. di Fisica - U. di Napoli Fede...</td>\n",
       "      <td>84</td>\n",
       "    </tr>\n",
       "    <tr>\n",
       "      <th>249291</th>\n",
       "      <td>cond-mat/0608084</td>\n",
       "      <td>BertrandDamienCP3, UCL, Louvain-la-Neuve, Belg...</td>\n",
       "      <td>84</td>\n",
       "    </tr>\n",
       "    <tr>\n",
       "      <th>249292</th>\n",
       "      <td>1909.12290</td>\n",
       "      <td>MoorthySenthamilaruviAlliance for the Developm...</td>\n",
       "      <td>85</td>\n",
       "    </tr>\n",
       "  </tbody>\n",
       "</table>\n",
       "</div>"
      ],
      "text/plain": [
       "                arXiv_id                                             author  \\\n",
       "249283        1705.06117  BergerHelmuthEcole Polytechnique Fédérale de L...   \n",
       "249284        1909.12290  GallmeyerThomas G.Alliance for the Development...   \n",
       "249285        1906.07641  FerraraEnzoDivisione di Metrologia dei Materia...   \n",
       "249286        1807.04273  KolenderskiPiotrFaculty of Physics, Astronomy ...   \n",
       "249287        1906.07641  CoïssonMarcoDivisione di Metrologia dei Materi...   \n",
       "249288        1612.06301  LecouturierF.Laboratoire National des Champs M...   \n",
       "249289        1705.06165  GhiringhelliG.Dip. di Fisica - Politecnico di ...   \n",
       "249290        1705.06165  De LucaG. M.Dip. di Fisica - U. di Napoli Fede...   \n",
       "249291  cond-mat/0608084  BertrandDamienCP3, UCL, Louvain-la-Neuve, Belg...   \n",
       "249292        1909.12290  MoorthySenthamilaruviAlliance for the Developm...   \n",
       "\n",
       "        length_auth  \n",
       "249283           82  \n",
       "249284           82  \n",
       "249285           82  \n",
       "249286           83  \n",
       "249287           83  \n",
       "249288           83  \n",
       "249289           83  \n",
       "249290           84  \n",
       "249291           84  \n",
       "249292           85  "
      ]
     },
     "execution_count": 75,
     "metadata": {},
     "output_type": "execute_result"
    }
   ],
   "source": [
    "df_pre['length_auth'] = df_pre['author'].apply(len)\n",
    "df_pre.sort_values(by = 'length_auth', ascending=True, inplace=True)\n",
    "df_pre.reset_index(drop=True, inplace=True)\n",
    "df_pre.tail(10)"
   ]
  },
  {
   "cell_type": "code",
   "execution_count": 76,
   "metadata": {},
   "outputs": [],
   "source": [
    "# splitting is done by manually selecting different strings to split Thailand \n",
    "df_pre.author = df_pre.author.apply(text_tf.split_extract, args=(\"1909.12290\",))"
   ]
  },
  {
   "cell_type": "code",
   "execution_count": 169,
   "metadata": {},
   "outputs": [
    {
     "name": "stdout",
     "output_type": "stream",
     "text": [
      "Data size: (1148170, 5)\n"
     ]
    },
    {
     "data": {
      "text/html": [
       "<div>\n",
       "<style scoped>\n",
       "    .dataframe tbody tr th:only-of-type {\n",
       "        vertical-align: middle;\n",
       "    }\n",
       "\n",
       "    .dataframe tbody tr th {\n",
       "        vertical-align: top;\n",
       "    }\n",
       "\n",
       "    .dataframe thead th {\n",
       "        text-align: right;\n",
       "    }\n",
       "</style>\n",
       "<table border=\"1\" class=\"dataframe\">\n",
       "  <thead>\n",
       "    <tr style=\"text-align: right;\">\n",
       "      <th></th>\n",
       "      <th>arXiv_id</th>\n",
       "      <th>author</th>\n",
       "      <th>rsp</th>\n",
       "      <th>year</th>\n",
       "      <th>length_auth</th>\n",
       "    </tr>\n",
       "  </thead>\n",
       "  <tbody>\n",
       "    <tr>\n",
       "      <th>1118796</th>\n",
       "      <td>2003.05713</td>\n",
       "      <td>Caroca-CanalesNubia</td>\n",
       "      <td>1</td>\n",
       "      <td>2020</td>\n",
       "      <td>19</td>\n",
       "    </tr>\n",
       "    <tr>\n",
       "      <th>1118797</th>\n",
       "      <td>802.4419</td>\n",
       "      <td>MunarrizJavierBIFI-</td>\n",
       "      <td>1</td>\n",
       "      <td>2008</td>\n",
       "      <td>19</td>\n",
       "    </tr>\n",
       "    <tr>\n",
       "      <th>1118798</th>\n",
       "      <td>1211.7265</td>\n",
       "      <td>WeidemüllerMatthias</td>\n",
       "      <td>1</td>\n",
       "      <td>2012</td>\n",
       "      <td>19</td>\n",
       "    </tr>\n",
       "    <tr>\n",
       "      <th>1118799</th>\n",
       "      <td>2006.12181</td>\n",
       "      <td>RadenovicAleksandra</td>\n",
       "      <td>1</td>\n",
       "      <td>2020</td>\n",
       "      <td>19</td>\n",
       "    </tr>\n",
       "    <tr>\n",
       "      <th>1118800</th>\n",
       "      <td>904.0659</td>\n",
       "      <td>KulakowskiKrzysztof</td>\n",
       "      <td>1</td>\n",
       "      <td>2009</td>\n",
       "      <td>19</td>\n",
       "    </tr>\n",
       "  </tbody>\n",
       "</table>\n",
       "</div>"
      ],
      "text/plain": [
       "           arXiv_id               author  rsp  year  length_auth\n",
       "1118796  2003.05713  Caroca-CanalesNubia    1  2020           19\n",
       "1118797    802.4419  MunarrizJavierBIFI-    1  2008           19\n",
       "1118798   1211.7265  WeidemüllerMatthias    1  2012           19\n",
       "1118799  2006.12181  RadenovicAleksandra    1  2020           19\n",
       "1118800    904.0659  KulakowskiKrzysztof    1  2009           19"
      ]
     },
     "execution_count": 169,
     "metadata": {},
     "output_type": "execute_result"
    }
   ],
   "source": [
    "# select authors with 2 < length < 20\n",
    "df_pre = df_pre[(df_pre.length_auth>2)&(df_pre.length_auth<20)]\n",
    "print(\"Data size:\", pdf_prenet.shape)\n",
    "df_pre.tail()"
   ]
  },
  {
   "cell_type": "code",
   "execution_count": 170,
   "metadata": {},
   "outputs": [],
   "source": [
    "# save as csv\n",
    "df_pre.to_csv('../data/in_progress.csv', sep = '\\t', index = False)"
   ]
  },
  {
   "cell_type": "code",
   "execution_count": 171,
   "metadata": {
    "tags": []
   },
   "outputs": [],
   "source": [
    "# df_pre.author = df_prepro.author.apply(text_tf.tokenizer)"
   ]
  },
  {
   "cell_type": "code",
   "execution_count": 172,
   "metadata": {},
   "outputs": [],
   "source": [
    "# df_pre[df_prepro.author == 'SankaranarayananS. K. R. S.']\n",
    "# df_pre.author.replace({\n",
    "# 'SankaranarayananS. K. R. S.':'SankaranarayananSubramanian K. R. S.'\n",
    "# },\n",
    "# inplace = True\n",
    "# )"
   ]
  },
  {
   "cell_type": "code",
   "execution_count": 173,
   "metadata": {},
   "outputs": [],
   "source": [
    "# create Spark dataframe\n",
    "sdf = spark.createDataFrame(df_pre)\n",
    "sdf.createOrReplaceTempView('edge_list')"
   ]
  },
  {
   "cell_type": "code",
   "execution_count": 174,
   "metadata": {},
   "outputs": [
    {
     "name": "stdout",
     "output_type": "stream",
     "text": [
      "+--------------+\n",
      "|        author|\n",
      "+--------------+\n",
      "|    LossDaniel|\n",
      "|LossDanielUniv|\n",
      "|   LossDanielU|\n",
      "|         LossM|\n",
      "| LossDanielIBM|\n",
      "|   LossMichael|\n",
      "+--------------+\n",
      "\n"
     ]
    }
   ],
   "source": [
    "spark.sql(\n",
    "    \"\"\"select distinct author \n",
    "    from edge_list \n",
    "    where author like 'Loss%' \n",
    "    \"\"\"\n",
    "    ).show(50)"
   ]
  },
  {
   "cell_type": "code",
   "execution_count": 175,
   "metadata": {},
   "outputs": [],
   "source": [
    "# Author's name normalization\n",
    "auth_dict = {\n",
    "    'WatanabeK':'WatanabeKenji', \n",
    "    'TaniguchiT': 'TaniguchiTakashi', \n",
    "    'LossD':'LossDaniel', \n",
    "    'LossDanielBasel':'LossDaniel',\n",
    "    'LossDanielBasel,':'LossDaniel', \n",
    "    'LossDanielUniv,':'LossDaniel',\n",
    "    'LossDanielU,':'LossDaniel', \n",
    "    'LossDanielIBM,':'LossDaniel', \n",
    "    'OwerreSolomon A': 'OwerreS A', \n",
    "    'OwerreSolomon Akaraka': 'OwerreS A',\n",
    "     'BiWenli': 'BiW',\n",
    "    'DasSarmaS': 'SarmaS Das',\n",
    "    }\n",
    "df_pre.author.replace(auth_dict, inplace=True)"
   ]
  },
  {
   "cell_type": "code",
   "execution_count": 176,
   "metadata": {},
   "outputs": [],
   "source": [
    "# save as csv\n",
    "df_pre.to_csv('../data/net_data.csv', sep='\\t', index=False)"
   ]
  },
  {
   "cell_type": "code",
   "execution_count": null,
   "metadata": {},
   "outputs": [],
   "source": []
  }
 ],
 "metadata": {
  "kernelspec": {
   "display_name": "Python 3",
   "language": "python",
   "name": "python3"
  },
  "language_info": {
   "codemirror_mode": {
    "name": "ipython",
    "version": 3
   },
   "file_extension": ".py",
   "mimetype": "text/x-python",
   "name": "python",
   "nbconvert_exporter": "python",
   "pygments_lexer": "ipython3",
   "version": "3.9.4"
  },
  "metadata": {
   "interpreter": {
    "hash": "aee8b7b246df8f9039afb4144a1f6fd8d2ca17a180786b69acc140d282b71a49"
   }
  },
  "vscode": {
   "interpreter": {
    "hash": "aee8b7b246df8f9039afb4144a1f6fd8d2ca17a180786b69acc140d282b71a49"
   }
  }
 },
 "nbformat": 4,
 "nbformat_minor": 4
}
