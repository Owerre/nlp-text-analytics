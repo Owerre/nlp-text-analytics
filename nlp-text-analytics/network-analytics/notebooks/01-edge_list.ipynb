{
 "cells": [
  {
   "cell_type": "markdown",
   "metadata": {},
   "source": [
    "# Edge List and Data Cleaning"
   ]
  },
  {
   "cell_type": "code",
   "execution_count": 1,
   "metadata": {
    "tags": []
   },
   "outputs": [],
   "source": [
    "%matplotlib inline\n",
    "\n",
    "# ignore deprecated warning\n",
    "import warnings\n",
    "\n",
    "warnings.filterwarnings(\"ignore\")\n",
    "import pandas as pd\n",
    "import numpy as np\n",
    "from pyspark.sql import SparkSession\n",
    "from pyspark import sql, SparkContext, SparkConf\n",
    "from pyspark.sql.functions import *"
   ]
  },
  {
   "cell_type": "code",
   "execution_count": 2,
   "metadata": {},
   "outputs": [],
   "source": [
    "# create spark session\n",
    "spark = SparkSession.builder.appName(\"project\").getOrCreate()"
   ]
  },
  {
   "cell_type": "code",
   "execution_count": 3,
   "metadata": {},
   "outputs": [],
   "source": [
    "# import custom class\n",
    "%run '../src/helper/text_preprocessing.py'"
   ]
  },
  {
   "cell_type": "code",
   "execution_count": 4,
   "metadata": {},
   "outputs": [],
   "source": [
    "# instantiate the class\n",
    "text_tf = TextPreprocessing() "
   ]
  },
  {
   "cell_type": "markdown",
   "metadata": {},
   "source": [
    "## Load raw data"
   ]
  },
  {
   "cell_type": "code",
   "execution_count": 7,
   "metadata": {},
   "outputs": [
    {
     "name": "stdout",
     "output_type": "stream",
     "text": [
      "Data size: (55021, 3)\n"
     ]
    },
    {
     "data": {
      "text/html": [
       "<div>\n",
       "<style scoped>\n",
       "    .dataframe tbody tr th:only-of-type {\n",
       "        vertical-align: middle;\n",
       "    }\n",
       "\n",
       "    .dataframe tbody tr th {\n",
       "        vertical-align: top;\n",
       "    }\n",
       "\n",
       "    .dataframe thead th {\n",
       "        text-align: right;\n",
       "    }\n",
       "</style>\n",
       "<table border=\"1\" class=\"dataframe\">\n",
       "  <thead>\n",
       "    <tr style=\"text-align: right;\">\n",
       "      <th></th>\n",
       "      <th>arXiv_id</th>\n",
       "      <th>authors</th>\n",
       "      <th>title</th>\n",
       "    </tr>\n",
       "  </thead>\n",
       "  <tbody>\n",
       "    <tr>\n",
       "      <th>1951</th>\n",
       "      <td>1506.02630</td>\n",
       "      <td>['KitanineN.', 'MailletJ. M.', 'NiccoliG.', 'T...</td>\n",
       "      <td>On determinant representations of scalar produ...</td>\n",
       "    </tr>\n",
       "    <tr>\n",
       "      <th>17098</th>\n",
       "      <td>1706.04636</td>\n",
       "      <td>['AsmarMahmoud M.', 'UlloaSergio E.']</td>\n",
       "      <td>Minimal Geometry for Valley Filtering in Graphene</td>\n",
       "    </tr>\n",
       "    <tr>\n",
       "      <th>12842</th>\n",
       "      <td>1703.05622</td>\n",
       "      <td>['ReechtGaël', 'HeinrichBenjamin', 'BulouHervé...</td>\n",
       "      <td>Imaging isodensity contours of molecular state...</td>\n",
       "    </tr>\n",
       "    <tr>\n",
       "      <th>43022</th>\n",
       "      <td>1812.08800</td>\n",
       "      <td>['KrammerMarkus', 'BorchertJames W.', 'Petritz...</td>\n",
       "      <td>Critical Evaluation of Organic Thin-Film Trans...</td>\n",
       "    </tr>\n",
       "    <tr>\n",
       "      <th>40552</th>\n",
       "      <td>1810.11296</td>\n",
       "      <td>['DrescherMoritz', 'SalmhoferManfred', 'EnssTi...</td>\n",
       "      <td>Real-space dynamics of attractive and repulsiv...</td>\n",
       "    </tr>\n",
       "  </tbody>\n",
       "</table>\n",
       "</div>"
      ],
      "text/plain": [
       "         arXiv_id                                            authors  \\\n",
       "1951   1506.02630  ['KitanineN.', 'MailletJ. M.', 'NiccoliG.', 'T...   \n",
       "17098  1706.04636              ['AsmarMahmoud M.', 'UlloaSergio E.']   \n",
       "12842  1703.05622  ['ReechtGaël', 'HeinrichBenjamin', 'BulouHervé...   \n",
       "43022  1812.08800  ['KrammerMarkus', 'BorchertJames W.', 'Petritz...   \n",
       "40552  1810.11296  ['DrescherMoritz', 'SalmhoferManfred', 'EnssTi...   \n",
       "\n",
       "                                                   title  \n",
       "1951   On determinant representations of scalar produ...  \n",
       "17098  Minimal Geometry for Valley Filtering in Graphene  \n",
       "12842  Imaging isodensity contours of molecular state...  \n",
       "43022  Critical Evaluation of Organic Thin-Film Trans...  \n",
       "40552  Real-space dynamics of attractive and repulsiv...  "
      ]
     },
     "execution_count": 7,
     "metadata": {},
     "output_type": "execute_result"
    }
   ],
   "source": [
    "df = pd.read_csv(\"../data/raw_data.csv\", sep = '\\t')\n",
    "df = df[list(df.columns)].astype(str) # convert to string\n",
    "\n",
    "cols = [\n",
    "    'arXiv_id', \n",
    "    'authors', \n",
    "    'title',\n",
    "]\n",
    "df = df[cols].sample(frac=1) # shuffle the data\n",
    "print(\"Data size:\", df.shape)\n",
    "df.head()"
   ]
  },
  {
   "cell_type": "markdown",
   "metadata": {},
   "source": [
    "The authors column is a string representation of a list, which needs to be converted to a list of strings (authors)."
   ]
  },
  {
   "cell_type": "code",
   "execution_count": 8,
   "metadata": {},
   "outputs": [],
   "source": [
    "df.authors = df.authors.apply(text_tf.string_to_list)"
   ]
  },
  {
   "cell_type": "markdown",
   "metadata": {},
   "source": [
    "## Edge list dataframe for network analytics\n",
    "Paper-author edge list dataframe to be used in network analytics"
   ]
  },
  {
   "cell_type": "code",
   "execution_count": 9,
   "metadata": {},
   "outputs": [],
   "source": [
    "# list of papers and authors\n",
    "paper_author =[(df.arXiv_id.iloc[i], df.authors.iloc[i]) for i in np.arange(df.shape[0])] "
   ]
  },
  {
   "cell_type": "code",
   "execution_count": 10,
   "metadata": {},
   "outputs": [
    {
     "data": {
      "text/plain": [
       "[('1711.01497',\n",
       "  ['HuDing',\n",
       "   'ZhangWenliang',\n",
       "   'WeiYuan',\n",
       "   'RoessliBertrand',\n",
       "   'SkoulatosMarkos',\n",
       "   'RegnaultLouis Pierre',\n",
       "   'ChenGenfu',\n",
       "   'SongYu',\n",
       "   'LuoHuiqian',\n",
       "   'LiShiliang',\n",
       "   'DaiPengcheng']),\n",
       " ('1801.09957', ['PawłowskiJ.', 'ŻebrowskiD.', 'BednarekS.'])]"
      ]
     },
     "execution_count": 10,
     "metadata": {},
     "output_type": "execute_result"
    }
   ],
   "source": [
    "paper_author[10:12]"
   ]
  },
  {
   "cell_type": "code",
   "execution_count": 11,
   "metadata": {},
   "outputs": [],
   "source": [
    "# create edge list dataframe\n",
    "pdf_prenet = pd.concat(\n",
    "    [\n",
    "        pd.DataFrame(\n",
    "        {\n",
    "            'arXiv_id': paper_id, \n",
    "            'author': author_nm, \n",
    "        }\n",
    "    ) \n",
    "     for paper_id, author_nm in paper_author\n",
    "    ],\n",
    "    ignore_index = True\n",
    ")"
   ]
  },
  {
   "cell_type": "code",
   "execution_count": 12,
   "metadata": {},
   "outputs": [
    {
     "data": {
      "text/html": [
       "<div>\n",
       "<style scoped>\n",
       "    .dataframe tbody tr th:only-of-type {\n",
       "        vertical-align: middle;\n",
       "    }\n",
       "\n",
       "    .dataframe tbody tr th {\n",
       "        vertical-align: top;\n",
       "    }\n",
       "\n",
       "    .dataframe thead th {\n",
       "        text-align: right;\n",
       "    }\n",
       "</style>\n",
       "<table border=\"1\" class=\"dataframe\">\n",
       "  <thead>\n",
       "    <tr style=\"text-align: right;\">\n",
       "      <th></th>\n",
       "      <th>arXiv_id</th>\n",
       "      <th>author</th>\n",
       "    </tr>\n",
       "  </thead>\n",
       "  <tbody>\n",
       "    <tr>\n",
       "      <th>0</th>\n",
       "      <td>1506.02630</td>\n",
       "      <td>KitanineN.</td>\n",
       "    </tr>\n",
       "    <tr>\n",
       "      <th>1</th>\n",
       "      <td>1506.02630</td>\n",
       "      <td>MailletJ. M.</td>\n",
       "    </tr>\n",
       "    <tr>\n",
       "      <th>2</th>\n",
       "      <td>1506.02630</td>\n",
       "      <td>NiccoliG.</td>\n",
       "    </tr>\n",
       "    <tr>\n",
       "      <th>3</th>\n",
       "      <td>1506.02630</td>\n",
       "      <td>TerrasV.</td>\n",
       "    </tr>\n",
       "    <tr>\n",
       "      <th>4</th>\n",
       "      <td>1706.04636</td>\n",
       "      <td>AsmarMahmoud M.</td>\n",
       "    </tr>\n",
       "  </tbody>\n",
       "</table>\n",
       "</div>"
      ],
      "text/plain": [
       "     arXiv_id           author\n",
       "0  1506.02630       KitanineN.\n",
       "1  1506.02630     MailletJ. M.\n",
       "2  1506.02630        NiccoliG.\n",
       "3  1506.02630         TerrasV.\n",
       "4  1706.04636  AsmarMahmoud M."
      ]
     },
     "execution_count": 12,
     "metadata": {},
     "output_type": "execute_result"
    }
   ],
   "source": [
    "pdf_prenet.head()"
   ]
  },
  {
   "cell_type": "code",
   "execution_count": 14,
   "metadata": {},
   "outputs": [],
   "source": [
    "# sort by length of author's name\n",
    "pdf_prenet['length_auth'] = pdf_prenet['author'].apply(len)\n",
    "pdf_prenet.sort_values(by = 'length_auth', ascending=True, inplace=True)\n",
    "pdf_prenet.reset_index(drop=True, inplace=True)"
   ]
  },
  {
   "cell_type": "code",
   "execution_count": 15,
   "metadata": {},
   "outputs": [
    {
     "name": "stdout",
     "output_type": "stream",
     "text": [
      "Data size: (249297, 3)\n"
     ]
    },
    {
     "data": {
      "text/html": [
       "<div>\n",
       "<style scoped>\n",
       "    .dataframe tbody tr th:only-of-type {\n",
       "        vertical-align: middle;\n",
       "    }\n",
       "\n",
       "    .dataframe tbody tr th {\n",
       "        vertical-align: top;\n",
       "    }\n",
       "\n",
       "    .dataframe thead th {\n",
       "        text-align: right;\n",
       "    }\n",
       "</style>\n",
       "<table border=\"1\" class=\"dataframe\">\n",
       "  <thead>\n",
       "    <tr style=\"text-align: right;\">\n",
       "      <th></th>\n",
       "      <th>arXiv_id</th>\n",
       "      <th>author</th>\n",
       "      <th>length_auth</th>\n",
       "    </tr>\n",
       "  </thead>\n",
       "  <tbody>\n",
       "    <tr>\n",
       "      <th>0</th>\n",
       "      <td>1901.06061</td>\n",
       "      <td>y</td>\n",
       "      <td>1</td>\n",
       "    </tr>\n",
       "    <tr>\n",
       "      <th>1</th>\n",
       "      <td>1703.08451</td>\n",
       "      <td>.</td>\n",
       "      <td>1</td>\n",
       "    </tr>\n",
       "    <tr>\n",
       "      <th>2</th>\n",
       "      <td>1901.11322</td>\n",
       "      <td>.</td>\n",
       "      <td>1</td>\n",
       "    </tr>\n",
       "    <tr>\n",
       "      <th>3</th>\n",
       "      <td>1909.11692</td>\n",
       "      <td>Q</td>\n",
       "      <td>1</td>\n",
       "    </tr>\n",
       "    <tr>\n",
       "      <th>4</th>\n",
       "      <td>1909.06555</td>\n",
       "      <td>W.</td>\n",
       "      <td>2</td>\n",
       "    </tr>\n",
       "    <tr>\n",
       "      <th>5</th>\n",
       "      <td>1704.08270</td>\n",
       "      <td>Xu</td>\n",
       "      <td>2</td>\n",
       "    </tr>\n",
       "    <tr>\n",
       "      <th>6</th>\n",
       "      <td>1901.10105</td>\n",
       "      <td>Xia</td>\n",
       "      <td>3</td>\n",
       "    </tr>\n",
       "    <tr>\n",
       "      <th>7</th>\n",
       "      <td>1601.04103</td>\n",
       "      <td>Xia</td>\n",
       "      <td>3</td>\n",
       "    </tr>\n",
       "    <tr>\n",
       "      <th>8</th>\n",
       "      <td>1802.08152</td>\n",
       "      <td>Luo</td>\n",
       "      <td>3</td>\n",
       "    </tr>\n",
       "    <tr>\n",
       "      <th>9</th>\n",
       "      <td>1711.00869</td>\n",
       "      <td>Lee</td>\n",
       "      <td>3</td>\n",
       "    </tr>\n",
       "  </tbody>\n",
       "</table>\n",
       "</div>"
      ],
      "text/plain": [
       "     arXiv_id author  length_auth\n",
       "0  1901.06061      y            1\n",
       "1  1703.08451      .            1\n",
       "2  1901.11322      .            1\n",
       "3  1909.11692      Q            1\n",
       "4  1909.06555     W.            2\n",
       "5  1704.08270     Xu            2\n",
       "6  1901.10105    Xia            3\n",
       "7  1601.04103    Xia            3\n",
       "8  1802.08152    Luo            3\n",
       "9  1711.00869    Lee            3"
      ]
     },
     "execution_count": 15,
     "metadata": {},
     "output_type": "execute_result"
    }
   ],
   "source": [
    "print(\"Data size:\", pdf_prenet.shape)\n",
    "pdf_prenet.head(10)"
   ]
  },
  {
   "cell_type": "code",
   "execution_count": 17,
   "metadata": {},
   "outputs": [
    {
     "data": {
      "text/html": [
       "<div>\n",
       "<style scoped>\n",
       "    .dataframe tbody tr th:only-of-type {\n",
       "        vertical-align: middle;\n",
       "    }\n",
       "\n",
       "    .dataframe tbody tr th {\n",
       "        vertical-align: top;\n",
       "    }\n",
       "\n",
       "    .dataframe thead th {\n",
       "        text-align: right;\n",
       "    }\n",
       "</style>\n",
       "<table border=\"1\" class=\"dataframe\">\n",
       "  <thead>\n",
       "    <tr style=\"text-align: right;\">\n",
       "      <th></th>\n",
       "      <th>arXiv_id</th>\n",
       "      <th>author</th>\n",
       "      <th>length_auth</th>\n",
       "    </tr>\n",
       "  </thead>\n",
       "  <tbody>\n",
       "    <tr>\n",
       "      <th>249287</th>\n",
       "      <td>1705.08216</td>\n",
       "      <td>StattAntoniaInstitut für Physik, Johannes Gute...</td>\n",
       "      <td>275</td>\n",
       "    </tr>\n",
       "    <tr>\n",
       "      <th>249288</th>\n",
       "      <td>1804.08427</td>\n",
       "      <td>WehlingT. O.Institut für Theoretische Physik, ...</td>\n",
       "      <td>280</td>\n",
       "    </tr>\n",
       "    <tr>\n",
       "      <th>249289</th>\n",
       "      <td>cond-mat/0605674</td>\n",
       "      <td>LazaridesN.Department of Physics, University o...</td>\n",
       "      <td>281</td>\n",
       "    </tr>\n",
       "    <tr>\n",
       "      <th>249290</th>\n",
       "      <td>1807.07206</td>\n",
       "      <td>RabaniEranDepartment of Chemistry, University ...</td>\n",
       "      <td>285</td>\n",
       "    </tr>\n",
       "    <tr>\n",
       "      <th>249291</th>\n",
       "      <td>1901.00739</td>\n",
       "      <td>DyachkovS. A.Dukhov Research Institute of Auto...</td>\n",
       "      <td>291</td>\n",
       "    </tr>\n",
       "    <tr>\n",
       "      <th>249292</th>\n",
       "      <td>1802.08440</td>\n",
       "      <td>JohanssonBörjeDepartment of Materials Science ...</td>\n",
       "      <td>294</td>\n",
       "    </tr>\n",
       "    <tr>\n",
       "      <th>249293</th>\n",
       "      <td>cond-mat/0605674</td>\n",
       "      <td>EleftheriouM.Department of Physics, University...</td>\n",
       "      <td>302</td>\n",
       "    </tr>\n",
       "    <tr>\n",
       "      <th>249294</th>\n",
       "      <td>1712.01738</td>\n",
       "      <td>SchubertMathiasTerahertz Materials Analysis Ce...</td>\n",
       "      <td>319</td>\n",
       "    </tr>\n",
       "    <tr>\n",
       "      <th>249295</th>\n",
       "      <td>1801.01960</td>\n",
       "      <td>PanNanHefei National Laboratory for Physical S...</td>\n",
       "      <td>398</td>\n",
       "    </tr>\n",
       "    <tr>\n",
       "      <th>249296</th>\n",
       "      <td>1801.01960</td>\n",
       "      <td>WangXiaopingHefei National Laboratory for Phys...</td>\n",
       "      <td>404</td>\n",
       "    </tr>\n",
       "  </tbody>\n",
       "</table>\n",
       "</div>"
      ],
      "text/plain": [
       "                arXiv_id                                             author  \\\n",
       "249287        1705.08216  StattAntoniaInstitut für Physik, Johannes Gute...   \n",
       "249288        1804.08427  WehlingT. O.Institut für Theoretische Physik, ...   \n",
       "249289  cond-mat/0605674  LazaridesN.Department of Physics, University o...   \n",
       "249290        1807.07206  RabaniEranDepartment of Chemistry, University ...   \n",
       "249291        1901.00739  DyachkovS. A.Dukhov Research Institute of Auto...   \n",
       "249292        1802.08440  JohanssonBörjeDepartment of Materials Science ...   \n",
       "249293  cond-mat/0605674  EleftheriouM.Department of Physics, University...   \n",
       "249294        1712.01738  SchubertMathiasTerahertz Materials Analysis Ce...   \n",
       "249295        1801.01960  PanNanHefei National Laboratory for Physical S...   \n",
       "249296        1801.01960  WangXiaopingHefei National Laboratory for Phys...   \n",
       "\n",
       "        length_auth  \n",
       "249287          275  \n",
       "249288          280  \n",
       "249289          281  \n",
       "249290          285  \n",
       "249291          291  \n",
       "249292          294  \n",
       "249293          302  \n",
       "249294          319  \n",
       "249295          398  \n",
       "249296          404  "
      ]
     },
     "execution_count": 17,
     "metadata": {},
     "output_type": "execute_result"
    }
   ],
   "source": [
    "pdf_prenet.tail(10)"
   ]
  },
  {
   "cell_type": "markdown",
   "metadata": {},
   "source": [
    "## Text preprocessing\n",
    "\n",
    "The edge list dataframe suggests further cleaning as some authors' names appear with the corresponding affiliation institutions, while others names are just numbers, special characters, and punctuations. The following preprocessing steps will be performed on the edge list dataframe:\n",
    "\n",
    "- Remove author's name with length = 1.\n",
    "- Split authors' names at white space followed by period puntuation mark.\n",
    "- Identify other words to split on, such as Department, University, etc.\n",
    "- Remove special characters and punctuations from author's name.\n",
    "- Identify the same author with two or more different names and normalize the names."
   ]
  },
  {
   "cell_type": "code",
   "execution_count": 22,
   "metadata": {},
   "outputs": [],
   "source": [
    "df_pre = pdf_prenet.copy()"
   ]
  },
  {
   "cell_type": "code",
   "execution_count": 23,
   "metadata": {},
   "outputs": [
    {
     "data": {
      "text/html": [
       "<div>\n",
       "<style scoped>\n",
       "    .dataframe tbody tr th:only-of-type {\n",
       "        vertical-align: middle;\n",
       "    }\n",
       "\n",
       "    .dataframe tbody tr th {\n",
       "        vertical-align: top;\n",
       "    }\n",
       "\n",
       "    .dataframe thead th {\n",
       "        text-align: right;\n",
       "    }\n",
       "</style>\n",
       "<table border=\"1\" class=\"dataframe\">\n",
       "  <thead>\n",
       "    <tr style=\"text-align: right;\">\n",
       "      <th></th>\n",
       "      <th>arXiv_id</th>\n",
       "      <th>author</th>\n",
       "      <th>length_auth</th>\n",
       "    </tr>\n",
       "  </thead>\n",
       "  <tbody>\n",
       "    <tr>\n",
       "      <th>4</th>\n",
       "      <td>1909.06555</td>\n",
       "      <td>W.</td>\n",
       "      <td>2</td>\n",
       "    </tr>\n",
       "    <tr>\n",
       "      <th>5</th>\n",
       "      <td>1704.08270</td>\n",
       "      <td>Xu</td>\n",
       "      <td>2</td>\n",
       "    </tr>\n",
       "    <tr>\n",
       "      <th>6</th>\n",
       "      <td>1901.10105</td>\n",
       "      <td>Xia</td>\n",
       "      <td>3</td>\n",
       "    </tr>\n",
       "    <tr>\n",
       "      <th>7</th>\n",
       "      <td>1601.04103</td>\n",
       "      <td>Xia</td>\n",
       "      <td>3</td>\n",
       "    </tr>\n",
       "    <tr>\n",
       "      <th>8</th>\n",
       "      <td>1802.08152</td>\n",
       "      <td>Luo</td>\n",
       "      <td>3</td>\n",
       "    </tr>\n",
       "  </tbody>\n",
       "</table>\n",
       "</div>"
      ],
      "text/plain": [
       "     arXiv_id author  length_auth\n",
       "4  1909.06555     W.            2\n",
       "5  1704.08270     Xu            2\n",
       "6  1901.10105    Xia            3\n",
       "7  1601.04103    Xia            3\n",
       "8  1802.08152    Luo            3"
      ]
     },
     "execution_count": 23,
     "metadata": {},
     "output_type": "execute_result"
    }
   ],
   "source": [
    "# filter out author's name with length > 1\n",
    "df_pre = df_pre.copy()[df_pre.length_auth > 1]\n",
    "df_pre.head()"
   ]
  },
  {
   "cell_type": "code",
   "execution_count": 75,
   "metadata": {},
   "outputs": [
    {
     "data": {
      "text/html": [
       "<div>\n",
       "<style scoped>\n",
       "    .dataframe tbody tr th:only-of-type {\n",
       "        vertical-align: middle;\n",
       "    }\n",
       "\n",
       "    .dataframe tbody tr th {\n",
       "        vertical-align: top;\n",
       "    }\n",
       "\n",
       "    .dataframe thead th {\n",
       "        text-align: right;\n",
       "    }\n",
       "</style>\n",
       "<table border=\"1\" class=\"dataframe\">\n",
       "  <thead>\n",
       "    <tr style=\"text-align: right;\">\n",
       "      <th></th>\n",
       "      <th>arXiv_id</th>\n",
       "      <th>author</th>\n",
       "      <th>length_auth</th>\n",
       "    </tr>\n",
       "  </thead>\n",
       "  <tbody>\n",
       "    <tr>\n",
       "      <th>249283</th>\n",
       "      <td>1705.06117</td>\n",
       "      <td>BergerHelmuthEcole Polytechnique Fédérale de L...</td>\n",
       "      <td>82</td>\n",
       "    </tr>\n",
       "    <tr>\n",
       "      <th>249284</th>\n",
       "      <td>1909.12290</td>\n",
       "      <td>GallmeyerThomas G.Alliance for the Development...</td>\n",
       "      <td>82</td>\n",
       "    </tr>\n",
       "    <tr>\n",
       "      <th>249285</th>\n",
       "      <td>1906.07641</td>\n",
       "      <td>FerraraEnzoDivisione di Metrologia dei Materia...</td>\n",
       "      <td>82</td>\n",
       "    </tr>\n",
       "    <tr>\n",
       "      <th>249286</th>\n",
       "      <td>1807.04273</td>\n",
       "      <td>KolenderskiPiotrFaculty of Physics, Astronomy ...</td>\n",
       "      <td>83</td>\n",
       "    </tr>\n",
       "    <tr>\n",
       "      <th>249287</th>\n",
       "      <td>1906.07641</td>\n",
       "      <td>CoïssonMarcoDivisione di Metrologia dei Materi...</td>\n",
       "      <td>83</td>\n",
       "    </tr>\n",
       "    <tr>\n",
       "      <th>249288</th>\n",
       "      <td>1612.06301</td>\n",
       "      <td>LecouturierF.Laboratoire National des Champs M...</td>\n",
       "      <td>83</td>\n",
       "    </tr>\n",
       "    <tr>\n",
       "      <th>249289</th>\n",
       "      <td>1705.06165</td>\n",
       "      <td>GhiringhelliG.Dip. di Fisica - Politecnico di ...</td>\n",
       "      <td>83</td>\n",
       "    </tr>\n",
       "    <tr>\n",
       "      <th>249290</th>\n",
       "      <td>1705.06165</td>\n",
       "      <td>De LucaG. M.Dip. di Fisica - U. di Napoli Fede...</td>\n",
       "      <td>84</td>\n",
       "    </tr>\n",
       "    <tr>\n",
       "      <th>249291</th>\n",
       "      <td>cond-mat/0608084</td>\n",
       "      <td>BertrandDamienCP3, UCL, Louvain-la-Neuve, Belg...</td>\n",
       "      <td>84</td>\n",
       "    </tr>\n",
       "    <tr>\n",
       "      <th>249292</th>\n",
       "      <td>1909.12290</td>\n",
       "      <td>MoorthySenthamilaruviAlliance for the Developm...</td>\n",
       "      <td>85</td>\n",
       "    </tr>\n",
       "  </tbody>\n",
       "</table>\n",
       "</div>"
      ],
      "text/plain": [
       "                arXiv_id                                             author  \\\n",
       "249283        1705.06117  BergerHelmuthEcole Polytechnique Fédérale de L...   \n",
       "249284        1909.12290  GallmeyerThomas G.Alliance for the Development...   \n",
       "249285        1906.07641  FerraraEnzoDivisione di Metrologia dei Materia...   \n",
       "249286        1807.04273  KolenderskiPiotrFaculty of Physics, Astronomy ...   \n",
       "249287        1906.07641  CoïssonMarcoDivisione di Metrologia dei Materi...   \n",
       "249288        1612.06301  LecouturierF.Laboratoire National des Champs M...   \n",
       "249289        1705.06165  GhiringhelliG.Dip. di Fisica - Politecnico di ...   \n",
       "249290        1705.06165  De LucaG. M.Dip. di Fisica - U. di Napoli Fede...   \n",
       "249291  cond-mat/0608084  BertrandDamienCP3, UCL, Louvain-la-Neuve, Belg...   \n",
       "249292        1909.12290  MoorthySenthamilaruviAlliance for the Developm...   \n",
       "\n",
       "        length_auth  \n",
       "249283           82  \n",
       "249284           82  \n",
       "249285           82  \n",
       "249286           83  \n",
       "249287           83  \n",
       "249288           83  \n",
       "249289           83  \n",
       "249290           84  \n",
       "249291           84  \n",
       "249292           85  "
      ]
     },
     "execution_count": 75,
     "metadata": {},
     "output_type": "execute_result"
    }
   ],
   "source": [
    "df_pre['length_auth'] = df_pre['author'].apply(len)\n",
    "df_pre.sort_values(by = 'length_auth', ascending=True, inplace=True)\n",
    "df_pre.reset_index(drop=True, inplace=True)\n",
    "df_pre.tail(10)"
   ]
  },
  {
   "cell_type": "code",
   "execution_count": 76,
   "metadata": {},
   "outputs": [],
   "source": [
    "# splitting is done by manually selecting different strings to split Thailand \n",
    "df_pre.author = df_pre.author.apply(text_tf.split_extract, args=(\"1909.12290\",))"
   ]
  },
  {
   "cell_type": "code",
   "execution_count": 169,
   "metadata": {},
   "outputs": [
    {
     "name": "stdout",
     "output_type": "stream",
     "text": [
      "Data size: (1148170, 5)\n"
     ]
    },
    {
     "data": {
      "text/html": [
       "<div>\n",
       "<style scoped>\n",
       "    .dataframe tbody tr th:only-of-type {\n",
       "        vertical-align: middle;\n",
       "    }\n",
       "\n",
       "    .dataframe tbody tr th {\n",
       "        vertical-align: top;\n",
       "    }\n",
       "\n",
       "    .dataframe thead th {\n",
       "        text-align: right;\n",
       "    }\n",
       "</style>\n",
       "<table border=\"1\" class=\"dataframe\">\n",
       "  <thead>\n",
       "    <tr style=\"text-align: right;\">\n",
       "      <th></th>\n",
       "      <th>arXiv_id</th>\n",
       "      <th>author</th>\n",
       "      <th>rsp</th>\n",
       "      <th>year</th>\n",
       "      <th>length_auth</th>\n",
       "    </tr>\n",
       "  </thead>\n",
       "  <tbody>\n",
       "    <tr>\n",
       "      <th>1118796</th>\n",
       "      <td>2003.05713</td>\n",
       "      <td>Caroca-CanalesNubia</td>\n",
       "      <td>1</td>\n",
       "      <td>2020</td>\n",
       "      <td>19</td>\n",
       "    </tr>\n",
       "    <tr>\n",
       "      <th>1118797</th>\n",
       "      <td>802.4419</td>\n",
       "      <td>MunarrizJavierBIFI-</td>\n",
       "      <td>1</td>\n",
       "      <td>2008</td>\n",
       "      <td>19</td>\n",
       "    </tr>\n",
       "    <tr>\n",
       "      <th>1118798</th>\n",
       "      <td>1211.7265</td>\n",
       "      <td>WeidemüllerMatthias</td>\n",
       "      <td>1</td>\n",
       "      <td>2012</td>\n",
       "      <td>19</td>\n",
       "    </tr>\n",
       "    <tr>\n",
       "      <th>1118799</th>\n",
       "      <td>2006.12181</td>\n",
       "      <td>RadenovicAleksandra</td>\n",
       "      <td>1</td>\n",
       "      <td>2020</td>\n",
       "      <td>19</td>\n",
       "    </tr>\n",
       "    <tr>\n",
       "      <th>1118800</th>\n",
       "      <td>904.0659</td>\n",
       "      <td>KulakowskiKrzysztof</td>\n",
       "      <td>1</td>\n",
       "      <td>2009</td>\n",
       "      <td>19</td>\n",
       "    </tr>\n",
       "  </tbody>\n",
       "</table>\n",
       "</div>"
      ],
      "text/plain": [
       "           arXiv_id               author  rsp  year  length_auth\n",
       "1118796  2003.05713  Caroca-CanalesNubia    1  2020           19\n",
       "1118797    802.4419  MunarrizJavierBIFI-    1  2008           19\n",
       "1118798   1211.7265  WeidemüllerMatthias    1  2012           19\n",
       "1118799  2006.12181  RadenovicAleksandra    1  2020           19\n",
       "1118800    904.0659  KulakowskiKrzysztof    1  2009           19"
      ]
     },
     "execution_count": 169,
     "metadata": {},
     "output_type": "execute_result"
    }
   ],
   "source": [
    "# select authors with 2 < length < 20\n",
    "df_pre = df_pre[(df_pre.length_auth>2)&(df_pre.length_auth<20)]\n",
    "print(\"Data size:\", pdf_prenet.shape)\n",
    "df_pre.tail()"
   ]
  },
  {
   "cell_type": "code",
   "execution_count": 170,
   "metadata": {},
   "outputs": [],
   "source": [
    "# save as csv\n",
    "df_pre.to_csv('../data/in_progress.csv', sep = '\\t', index = False)"
   ]
  },
  {
   "cell_type": "code",
   "execution_count": 171,
   "metadata": {
    "tags": []
   },
   "outputs": [],
   "source": [
    "# df_pre.author = df_prepro.author.apply(text_tf.tokenizer)"
   ]
  },
  {
   "cell_type": "code",
   "execution_count": 172,
   "metadata": {},
   "outputs": [],
   "source": [
    "# df_pre[df_prepro.author == 'SankaranarayananS. K. R. S.']\n",
    "# df_pre.author.replace({\n",
    "# 'SankaranarayananS. K. R. S.':'SankaranarayananSubramanian K. R. S.'\n",
    "# },\n",
    "# inplace = True\n",
    "# )"
   ]
  },
  {
   "cell_type": "code",
   "execution_count": 173,
   "metadata": {},
   "outputs": [],
   "source": [
    "# create Spark dataframe\n",
    "sdf = spark.createDataFrame(df_pre)\n",
    "sdf.createOrReplaceTempView('edge_list')"
   ]
  },
  {
   "cell_type": "code",
   "execution_count": 174,
   "metadata": {},
   "outputs": [
    {
     "name": "stdout",
     "output_type": "stream",
     "text": [
      "+--------------+\n",
      "|        author|\n",
      "+--------------+\n",
      "|    LossDaniel|\n",
      "|LossDanielUniv|\n",
      "|   LossDanielU|\n",
      "|         LossM|\n",
      "| LossDanielIBM|\n",
      "|   LossMichael|\n",
      "+--------------+\n",
      "\n"
     ]
    }
   ],
   "source": [
    "spark.sql(\n",
    "    \"\"\"select distinct author \n",
    "    from edge_list \n",
    "    where author like 'Loss%' \n",
    "    \"\"\"\n",
    "    ).show(50)"
   ]
  },
  {
   "cell_type": "code",
   "execution_count": 175,
   "metadata": {},
   "outputs": [],
   "source": [
    "# Author's name normalization\n",
    "auth_dict = {\n",
    "    'WatanabeK':'WatanabeKenji', \n",
    "    'TaniguchiT': 'TaniguchiTakashi', \n",
    "    'LossD':'LossDaniel', \n",
    "    'LossDanielBasel':'LossDaniel',\n",
    "    'LossDanielBasel,':'LossDaniel', \n",
    "    'LossDanielUniv,':'LossDaniel',\n",
    "    'LossDanielU,':'LossDaniel', \n",
    "    'LossDanielIBM,':'LossDaniel', \n",
    "    'OwerreSolomon A': 'OwerreS A', \n",
    "    'OwerreSolomon Akaraka': 'OwerreS A',\n",
    "     'BiWenli': 'BiW',\n",
    "    'DasSarmaS': 'SarmaS Das',\n",
    "    }\n",
    "df_pre.author.replace(auth_dict, inplace=True)"
   ]
  },
  {
   "cell_type": "code",
   "execution_count": 176,
   "metadata": {},
   "outputs": [],
   "source": [
    "# save as csv\n",
    "df_pre.to_csv('../data/net_data.csv', sep='\\t', index=False)"
   ]
  },
  {
   "cell_type": "code",
   "execution_count": null,
   "metadata": {},
   "outputs": [],
   "source": []
  }
 ],
 "metadata": {
  "kernelspec": {
   "display_name": "Python 3",
   "language": "python",
   "name": "python3"
  },
  "language_info": {
   "codemirror_mode": {
    "name": "ipython",
    "version": 3
   },
   "file_extension": ".py",
   "mimetype": "text/x-python",
   "name": "python",
   "nbconvert_exporter": "python",
   "pygments_lexer": "ipython3",
   "version": "3.9.4"
  },
  "metadata": {
   "interpreter": {
    "hash": "aee8b7b246df8f9039afb4144a1f6fd8d2ca17a180786b69acc140d282b71a49"
   }
  },
  "vscode": {
   "interpreter": {
    "hash": "aee8b7b246df8f9039afb4144a1f6fd8d2ca17a180786b69acc140d282b71a49"
   }
  }
 },
 "nbformat": 4,
 "nbformat_minor": 4
}
