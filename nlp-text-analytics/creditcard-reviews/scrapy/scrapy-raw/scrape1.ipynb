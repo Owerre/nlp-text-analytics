{
 "cells": [
  {
   "cell_type": "code",
   "execution_count": 15,
   "metadata": {},
   "outputs": [],
   "source": [
    "import requests\n",
    "from bs4 import BeautifulSoup\n",
    "import pandas as pd\n",
    "import json\n",
    "import sys"
   ]
  },
  {
   "cell_type": "code",
   "execution_count": 131,
   "metadata": {},
   "outputs": [],
   "source": [
    "# From: https://gist.github.com/vladignatyev/06860ec2040cb497f0f3\n",
    "def progress(count, total, status=''):\n",
    "    \"\"\"Displays an inline progress bar\"\"\"\n",
    "    bar_len = 60\n",
    "    filled_len = int(round(bar_len * count / float(total)))\n",
    "\n",
    "    percents = round(100.0 * count / float(total), 1)\n",
    "    bar = '=' * filled_len + '-' * (bar_len - filled_len)\n",
    "\n",
    "    sys.stdout.write('[%s] %s%s ...%s\\r' % (bar, percents, '%', status))\n",
    "    sys.stdout.flush()"
   ]
  },
  {
   "cell_type": "code",
   "execution_count": 132,
   "metadata": {},
   "outputs": [],
   "source": [
    "def make_soup(start_url):\n",
    "    \"\"\"Make a request and parse with BeautifulSoup\"\"\"\n",
    "    try:\n",
    "        html = requests.get(start_url).text\n",
    "    except HTTPError as e:\n",
    "        if e.code == 503:\n",
    "            to = int(e.hdrs.get(\"retry-after\", 30))\n",
    "            print(\"Got 503. Retrying after {0:d} seconds.\".format(to))\n",
    "            time.sleep(to)\n",
    "            #continue\n",
    "        else:\n",
    "            raise\n",
    "    bs = BeautifulSoup(html, 'lxml')\n",
    "    return bs"
   ]
  },
  {
   "cell_type": "code",
   "execution_count": 169,
   "metadata": {},
   "outputs": [],
   "source": [
    "def get_links(start_url):\n",
    "    \"\"\"Fetch all the links to the next page\"\"\"\n",
    "    count = 0\n",
    "    links =[start_url]\n",
    "    soup = make_soup(start_url)\n",
    "    all_links = soup.find('div', class_=\"pagination\" ).find_all('a')\n",
    "    total = len(all_links)\n",
    "    for link in all_links:\n",
    "        if link:\n",
    "            links.append('https://wallethub.com/'+link['href'])\n",
    "        progress(count, total - 1, \"Fetching links\")\n",
    "        count += 1\n",
    "    return links"
   ]
  },
  {
   "cell_type": "code",
   "execution_count": 170,
   "metadata": {},
   "outputs": [
    {
     "data": {
      "text/plain": [
       "['https://wallethub.com/d/indigo-platinum-mastercard-2294c/?r=1',\n",
       " 'https://wallethub.com//d/indigo-platinum-mastercard-2294c/?p=2#reviews']"
      ]
     },
     "execution_count": 170,
     "metadata": {},
     "output_type": "execute_result"
    }
   ],
   "source": [
    "get_links('https://wallethub.com/d/indigo-platinum-mastercard-2294c/?r=1')"
   ]
  },
  {
   "cell_type": "code",
   "execution_count": 171,
   "metadata": {},
   "outputs": [],
   "source": [
    "def get_data(start_url):\n",
    "    \"\"\"Fetch the data from each link\"\"\"\n",
    "    links = get_links(start_url)\n",
    "    count = 0\n",
    "    #total = len(links)\n",
    "    content = []\n",
    "    rating = []\n",
    "    \n",
    "    for link in links:\n",
    "            soup = make_soup(link)\n",
    "            progress(count, total - 1, \"Fetching data\")\n",
    "            count += 1\n",
    "            for review in soup.find_all('div', class_=\"content\", itemprop=\"description\"):\n",
    "                content.append(review.text.strip('\\n'))\n",
    "            for rate in soup.find_all('meta', itemprop=\"ratingValue\"):\n",
    "                if rate['content'] != \"3.6\":\n",
    "                    rating.append(rate['content'])\n",
    "                \n",
    "    review_dict = {'review':content}\n",
    "    rating_dict = {'rating':rating}\n",
    "    \n",
    "    with open('review38.json', 'a') as f:\n",
    "        json.dump(review_dict,f)\n",
    "    with open('rating38.json', 'a') as f:\n",
    "        json.dump(rating_dict,f)"
   ]
  },
  {
   "cell_type": "code",
   "execution_count": 172,
   "metadata": {},
   "outputs": [],
   "source": [
    "df = get_data('https://wallethub.com/d/indigo-platinum-mastercard-2294c/?r=1')"
   ]
  },
  {
   "cell_type": "code",
   "execution_count": 173,
   "metadata": {},
   "outputs": [
    {
     "data": {
      "text/html": [
       "<div>\n",
       "<style scoped>\n",
       "    .dataframe tbody tr th:only-of-type {\n",
       "        vertical-align: middle;\n",
       "    }\n",
       "\n",
       "    .dataframe tbody tr th {\n",
       "        vertical-align: top;\n",
       "    }\n",
       "\n",
       "    .dataframe thead th {\n",
       "        text-align: right;\n",
       "    }\n",
       "</style>\n",
       "<table border=\"1\" class=\"dataframe\">\n",
       "  <thead>\n",
       "    <tr style=\"text-align: right;\">\n",
       "      <th></th>\n",
       "      <th>review</th>\n",
       "    </tr>\n",
       "  </thead>\n",
       "  <tbody>\n",
       "    <tr>\n",
       "      <th>47</th>\n",
       "      <td>THIS IS THE WORST CREDIT CARD I HAVE EVER HAD....</td>\n",
       "    </tr>\n",
       "    <tr>\n",
       "      <th>48</th>\n",
       "      <td>Horrible service with this card. It takes a pa...</td>\n",
       "    </tr>\n",
       "    <tr>\n",
       "      <th>49</th>\n",
       "      <td>Not a good card for rebuilding your credit</td>\n",
       "    </tr>\n",
       "    <tr>\n",
       "      <th>50</th>\n",
       "      <td>Applied for this card multiple times and never...</td>\n",
       "    </tr>\n",
       "    <tr>\n",
       "      <th>51</th>\n",
       "      <td>This card is supposed to be for bad credit, bu...</td>\n",
       "    </tr>\n",
       "  </tbody>\n",
       "</table>\n",
       "</div>"
      ],
      "text/plain": [
       "                                               review\n",
       "47  THIS IS THE WORST CREDIT CARD I HAVE EVER HAD....\n",
       "48  Horrible service with this card. It takes a pa...\n",
       "49         Not a good card for rebuilding your credit\n",
       "50  Applied for this card multiple times and never...\n",
       "51  This card is supposed to be for bad credit, bu..."
      ]
     },
     "execution_count": 173,
     "metadata": {},
     "output_type": "execute_result"
    }
   ],
   "source": [
    "df = pd.read_json('review38.json')\n",
    "df.tail()"
   ]
  },
  {
   "cell_type": "code",
   "execution_count": 174,
   "metadata": {},
   "outputs": [
    {
     "data": {
      "text/html": [
       "<div>\n",
       "<style scoped>\n",
       "    .dataframe tbody tr th:only-of-type {\n",
       "        vertical-align: middle;\n",
       "    }\n",
       "\n",
       "    .dataframe tbody tr th {\n",
       "        vertical-align: top;\n",
       "    }\n",
       "\n",
       "    .dataframe thead th {\n",
       "        text-align: right;\n",
       "    }\n",
       "</style>\n",
       "<table border=\"1\" class=\"dataframe\">\n",
       "  <thead>\n",
       "    <tr style=\"text-align: right;\">\n",
       "      <th></th>\n",
       "      <th>rating</th>\n",
       "    </tr>\n",
       "  </thead>\n",
       "  <tbody>\n",
       "    <tr>\n",
       "      <th>49</th>\n",
       "      <td>1.0</td>\n",
       "    </tr>\n",
       "    <tr>\n",
       "      <th>50</th>\n",
       "      <td>1.0</td>\n",
       "    </tr>\n",
       "    <tr>\n",
       "      <th>51</th>\n",
       "      <td>1.0</td>\n",
       "    </tr>\n",
       "    <tr>\n",
       "      <th>52</th>\n",
       "      <td>1.0</td>\n",
       "    </tr>\n",
       "    <tr>\n",
       "      <th>53</th>\n",
       "      <td>1.0</td>\n",
       "    </tr>\n",
       "  </tbody>\n",
       "</table>\n",
       "</div>"
      ],
      "text/plain": [
       "    rating\n",
       "49     1.0\n",
       "50     1.0\n",
       "51     1.0\n",
       "52     1.0\n",
       "53     1.0"
      ]
     },
     "execution_count": 174,
     "metadata": {},
     "output_type": "execute_result"
    }
   ],
   "source": [
    "df = pd.read_json('rating38.json')\n",
    "df.tail()"
   ]
  },
  {
   "cell_type": "code",
   "execution_count": null,
   "metadata": {},
   "outputs": [],
   "source": []
  }
 ],
 "metadata": {
  "kernelspec": {
   "display_name": "Python 3",
   "language": "python",
   "name": "python3"
  },
  "language_info": {
   "codemirror_mode": {
    "name": "ipython",
    "version": 3
   },
   "file_extension": ".py",
   "mimetype": "text/x-python",
   "name": "python",
   "nbconvert_exporter": "python",
   "pygments_lexer": "ipython3",
   "version": "3.7.3"
  }
 },
 "nbformat": 4,
 "nbformat_minor": 2
}
