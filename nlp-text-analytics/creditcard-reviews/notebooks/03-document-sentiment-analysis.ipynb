{
 "cells": [
  {
   "cell_type": "markdown",
   "metadata": {},
   "source": [
    "# Document-Level Sentiment Analysis\n",
    "This notebook shows the sentiment analysis at the document level using Vader and TextBlob"
   ]
  },
  {
   "cell_type": "code",
   "execution_count": 9,
   "metadata": {},
   "outputs": [],
   "source": [
    "%matplotlib inline\n",
    "\n",
    "# Data manipulation \n",
    "import pandas as pd\n",
    "import numpy as np\n",
    "\n",
    "# Data visualization \n",
    "import matplotlib.pyplot as plt\n",
    "import seaborn as sns\n",
    "plt.rcParams.update({'font.size': 16})"
   ]
  },
  {
   "cell_type": "code",
   "execution_count": 10,
   "metadata": {},
   "outputs": [],
   "source": [
    "# import custom class\n",
    "%run -i '../src/_text_analysis.py'"
   ]
  },
  {
   "cell_type": "code",
   "execution_count": 11,
   "metadata": {},
   "outputs": [],
   "source": [
    "# instantiate the class\n",
    "model = TextAnalytics()"
   ]
  },
  {
   "cell_type": "markdown",
   "metadata": {},
   "source": [
    "## Load data"
   ]
  },
  {
   "cell_type": "code",
   "execution_count": 4,
   "metadata": {},
   "outputs": [
    {
     "name": "stdout",
     "output_type": "stream",
     "text": [
      "Data size = (25708, 3)\n"
     ]
    },
    {
     "data": {
      "text/html": [
       "<div>\n",
       "<style scoped>\n",
       "    .dataframe tbody tr th:only-of-type {\n",
       "        vertical-align: middle;\n",
       "    }\n",
       "\n",
       "    .dataframe tbody tr th {\n",
       "        vertical-align: top;\n",
       "    }\n",
       "\n",
       "    .dataframe thead th {\n",
       "        text-align: right;\n",
       "    }\n",
       "</style>\n",
       "<table border=\"1\" class=\"dataframe\">\n",
       "  <thead>\n",
       "    <tr style=\"text-align: right;\">\n",
       "      <th></th>\n",
       "      <th>reviews</th>\n",
       "      <th>rating</th>\n",
       "      <th>company</th>\n",
       "    </tr>\n",
       "  </thead>\n",
       "  <tbody>\n",
       "    <tr>\n",
       "      <th>0</th>\n",
       "      <td>Great card! We get cash back for our grocery a...</td>\n",
       "      <td>4.0</td>\n",
       "      <td>American Express Blue Cash Preferred</td>\n",
       "    </tr>\n",
       "    <tr>\n",
       "      <th>1</th>\n",
       "      <td>While traveling we had to keep calling the Cre...</td>\n",
       "      <td>1.0</td>\n",
       "      <td>Credit One Bank</td>\n",
       "    </tr>\n",
       "    <tr>\n",
       "      <th>2</th>\n",
       "      <td>Great card to have! Love all the additional cr...</td>\n",
       "      <td>5.0</td>\n",
       "      <td>Capital One Quicksilver Rewards</td>\n",
       "    </tr>\n",
       "    <tr>\n",
       "      <th>3</th>\n",
       "      <td>no tengo tanta experiencia asi que no puedo da...</td>\n",
       "      <td>2.0</td>\n",
       "      <td>Citi Double Cash Card</td>\n",
       "    </tr>\n",
       "    <tr>\n",
       "      <th>4</th>\n",
       "      <td>This is a basic credit card. The cash back dea...</td>\n",
       "      <td>4.0</td>\n",
       "      <td>Bank of America Cash Rewards Credit Card</td>\n",
       "    </tr>\n",
       "  </tbody>\n",
       "</table>\n",
       "</div>"
      ],
      "text/plain": [
       "                                             reviews  rating  \\\n",
       "0  Great card! We get cash back for our grocery a...     4.0   \n",
       "1  While traveling we had to keep calling the Cre...     1.0   \n",
       "2  Great card to have! Love all the additional cr...     5.0   \n",
       "3  no tengo tanta experiencia asi que no puedo da...     2.0   \n",
       "4  This is a basic credit card. The cash back dea...     4.0   \n",
       "\n",
       "                                    company  \n",
       "0     American Express Blue Cash Preferred   \n",
       "1                           Credit One Bank  \n",
       "2           Capital One Quicksilver Rewards  \n",
       "3                     Citi Double Cash Card  \n",
       "4  Bank of America Cash Rewards Credit Card  "
      ]
     },
     "execution_count": 4,
     "metadata": {},
     "output_type": "execute_result"
    }
   ],
   "source": [
    "df = pd.read_csv('../data/all_data.csv')\n",
    "print('Data size = {}'.format(df.shape))\n",
    "df.head()"
   ]
  },
  {
   "cell_type": "code",
   "execution_count": 5,
   "metadata": {},
   "outputs": [
    {
     "data": {
      "text/plain": [
       "reviews    0\n",
       "rating     0\n",
       "company    0\n",
       "dtype: int64"
      ]
     },
     "execution_count": 5,
     "metadata": {},
     "output_type": "execute_result"
    }
   ],
   "source": [
    "# Missing values\n",
    "df.isnull().sum()"
   ]
  },
  {
   "cell_type": "code",
   "execution_count": 5,
   "metadata": {},
   "outputs": [
    {
     "data": {
      "text/plain": [
       "company\n",
       "Bank of America Cash Rewards Credit Card    2476\n",
       "Capital One Quicksilver Rewards             2292\n",
       "Capital One Venture Rewards                 2204\n",
       "Capital One Platinum                        2103\n",
       "Credit One Bank                             2016\n",
       "Name: reviews, dtype: int64"
      ]
     },
     "execution_count": 5,
     "metadata": {},
     "output_type": "execute_result"
    }
   ],
   "source": [
    "# Count of total reviews to each credit card\n",
    "review_count = df.groupby('company')['reviews'].count().sort_values(ascending = False)\n",
    "review_count.head()"
   ]
  },
  {
   "cell_type": "code",
   "execution_count": 6,
   "metadata": {},
   "outputs": [
    {
     "data": {
      "text/plain": [
       "40"
      ]
     },
     "execution_count": 6,
     "metadata": {},
     "output_type": "execute_result"
    }
   ],
   "source": [
    "len(review_count)"
   ]
  },
  {
   "cell_type": "code",
   "execution_count": 7,
   "metadata": {},
   "outputs": [],
   "source": [
    "# Data Pre-processing\n",
    "df = model.pre_process_text(df, 'reviews')"
   ]
  },
  {
   "cell_type": "markdown",
   "metadata": {},
   "source": [
    "## Sentiment analysis with Vader & Textblob"
   ]
  },
  {
   "cell_type": "code",
   "execution_count": 12,
   "metadata": {},
   "outputs": [
    {
     "data": {
      "text/html": [
       "<div>\n",
       "<style scoped>\n",
       "    .dataframe tbody tr th:only-of-type {\n",
       "        vertical-align: middle;\n",
       "    }\n",
       "\n",
       "    .dataframe tbody tr th {\n",
       "        vertical-align: top;\n",
       "    }\n",
       "\n",
       "    .dataframe thead th {\n",
       "        text-align: right;\n",
       "    }\n",
       "</style>\n",
       "<table border=\"1\" class=\"dataframe\">\n",
       "  <thead>\n",
       "    <tr style=\"text-align: right;\">\n",
       "      <th></th>\n",
       "      <th>reviews</th>\n",
       "      <th>rating</th>\n",
       "      <th>company</th>\n",
       "      <th>vader_sentiment</th>\n",
       "      <th>blob_sentiment</th>\n",
       "    </tr>\n",
       "  </thead>\n",
       "  <tbody>\n",
       "    <tr>\n",
       "      <th>0</th>\n",
       "      <td>great card! we get cash back for our grocery a...</td>\n",
       "      <td>4.0</td>\n",
       "      <td>American Express Blue Cash Preferred</td>\n",
       "      <td>0.7455</td>\n",
       "      <td>0.2645</td>\n",
       "    </tr>\n",
       "    <tr>\n",
       "      <th>1</th>\n",
       "      <td>while traveling we had to keep calling the cre...</td>\n",
       "      <td>1.0</td>\n",
       "      <td>Credit One Bank</td>\n",
       "      <td>0.2335</td>\n",
       "      <td>-0.0875</td>\n",
       "    </tr>\n",
       "    <tr>\n",
       "      <th>2</th>\n",
       "      <td>great card to have! love all the additional cr...</td>\n",
       "      <td>5.0</td>\n",
       "      <td>Capital One Quicksilver Rewards</td>\n",
       "      <td>0.9097</td>\n",
       "      <td>0.8125</td>\n",
       "    </tr>\n",
       "    <tr>\n",
       "      <th>3</th>\n",
       "      <td>no tengo tanta experiencia asi que no puedo da...</td>\n",
       "      <td>2.0</td>\n",
       "      <td>Citi Double Cash Card</td>\n",
       "      <td>-0.5267</td>\n",
       "      <td>0.0000</td>\n",
       "    </tr>\n",
       "    <tr>\n",
       "      <th>4</th>\n",
       "      <td>this is a basic credit card  the cash back dea...</td>\n",
       "      <td>4.0</td>\n",
       "      <td>Bank of America Cash Rewards Credit Card</td>\n",
       "      <td>0.7269</td>\n",
       "      <td>0.2600</td>\n",
       "    </tr>\n",
       "  </tbody>\n",
       "</table>\n",
       "</div>"
      ],
      "text/plain": [
       "                                             reviews  rating  \\\n",
       "0  great card! we get cash back for our grocery a...     4.0   \n",
       "1  while traveling we had to keep calling the cre...     1.0   \n",
       "2  great card to have! love all the additional cr...     5.0   \n",
       "3  no tengo tanta experiencia asi que no puedo da...     2.0   \n",
       "4  this is a basic credit card  the cash back dea...     4.0   \n",
       "\n",
       "                                    company  vader_sentiment  blob_sentiment  \n",
       "0     American Express Blue Cash Preferred            0.7455          0.2645  \n",
       "1                           Credit One Bank           0.2335         -0.0875  \n",
       "2           Capital One Quicksilver Rewards           0.9097          0.8125  \n",
       "3                     Citi Double Cash Card          -0.5267          0.0000  \n",
       "4  Bank of America Cash Rewards Credit Card           0.7269          0.2600  "
      ]
     },
     "execution_count": 12,
     "metadata": {},
     "output_type": "execute_result"
    }
   ],
   "source": [
    "df['vader_sentiment'] = df.reviews.apply(model.vader_polarity_scores)\n",
    "df['blob_sentiment'] = df.reviews.apply(model.blob_polarity_scores)\n",
    "df.head()"
   ]
  },
  {
   "cell_type": "markdown",
   "metadata": {},
   "source": [
    "## Plots"
   ]
  },
  {
   "cell_type": "code",
   "execution_count": 13,
   "metadata": {},
   "outputs": [
    {
     "data": {
      "image/png": "[encoded data removed]",
      "text/plain": [
       "<Figure size 720x432 with 1 Axes>"
      ]
     },
     "metadata": {
      "needs_background": "light"
     },
     "output_type": "display_data"
    }
   ],
   "source": [
    "# Plot of Vader analysis\n",
    "df[df.rating == 1].vader_sentiment.hist(bins = 'auto',figsize=(10,6), label = 'One star')\n",
    "df[df.rating == 2].vader_sentiment.hist(bins = 'auto',label = 'Two stars')\n",
    "df[df.rating == 3].vader_sentiment.hist(bins = 'auto',label = 'Three stars')\n",
    "df[df.rating == 4].vader_sentiment.hist(bins = 'auto',label = 'Four stars')\n",
    "df[df.rating == 5].vader_sentiment.hist(bins = 'auto',label = 'Five stars')\n",
    "plt.legend(loc = 'best')\n",
    "plt.show()"
   ]
  },
  {
   "cell_type": "code",
   "execution_count": 14,
   "metadata": {},
   "outputs": [
    {
     "data": {
      "image/png": "[encoded data removed]",
      "text/plain": [
       "<Figure size 720x432 with 1 Axes>"
      ]
     },
     "metadata": {
      "needs_background": "light"
     },
     "output_type": "display_data"
    }
   ],
   "source": [
    "# Plot of Textblob analysis\n",
    "df[df.rating == 1].blob_sentiment.hist(bins = 'auto',figsize=(10,6), label = 'One star')\n",
    "df[df.rating == 2].blob_sentiment.hist(bins = 'auto',figsize=(10,6),label = 'Two stars')\n",
    "df[df.rating == 3].blob_sentiment.hist(bins = 'auto',figsize=(10,6),label = 'Three stars')\n",
    "df[df.rating == 4].blob_sentiment.hist(bins = 'auto',figsize=(10,6),label = 'Four stars')\n",
    "df[df.rating == 5].blob_sentiment.hist(bins = 'auto',figsize=(10,6),label = 'Five stars')\n",
    "plt.legend(loc = 'upper left')\n",
    "plt.show()"
   ]
  },
  {
   "cell_type": "code",
   "execution_count": 15,
   "metadata": {},
   "outputs": [
    {
     "data": {
      "image/png": "[encoded data removed]",
      "text/plain": [
       "<Figure size 1440x432 with 2 Axes>"
      ]
     },
     "metadata": {
      "needs_background": "light"
     },
     "output_type": "display_data"
    }
   ],
   "source": [
    "gridsize = (1, 2)\n",
    "fig = plt.figure(figsize=(20, 6))\n",
    "ax1 = plt.subplot2grid(gridsize, (0, 0))\n",
    "ax2 = plt.subplot2grid(gridsize, (0, 1))\n",
    "sns.boxenplot(x = 'rating', y = 'blob_sentiment', data = df, ax = ax1)\n",
    "sns.boxenplot(x = 'rating', y = 'vader_sentiment', data = df, ax = ax2)\n",
    "plt.show()"
   ]
  },
  {
   "cell_type": "markdown",
   "metadata": {},
   "source": [
    "## The most negative polarity with 4 or 5 star rating (VADER)"
   ]
  },
  {
   "cell_type": "code",
   "execution_count": 16,
   "metadata": {},
   "outputs": [
    {
     "data": {
      "text/html": [
       "<div>\n",
       "<style scoped>\n",
       "    .dataframe tbody tr th:only-of-type {\n",
       "        vertical-align: middle;\n",
       "    }\n",
       "\n",
       "    .dataframe tbody tr th {\n",
       "        vertical-align: top;\n",
       "    }\n",
       "\n",
       "    .dataframe thead th {\n",
       "        text-align: right;\n",
       "    }\n",
       "</style>\n",
       "<table border=\"1\" class=\"dataframe\">\n",
       "  <thead>\n",
       "    <tr style=\"text-align: right;\">\n",
       "      <th></th>\n",
       "      <th>reviews</th>\n",
       "      <th>rating</th>\n",
       "      <th>vader_sentiment</th>\n",
       "    </tr>\n",
       "  </thead>\n",
       "  <tbody>\n",
       "  </tbody>\n",
       "</table>\n",
       "</div>"
      ],
      "text/plain": [
       "Empty DataFrame\n",
       "Columns: [reviews, rating, vader_sentiment]\n",
       "Index: []"
      ]
     },
     "execution_count": 16,
     "metadata": {},
     "output_type": "execute_result"
    }
   ],
   "source": [
    "df[(df.rating >= 4) & (df.vader_sentiment == -1)][['reviews', 'rating', 'vader_sentiment']]"
   ]
  },
  {
   "cell_type": "markdown",
   "metadata": {},
   "source": [
    "## The most positive polarity with 1 star rating (VADER)"
   ]
  },
  {
   "cell_type": "code",
   "execution_count": 17,
   "metadata": {},
   "outputs": [
    {
     "data": {
      "text/html": [
       "<div>\n",
       "<style scoped>\n",
       "    .dataframe tbody tr th:only-of-type {\n",
       "        vertical-align: middle;\n",
       "    }\n",
       "\n",
       "    .dataframe tbody tr th {\n",
       "        vertical-align: top;\n",
       "    }\n",
       "\n",
       "    .dataframe thead th {\n",
       "        text-align: right;\n",
       "    }\n",
       "</style>\n",
       "<table border=\"1\" class=\"dataframe\">\n",
       "  <thead>\n",
       "    <tr style=\"text-align: right;\">\n",
       "      <th></th>\n",
       "      <th>reviews</th>\n",
       "      <th>rating</th>\n",
       "      <th>vader_sentiment</th>\n",
       "    </tr>\n",
       "  </thead>\n",
       "  <tbody>\n",
       "  </tbody>\n",
       "</table>\n",
       "</div>"
      ],
      "text/plain": [
       "Empty DataFrame\n",
       "Columns: [reviews, rating, vader_sentiment]\n",
       "Index: []"
      ]
     },
     "execution_count": 17,
     "metadata": {},
     "output_type": "execute_result"
    }
   ],
   "source": [
    "df[(df.rating == 1) & (df.vader_sentiment == 1)][['reviews', 'rating', 'vader_sentiment']]"
   ]
  },
  {
   "cell_type": "markdown",
   "metadata": {},
   "source": [
    "## Mean sentiment for each credit card (VADER)"
   ]
  },
  {
   "cell_type": "code",
   "execution_count": 18,
   "metadata": {},
   "outputs": [
    {
     "data": {
      "text/plain": [
       "company\n",
       "Chase Freedom Unlimited                               0.92\n",
       "Chase Sapphire Preffered Card                         0.84\n",
       "Capital One Secured Credit Card                       0.84\n",
       "Bank of America Cash Rewards Credit Card              0.76\n",
       "Citi Double Cash Card                                 0.75\n",
       "Discover it Secured                                   0.73\n",
       "American Express Business Gold Rewards Credit Card    0.72\n",
       "Bank of America Travel Rewards Credit Card            0.72\n",
       "American Express Blue Cash Preferred                  0.71\n",
       "TD Cash Visa Credit Card                              0.70\n",
       "Discover it Cash Back                                 0.69\n",
       "Capital One Venture Rewards                           0.68\n",
       "Citi Diamond Preferred Card                           0.67\n",
       "Capital One Quicksilver Rewards                       0.67\n",
       "Discover it Miles                                     0.67\n",
       "Citi Simplicity Card                                  0.66\n",
       "Capital One Platinum                                  0.65\n",
       "Merrick Bank                                          0.57\n",
       "OpenSky Secured Visa Credit Card                      0.55\n",
       "RBC VISA                                              0.53\n",
       "Chase Amazon Reward Visa                              0.47\n",
       "Citi Platinum World Elite                             0.46\n",
       "Canadian Tire MASTERCARD                              0.46\n",
       "BMO MASTERCARD                                        0.43\n",
       "TD First Class Travel VISA Infinite Card              0.28\n",
       "Costco Anywhere Visa Card by Citi                     0.26\n",
       "HomeTrust Secured VISA                                0.25\n",
       "PayPal Credit                                         0.17\n",
       "Premier Bankcard                                      0.05\n",
       "Presidents Choice Financial                           0.02\n",
       "Credit One Bank                                       0.01\n",
       "American Express Platinum Card                       -0.01\n",
       "Capital One Platinum Costco MASTERCARD               -0.01\n",
       "Walmart MASTERCARD                                   -0.02\n",
       "Barclays Bank                                        -0.02\n",
       "Sears Credit Card                                    -0.05\n",
       "Target Credit Card                                   -0.07\n",
       "Rogers MASTERCARD                                    -0.09\n",
       "Eppicard                                             -0.23\n",
       "Aspire Visa                                          -0.25\n",
       "Name: vader_sentiment, dtype: float64"
      ]
     },
     "execution_count": 18,
     "metadata": {},
     "output_type": "execute_result"
    }
   ],
   "source": [
    "df.groupby('company')['vader_sentiment'].mean().sort_values(ascending = False).round(2)"
   ]
  },
  {
   "cell_type": "code",
   "execution_count": null,
   "metadata": {},
   "outputs": [],
   "source": []
  }
 ],
 "metadata": {
  "kernelspec": {
   "display_name": "Python 3",
   "language": "python",
   "name": "python3"
  },
  "language_info": {
   "codemirror_mode": {
    "name": "ipython",
    "version": 3
   },
   "file_extension": ".py",
   "mimetype": "text/x-python",
   "name": "python",
   "nbconvert_exporter": "python",
   "pygments_lexer": "ipython3",
   "version": "3.9.4"
  }
 },
 "nbformat": 4,
 "nbformat_minor": 4
}
