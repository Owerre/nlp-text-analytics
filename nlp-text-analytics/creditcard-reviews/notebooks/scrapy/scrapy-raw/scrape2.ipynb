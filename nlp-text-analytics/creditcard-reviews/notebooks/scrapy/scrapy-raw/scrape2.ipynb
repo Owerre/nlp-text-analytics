{
 "cells": [
  {
   "cell_type": "code",
   "execution_count": 1,
   "metadata": {},
   "outputs": [],
   "source": [
    "import requests\n",
    "from bs4 import BeautifulSoup\n",
    "from urllib3.exceptions import MaxRetryError\n",
    "from urllib.error import HTTPError\n",
    "import pandas as pd\n",
    "pd.set_option('display.max_colwidth', -1)\n",
    "from urllib.request import urlopen\n",
    "import time\n",
    "import json\n",
    "import csv\n",
    "import sys"
   ]
  },
  {
   "cell_type": "code",
   "execution_count": 53,
   "metadata": {},
   "outputs": [],
   "source": [
    "def get_data(num_of_pages):\n",
    "    \n",
    "    reviews =[]\n",
    "    ratings = []\n",
    "    brands = []\n",
    "    for i in range(num_of_pages):\n",
    "        start_url = 'https://www.consumeraffairs.com/credit_cards/target-credit-card.html?page={}'.format(i)\n",
    "        req = requests.get(start_url).text\n",
    "        soup = BeautifulSoup(req, 'lxml')\n",
    "        for review in soup.find_all('div',class_=\"rvw-bd ca-txt-bd-2\"):\n",
    "            for s in review.find_all('p'):\n",
    "                res = s.text\n",
    "                if res != '':\n",
    "                    reviews.append(res)\n",
    "\n",
    "        for rating in soup.find_all('meta',itemprop=\"ratingValue\"):\n",
    "            if rating:\n",
    "                ratings.append(rating[\"content\"])\n",
    "\n",
    "        for brand in soup.find_all('h1',class_=\"prf-hr-tl__cpy-nm \", itemprop=\"name\"):\n",
    "            brands.append(brand.text) \n",
    "\n",
    "    with open('review24.json', 'w') as f:\n",
    "        json.dump(reviews,f)\n",
    "\n",
    "    with open('rating24.json', 'w') as f:\n",
    "        json.dump(ratings,f)\n",
    "\n",
    "    with open('company24.json', 'w') as f:\n",
    "        json.dump(brands,f)"
   ]
  },
  {
   "cell_type": "code",
   "execution_count": 54,
   "metadata": {},
   "outputs": [],
   "source": [
    "get_data(50)"
   ]
  },
  {
   "cell_type": "code",
   "execution_count": 88,
   "metadata": {},
   "outputs": [
    {
     "data": {
      "text/plain": [
       "5    1340\n",
       "4    939 \n",
       "1    289 \n",
       "3    288 \n",
       "2    110 \n",
       "Name: rating, dtype: int64"
      ]
     },
     "execution_count": 88,
     "metadata": {},
     "output_type": "execute_result"
    }
   ],
   "source": [
    "gg= pd.read_json('capitalone_rating.json')\n",
    "gg.rating.value_counts()"
   ]
  }
 ],
 "metadata": {
  "kernelspec": {
   "display_name": "Python 3",
   "language": "python",
   "name": "python3"
  },
  "language_info": {
   "codemirror_mode": {
    "name": "ipython",
    "version": 3
   },
   "file_extension": ".py",
   "mimetype": "text/x-python",
   "name": "python",
   "nbconvert_exporter": "python",
   "pygments_lexer": "ipython3",
   "version": "3.7.3"
  }
 },
 "nbformat": 4,
 "nbformat_minor": 2
}
