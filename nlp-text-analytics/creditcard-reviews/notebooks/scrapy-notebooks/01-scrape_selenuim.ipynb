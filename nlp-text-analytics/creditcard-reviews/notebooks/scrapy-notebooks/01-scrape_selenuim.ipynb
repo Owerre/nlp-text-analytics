{
 "cells": [
  {
   "cell_type": "code",
   "execution_count": 6,
   "metadata": {},
   "outputs": [],
   "source": [
    "from selenium import webdriver\n",
    "from selenium.webdriver.chrome.service import Service\n",
    "from bs4 import BeautifulSoup\n",
    "import pandas as pd\n",
    "import sys\n",
    "import json"
   ]
  },
  {
   "cell_type": "code",
   "execution_count": 7,
   "metadata": {},
   "outputs": [],
   "source": [
    "def make_soup(start_url):\n",
    "    \"\"\"Beautiful parser.\"\"\"\n",
    "    s=Service('enter-base-path/chrome-driver/chromedriver')\n",
    "    browser = webdriver.Chrome(service=s)\n",
    "    browser.get(start_url)\n",
    "    browser.implicitly_wait(100)\n",
    "    html = browser.page_source\n",
    "    bs = BeautifulSoup(html, 'lxml')\n",
    "    return bs"
   ]
  },
  {
   "cell_type": "code",
   "execution_count": 8,
   "metadata": {},
   "outputs": [],
   "source": [
    "# From: https://gist.github.com/vladignatyev/06860ec2040cb497f0f3\n",
    "def progress(count, total, status=''):\n",
    "    \"\"\"Displays an inline progress bar\"\"\"\n",
    "    bar_len = 60\n",
    "    filled_len = int(round(bar_len * count / float(total)))\n",
    "\n",
    "    percents = round(100.0 * count / float(total), 1)\n",
    "    bar = '=' * filled_len + '-' * (bar_len - filled_len)\n",
    "\n",
    "    sys.stdout.write('[%s] %s%s ...%s\\r' % (bar, percents, '%', status))\n",
    "    sys.stdout.flush()"
   ]
  },
  {
   "cell_type": "code",
   "execution_count": 9,
   "metadata": {},
   "outputs": [],
   "source": [
    "def get_links(start_url):\n",
    "    \"\"\"Fetch all the links to the next page\"\"\"\n",
    "    count = 0\n",
    "    links =set()\n",
    "    links.add(start_url)\n",
    "    soup = make_soup(start_url)\n",
    "    all_links = soup.find('div', class_=\"paginator\").find_all('a')\n",
    "    total = len(all_links)\n",
    "    for link in all_links:\n",
    "        if link:\n",
    "            links.add('https://www.influenster.com/'+link['href'])\n",
    "        progress(count, total - 1, \"Fetching links\")\n",
    "        count += 1\n",
    "    return links"
   ]
  },
  {
   "cell_type": "code",
   "execution_count": 16,
   "metadata": {},
   "outputs": [
    {
     "name": "stdout",
     "output_type": "stream",
     "text": [
      "[============================================================] 100.0% ...Fetching links\r"
     ]
    },
    {
     "data": {
      "text/plain": [
       "{'https://www.influenster.com//reviews/citi-simplicity-credit-card?review_page=10',\n",
       " 'https://www.influenster.com//reviews/citi-simplicity-credit-card?review_page=2',\n",
       " 'https://www.influenster.com//reviews/citi-simplicity-credit-card?review_page=3',\n",
       " 'https://www.influenster.com//reviews/citi-simplicity-credit-card?review_page=4',\n",
       " 'https://www.influenster.com//reviews/citi-simplicity-credit-card?review_page=5',\n",
       " 'https://www.influenster.com//reviews/citi-simplicity-credit-card?review_page=6',\n",
       " 'https://www.influenster.com//reviews/citi-simplicity-credit-card?review_page=7',\n",
       " 'https://www.influenster.com//reviews/citi-simplicity-credit-card?review_page=8',\n",
       " 'https://www.influenster.com//reviews/citi-simplicity-credit-card?review_page=9',\n",
       " 'https://www.influenster.com/reviews/citi-simplicity-credit-card'}"
      ]
     },
     "execution_count": 16,
     "metadata": {},
     "output_type": "execute_result"
    }
   ],
   "source": [
    "get_links('https://www.influenster.com/reviews/citi-simplicity-credit-card')"
   ]
  },
  {
   "cell_type": "code",
   "execution_count": 17,
   "metadata": {},
   "outputs": [],
   "source": [
    "# links to next page\n",
    "url_links = []\n",
    "for i in range(1,76):\n",
    "    urls = 'https://www.influenster.com/reviews/citi-simplicity-credit-card?review_page={}'.format(i)\n",
    "    url_links.append(urls)"
   ]
  },
  {
   "cell_type": "code",
   "execution_count": 18,
   "metadata": {},
   "outputs": [
    {
     "data": {
      "text/plain": [
       "75"
      ]
     },
     "execution_count": 18,
     "metadata": {},
     "output_type": "execute_result"
    }
   ],
   "source": [
    "len(url_links)"
   ]
  },
  {
   "cell_type": "code",
   "execution_count": 19,
   "metadata": {},
   "outputs": [],
   "source": [
    "def get_data(start_url):\n",
    "    \"\"\"Fetch data from each link\"\"\"\n",
    "    links = url_links; #get_links(start_url)\n",
    "    count = 0\n",
    "    total = len(links)\n",
    "    content = []\n",
    "    ratings = []\n",
    "    \n",
    "    for link in links:\n",
    "            soup = make_soup(link)\n",
    "            progress(count, total - 1, \"Fetching data\")\n",
    "            count += 1\n",
    "            for review in soup.find_all('div', class_=\"content-item-text review-text\",itemprop=\"reviewBody\"):\n",
    "                content.append(review.text.strip('\\n'))\n",
    "            for rating in soup.find_all('div', class_ = 'avg-stars'):\n",
    "                star = float(rating['data-stars'])\n",
    "                if star.is_integer() is True:\n",
    "                    ratings.append(star)\n",
    "                \n",
    "    review_dict = {'reviews':content}\n",
    "    rating_dict = {'rating':ratings}\n",
    "    \n",
    "    with open('../raw_data/review_citi_simplicity.json', 'a') as f:\n",
    "        json.dump(review_dict,f)\n",
    "    with open('../raw_data/rating_citi_simplicity.json', 'a') as f:\n",
    "        json.dump(rating_dict,f)"
   ]
  },
  {
   "cell_type": "code",
   "execution_count": 20,
   "metadata": {},
   "outputs": [
    {
     "name": "stdout",
     "output_type": "stream",
     "text": [
      "[============================================================] 100.0% ...Fetching data\r"
     ]
    }
   ],
   "source": [
    "get_data('https://www.influenster.com/reviews/citi-simplicity-credit-card')"
   ]
  },
  {
   "cell_type": "code",
   "execution_count": 21,
   "metadata": {},
   "outputs": [
    {
     "data": {
      "text/html": [
       "<div>\n",
       "<style scoped>\n",
       "    .dataframe tbody tr th:only-of-type {\n",
       "        vertical-align: middle;\n",
       "    }\n",
       "\n",
       "    .dataframe tbody tr th {\n",
       "        vertical-align: top;\n",
       "    }\n",
       "\n",
       "    .dataframe thead th {\n",
       "        text-align: right;\n",
       "    }\n",
       "</style>\n",
       "<table border=\"1\" class=\"dataframe\">\n",
       "  <thead>\n",
       "    <tr style=\"text-align: right;\">\n",
       "      <th></th>\n",
       "      <th>reviews</th>\n",
       "      <th>rating</th>\n",
       "      <th>company</th>\n",
       "    </tr>\n",
       "  </thead>\n",
       "  <tbody>\n",
       "    <tr>\n",
       "      <td>738</td>\n",
       "      <td>Great card...</td>\n",
       "      <td>4</td>\n",
       "      <td>Citi Simplicity Card</td>\n",
       "    </tr>\n",
       "    <tr>\n",
       "      <td>739</td>\n",
       "      <td>I have use...</td>\n",
       "      <td>5</td>\n",
       "      <td>Citi Simplicity Card</td>\n",
       "    </tr>\n",
       "    <tr>\n",
       "      <td>740</td>\n",
       "      <td>Es muy bue...</td>\n",
       "      <td>5</td>\n",
       "      <td>Citi Simplicity Card</td>\n",
       "    </tr>\n",
       "    <tr>\n",
       "      <td>741</td>\n",
       "      <td>I like usi...</td>\n",
       "      <td>5</td>\n",
       "      <td>Citi Simplicity Card</td>\n",
       "    </tr>\n",
       "    <tr>\n",
       "      <td>742</td>\n",
       "      <td>Great cust...</td>\n",
       "      <td>5</td>\n",
       "      <td>Citi Simplicity Card</td>\n",
       "    </tr>\n",
       "  </tbody>\n",
       "</table>\n",
       "</div>"
      ],
      "text/plain": [
       "                                               reviews  rating  \\\n",
       "738                                      Great card...       4   \n",
       "739                                      I have use...       5   \n",
       "740                                      Es muy bue...       5   \n",
       "741                                      I like usi...       5   \n",
       "742                                      Great cust...       5   \n",
       "\n",
       "                  company  \n",
       "738  Citi Simplicity Card  \n",
       "739  Citi Simplicity Card  \n",
       "740  Citi Simplicity Card  \n",
       "741  Citi Simplicity Card  \n",
       "742  Citi Simplicity Card  "
      ]
     },
     "execution_count": 21,
     "metadata": {},
     "output_type": "execute_result"
    }
   ],
   "source": [
    "# save data as csv dataframe\n",
    "df_review = pd.read_json('../raw_data/review_citi_simplicity.json')\n",
    "df_rating = pd.read_json('../raw_data/rating_citi_simplicity.json')\n",
    "df_review.reviews = df_review.reviews.str.replace(r\"\\n\", \"\")\n",
    "df_review['rating'] = df_rating\n",
    "df_review['company'] = 'Citi Simplicity Card'\n",
    "df_review.to_csv('../raw_data/citi_simplicity.csv', index = False)\n",
    "df_review.tail()"
   ]
  },
  {
   "cell_type": "code",
   "execution_count": null,
   "metadata": {},
   "outputs": [],
   "source": []
  }
 ],
 "metadata": {
  "kernelspec": {
   "display_name": "Python 3.9.4 64-bit",
   "language": "python",
   "name": "python3"
  },
  "language_info": {
   "codemirror_mode": {
    "name": "ipython",
    "version": 3
   },
   "file_extension": ".py",
   "mimetype": "text/x-python",
   "name": "python",
   "nbconvert_exporter": "python",
   "pygments_lexer": "ipython3",
   "version": "3.9.4"
  },
  "vscode": {
   "interpreter": {
    "hash": "aee8b7b246df8f9039afb4144a1f6fd8d2ca17a180786b69acc140d282b71a49"
   }
  }
 },
 "nbformat": 4,
 "nbformat_minor": 4
}
